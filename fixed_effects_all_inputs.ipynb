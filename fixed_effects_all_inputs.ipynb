{
 "cells": [
  {
   "cell_type": "code",
   "execution_count": 1,
   "metadata": {},
   "outputs": [],
   "source": [
    "import pandas as pd\n",
    "import statsmodels.api as sm"
   ]
  },
  {
   "cell_type": "code",
   "execution_count": 2,
   "metadata": {},
   "outputs": [],
   "source": [
    "# Function to prepare called-pitches dataframe for modelling\n",
    "# Output: X, y\n",
    "# X is a dataframe of observations of the input variables\n",
    "# y is a series of observations of the response variable\n",
    "# Function may take the better part of a minute to run (~37 secs on my CPU)\n",
    "# This is almost entirely due to the line which creates the UPM column\n",
    "def prepare_df(df):\n",
    "    # Drop counts where number of balls is > 3\n",
    "    df = df[df['count'].apply(lambda x: x[0]!='4')]\n",
    "    \n",
    "    # Convert strike-given-called to int\n",
    "    df['strike_given_called'] = df['strike_given_called'].apply(int)\n",
    "    \n",
    "    # Make column to check when umpire's race matches pitcher's race\n",
    "    # (1 if match, 0 if mismatch)\n",
    "    df['upm'] = df.apply(lambda x: x.pitcher_race==x.umpire_race, axis=1).apply(int)\n",
    "    \n",
    "    # Drop the race-value columns\n",
    "    df = df.drop(labels=['pitcher_race', 'umpire_race'], axis=1)\n",
    "    \n",
    "    # Convert innings greater than the ninth to 9\n",
    "    df.inning = df.inning.apply(lambda x: min(x,9))\n",
    "    \n",
    "    # Turn counts and innings into dummy variables\n",
    "    df = pd.get_dummies(df, columns=['count', 'inning'], drop_first=True)\n",
    "    \n",
    "    # Rearrange and rename columns\n",
    "    new_cols = ['strike_given_called', 'upm', 'home_pitcher', 'run_diff',\n",
    "            'count_0-1', 'count_0-2', 'count_1-0', 'count_1-1', 'count_1-2', 'count_2-0', 'count_2-1', 'count_2-2',\n",
    "           'count_3-0', 'count_3-1', 'count_3-2',\n",
    "           'inning_2', 'inning_3', 'inning_4', 'inning_5', 'inning_6', 'inning_7', 'inning_8', 'inning_9']\n",
    "    df = df[new_cols]\n",
    "    df = df.rename(columns={'inning_9': 'inning_9+'})\n",
    "    \n",
    "    # Add intercept column\n",
    "    df['intercept'] = 1\n",
    "    \n",
    "    # Return X dataframe, y series\n",
    "    return df.drop(labels=['strike_given_called'], axis=1), df['strike_given_called'] "
   ]
  },
  {
   "cell_type": "code",
   "execution_count": 3,
   "metadata": {},
   "outputs": [],
   "source": [
    "cp_df = pd.read_csv(\"cp_merged.csv\")"
   ]
  },
  {
   "cell_type": "code",
   "execution_count": 4,
   "metadata": {},
   "outputs": [
    {
     "data": {
      "text/plain": [
       "white       1011465\n",
       "black         70230\n",
       "hispanic      54806\n",
       "Name: umpire_race, dtype: int64"
      ]
     },
     "execution_count": 4,
     "metadata": {},
     "output_type": "execute_result"
    }
   ],
   "source": [
    "cp_df.umpire_race.value_counts()"
   ]
  },
  {
   "cell_type": "markdown",
   "metadata": {},
   "source": [
    "## Effects of UPM when Umpire is white"
   ]
  },
  {
   "cell_type": "code",
   "execution_count": 5,
   "metadata": {},
   "outputs": [
    {
     "data": {
      "text/html": [
       "<div>\n",
       "<style scoped>\n",
       "    .dataframe tbody tr th:only-of-type {\n",
       "        vertical-align: middle;\n",
       "    }\n",
       "\n",
       "    .dataframe tbody tr th {\n",
       "        vertical-align: top;\n",
       "    }\n",
       "\n",
       "    .dataframe thead th {\n",
       "        text-align: right;\n",
       "    }\n",
       "</style>\n",
       "<table border=\"1\" class=\"dataframe\">\n",
       "  <thead>\n",
       "    <tr style=\"text-align: right;\">\n",
       "      <th></th>\n",
       "      <th>count</th>\n",
       "      <th>home_pitcher</th>\n",
       "      <th>inning</th>\n",
       "      <th>run_diff</th>\n",
       "      <th>strike_given_called</th>\n",
       "      <th>pitcher_race</th>\n",
       "      <th>umpire_race</th>\n",
       "    </tr>\n",
       "  </thead>\n",
       "  <tbody>\n",
       "    <tr>\n",
       "      <th>0</th>\n",
       "      <td>0-0</td>\n",
       "      <td>1</td>\n",
       "      <td>1</td>\n",
       "      <td>0</td>\n",
       "      <td>True</td>\n",
       "      <td>white</td>\n",
       "      <td>white</td>\n",
       "    </tr>\n",
       "    <tr>\n",
       "      <th>1</th>\n",
       "      <td>0-0</td>\n",
       "      <td>1</td>\n",
       "      <td>1</td>\n",
       "      <td>0</td>\n",
       "      <td>False</td>\n",
       "      <td>white</td>\n",
       "      <td>white</td>\n",
       "    </tr>\n",
       "    <tr>\n",
       "      <th>2</th>\n",
       "      <td>1-1</td>\n",
       "      <td>1</td>\n",
       "      <td>1</td>\n",
       "      <td>0</td>\n",
       "      <td>True</td>\n",
       "      <td>white</td>\n",
       "      <td>white</td>\n",
       "    </tr>\n",
       "    <tr>\n",
       "      <th>3</th>\n",
       "      <td>1-2</td>\n",
       "      <td>1</td>\n",
       "      <td>1</td>\n",
       "      <td>0</td>\n",
       "      <td>False</td>\n",
       "      <td>white</td>\n",
       "      <td>white</td>\n",
       "    </tr>\n",
       "    <tr>\n",
       "      <th>4</th>\n",
       "      <td>0-0</td>\n",
       "      <td>1</td>\n",
       "      <td>1</td>\n",
       "      <td>0</td>\n",
       "      <td>False</td>\n",
       "      <td>white</td>\n",
       "      <td>white</td>\n",
       "    </tr>\n",
       "  </tbody>\n",
       "</table>\n",
       "</div>"
      ],
      "text/plain": [
       "  count  home_pitcher  inning  run_diff  strike_given_called pitcher_race  \\\n",
       "0   0-0             1       1         0                 True        white   \n",
       "1   0-0             1       1         0                False        white   \n",
       "2   1-1             1       1         0                 True        white   \n",
       "3   1-2             1       1         0                False        white   \n",
       "4   0-0             1       1         0                False        white   \n",
       "\n",
       "  umpire_race  \n",
       "0       white  \n",
       "1       white  \n",
       "2       white  \n",
       "3       white  \n",
       "4       white  "
      ]
     },
     "execution_count": 5,
     "metadata": {},
     "output_type": "execute_result"
    }
   ],
   "source": [
    "cp_df.head()"
   ]
  },
  {
   "cell_type": "code",
   "execution_count": 6,
   "metadata": {},
   "outputs": [
    {
     "data": {
      "text/html": [
       "<div>\n",
       "<style scoped>\n",
       "    .dataframe tbody tr th:only-of-type {\n",
       "        vertical-align: middle;\n",
       "    }\n",
       "\n",
       "    .dataframe tbody tr th {\n",
       "        vertical-align: top;\n",
       "    }\n",
       "\n",
       "    .dataframe thead th {\n",
       "        text-align: right;\n",
       "    }\n",
       "</style>\n",
       "<table border=\"1\" class=\"dataframe\">\n",
       "  <thead>\n",
       "    <tr style=\"text-align: right;\">\n",
       "      <th></th>\n",
       "      <th>count</th>\n",
       "      <th>home_pitcher</th>\n",
       "      <th>inning</th>\n",
       "      <th>run_diff</th>\n",
       "      <th>strike_given_called</th>\n",
       "      <th>pitcher_race</th>\n",
       "      <th>umpire_race</th>\n",
       "    </tr>\n",
       "  </thead>\n",
       "  <tbody>\n",
       "    <tr>\n",
       "      <th>0</th>\n",
       "      <td>0-0</td>\n",
       "      <td>1</td>\n",
       "      <td>1</td>\n",
       "      <td>0</td>\n",
       "      <td>True</td>\n",
       "      <td>white</td>\n",
       "      <td>white</td>\n",
       "    </tr>\n",
       "    <tr>\n",
       "      <th>1</th>\n",
       "      <td>0-0</td>\n",
       "      <td>1</td>\n",
       "      <td>1</td>\n",
       "      <td>0</td>\n",
       "      <td>False</td>\n",
       "      <td>white</td>\n",
       "      <td>white</td>\n",
       "    </tr>\n",
       "    <tr>\n",
       "      <th>2</th>\n",
       "      <td>1-1</td>\n",
       "      <td>1</td>\n",
       "      <td>1</td>\n",
       "      <td>0</td>\n",
       "      <td>True</td>\n",
       "      <td>white</td>\n",
       "      <td>white</td>\n",
       "    </tr>\n",
       "    <tr>\n",
       "      <th>3</th>\n",
       "      <td>1-2</td>\n",
       "      <td>1</td>\n",
       "      <td>1</td>\n",
       "      <td>0</td>\n",
       "      <td>False</td>\n",
       "      <td>white</td>\n",
       "      <td>white</td>\n",
       "    </tr>\n",
       "    <tr>\n",
       "      <th>4</th>\n",
       "      <td>0-0</td>\n",
       "      <td>1</td>\n",
       "      <td>1</td>\n",
       "      <td>0</td>\n",
       "      <td>False</td>\n",
       "      <td>white</td>\n",
       "      <td>white</td>\n",
       "    </tr>\n",
       "  </tbody>\n",
       "</table>\n",
       "</div>"
      ],
      "text/plain": [
       "  count  home_pitcher  inning  run_diff  strike_given_called pitcher_race  \\\n",
       "0   0-0             1       1         0                 True        white   \n",
       "1   0-0             1       1         0                False        white   \n",
       "2   1-1             1       1         0                 True        white   \n",
       "3   1-2             1       1         0                False        white   \n",
       "4   0-0             1       1         0                False        white   \n",
       "\n",
       "  umpire_race  \n",
       "0       white  \n",
       "1       white  \n",
       "2       white  \n",
       "3       white  \n",
       "4       white  "
      ]
     },
     "execution_count": 6,
     "metadata": {},
     "output_type": "execute_result"
    }
   ],
   "source": [
    "white_umpire = cp_df[cp_df.umpire_race == 'white']\n",
    "white_umpire.head()"
   ]
  },
  {
   "cell_type": "code",
   "execution_count": 7,
   "metadata": {},
   "outputs": [
    {
     "name": "stderr",
     "output_type": "stream",
     "text": [
      "/anaconda3/lib/python3.7/site-packages/ipykernel_launcher.py:12: SettingWithCopyWarning: \n",
      "A value is trying to be set on a copy of a slice from a DataFrame.\n",
      "Try using .loc[row_indexer,col_indexer] = value instead\n",
      "\n",
      "See the caveats in the documentation: http://pandas.pydata.org/pandas-docs/stable/indexing.html#indexing-view-versus-copy\n",
      "  if sys.path[0] == '':\n",
      "/anaconda3/lib/python3.7/site-packages/ipykernel_launcher.py:16: SettingWithCopyWarning: \n",
      "A value is trying to be set on a copy of a slice from a DataFrame.\n",
      "Try using .loc[row_indexer,col_indexer] = value instead\n",
      "\n",
      "See the caveats in the documentation: http://pandas.pydata.org/pandas-docs/stable/indexing.html#indexing-view-versus-copy\n",
      "  app.launch_new_instance()\n"
     ]
    },
    {
     "name": "stdout",
     "output_type": "stream",
     "text": [
      "CPU times: user 34 s, sys: 312 ms, total: 34.3 s\n",
      "Wall time: 33.9 s\n"
     ]
    }
   ],
   "source": [
    "%time X, y = prepare_df(white_umpire)"
   ]
  },
  {
   "cell_type": "code",
   "execution_count": 8,
   "metadata": {},
   "outputs": [
    {
     "name": "stdout",
     "output_type": "stream",
     "text": [
      "Optimization terminated successfully.\n",
      "         Current function value: 0.581129\n",
      "         Iterations 6\n"
     ]
    }
   ],
   "source": [
    "result = sm.Logit(y,X).fit()"
   ]
  },
  {
   "cell_type": "code",
   "execution_count": 9,
   "metadata": {},
   "outputs": [
    {
     "name": "stdout",
     "output_type": "stream",
     "text": [
      "                            Logit Regression Results                           \n",
      "===============================================================================\n",
      "Dep. Variable:     strike_given_called   No. Observations:              1011460\n",
      "Model:                           Logit   Df Residuals:                  1011437\n",
      "Method:                            MLE   Df Model:                           22\n",
      "Date:                 Sat, 06 Jul 2019   Pseudo R-squ.:                 0.08224\n",
      "Time:                         10:52:27   Log-Likelihood:            -5.8779e+05\n",
      "converged:                        True   LL-Null:                   -6.4046e+05\n",
      "                                         LLR p-value:                     0.000\n",
      "================================================================================\n",
      "                   coef    std err          z      P>|z|      [0.025      0.975]\n",
      "--------------------------------------------------------------------------------\n",
      "upm              0.0053      0.005      1.091      0.275      -0.004       0.015\n",
      "home_pitcher     0.0456      0.004     10.181      0.000       0.037       0.054\n",
      "run_diff         0.0158      0.001     20.676      0.000       0.014       0.017\n",
      "count_0-1       -1.1127      0.008   -147.460      0.000      -1.128      -1.098\n",
      "count_0-2       -2.2577      0.015   -147.383      0.000      -2.288      -2.228\n",
      "count_1-0       -0.1649      0.007    -23.815      0.000      -0.178      -0.151\n",
      "count_1-1       -0.9210      0.008   -109.326      0.000      -0.938      -0.904\n",
      "count_1-2       -2.0140      0.013   -159.614      0.000      -2.039      -1.989\n",
      "count_2-0        0.0349      0.011      3.195      0.001       0.013       0.056\n",
      "count_2-1       -0.7008      0.011    -61.043      0.000      -0.723      -0.678\n",
      "count_2-2       -1.6175      0.013   -124.061      0.000      -1.643      -1.592\n",
      "count_3-0        0.7688      0.016     48.219      0.000       0.738       0.800\n",
      "count_3-1       -0.2912      0.016    -18.402      0.000      -0.322      -0.260\n",
      "count_3-2       -1.2888      0.017    -75.001      0.000      -1.322      -1.255\n",
      "inning_2         0.0146      0.009      1.595      0.111      -0.003       0.032\n",
      "inning_3        -0.0288      0.009     -3.145      0.002      -0.047      -0.011\n",
      "inning_4        -0.1038      0.009    -11.214      0.000      -0.122      -0.086\n",
      "inning_5        -0.0878      0.009     -9.478      0.000      -0.106      -0.070\n",
      "inning_6        -0.1408      0.009    -15.165      0.000      -0.159      -0.123\n",
      "inning_7        -0.1027      0.009    -11.081      0.000      -0.121      -0.085\n",
      "inning_8        -0.0843      0.009     -9.073      0.000      -0.103      -0.066\n",
      "inning_9+       -0.0600      0.009     -6.397      0.000      -0.078      -0.042\n",
      "intercept       -0.1376      0.008    -17.393      0.000      -0.153      -0.122\n",
      "================================================================================\n"
     ]
    }
   ],
   "source": [
    "print(result.summary())"
   ]
  },
  {
   "cell_type": "markdown",
   "metadata": {},
   "source": [
    "## Fixed effects when umpire is black"
   ]
  },
  {
   "cell_type": "code",
   "execution_count": 10,
   "metadata": {},
   "outputs": [
    {
     "data": {
      "text/html": [
       "<div>\n",
       "<style scoped>\n",
       "    .dataframe tbody tr th:only-of-type {\n",
       "        vertical-align: middle;\n",
       "    }\n",
       "\n",
       "    .dataframe tbody tr th {\n",
       "        vertical-align: top;\n",
       "    }\n",
       "\n",
       "    .dataframe thead th {\n",
       "        text-align: right;\n",
       "    }\n",
       "</style>\n",
       "<table border=\"1\" class=\"dataframe\">\n",
       "  <thead>\n",
       "    <tr style=\"text-align: right;\">\n",
       "      <th></th>\n",
       "      <th>count</th>\n",
       "      <th>home_pitcher</th>\n",
       "      <th>inning</th>\n",
       "      <th>run_diff</th>\n",
       "      <th>strike_given_called</th>\n",
       "      <th>pitcher_race</th>\n",
       "      <th>umpire_race</th>\n",
       "    </tr>\n",
       "  </thead>\n",
       "  <tbody>\n",
       "    <tr>\n",
       "      <th>5274</th>\n",
       "      <td>0-0</td>\n",
       "      <td>1</td>\n",
       "      <td>1</td>\n",
       "      <td>0</td>\n",
       "      <td>False</td>\n",
       "      <td>white</td>\n",
       "      <td>black</td>\n",
       "    </tr>\n",
       "    <tr>\n",
       "      <th>5275</th>\n",
       "      <td>1-1</td>\n",
       "      <td>1</td>\n",
       "      <td>1</td>\n",
       "      <td>0</td>\n",
       "      <td>True</td>\n",
       "      <td>white</td>\n",
       "      <td>black</td>\n",
       "    </tr>\n",
       "    <tr>\n",
       "      <th>5276</th>\n",
       "      <td>1-2</td>\n",
       "      <td>1</td>\n",
       "      <td>1</td>\n",
       "      <td>0</td>\n",
       "      <td>False</td>\n",
       "      <td>white</td>\n",
       "      <td>black</td>\n",
       "    </tr>\n",
       "    <tr>\n",
       "      <th>5277</th>\n",
       "      <td>0-1</td>\n",
       "      <td>1</td>\n",
       "      <td>1</td>\n",
       "      <td>0</td>\n",
       "      <td>False</td>\n",
       "      <td>white</td>\n",
       "      <td>black</td>\n",
       "    </tr>\n",
       "    <tr>\n",
       "      <th>5278</th>\n",
       "      <td>1-2</td>\n",
       "      <td>1</td>\n",
       "      <td>1</td>\n",
       "      <td>0</td>\n",
       "      <td>False</td>\n",
       "      <td>white</td>\n",
       "      <td>black</td>\n",
       "    </tr>\n",
       "  </tbody>\n",
       "</table>\n",
       "</div>"
      ],
      "text/plain": [
       "     count  home_pitcher  inning  run_diff  strike_given_called pitcher_race  \\\n",
       "5274   0-0             1       1         0                False        white   \n",
       "5275   1-1             1       1         0                 True        white   \n",
       "5276   1-2             1       1         0                False        white   \n",
       "5277   0-1             1       1         0                False        white   \n",
       "5278   1-2             1       1         0                False        white   \n",
       "\n",
       "     umpire_race  \n",
       "5274       black  \n",
       "5275       black  \n",
       "5276       black  \n",
       "5277       black  \n",
       "5278       black  "
      ]
     },
     "execution_count": 10,
     "metadata": {},
     "output_type": "execute_result"
    }
   ],
   "source": [
    "black_umpire = cp_df[cp_df.umpire_race == 'black']\n",
    "black_umpire.head()"
   ]
  },
  {
   "cell_type": "code",
   "execution_count": 11,
   "metadata": {},
   "outputs": [],
   "source": [
    "X, y = prepare_df(black_umpire)"
   ]
  },
  {
   "cell_type": "code",
   "execution_count": 12,
   "metadata": {},
   "outputs": [
    {
     "name": "stdout",
     "output_type": "stream",
     "text": [
      "Optimization terminated successfully.\n",
      "         Current function value: 0.578704\n",
      "         Iterations 6\n"
     ]
    }
   ],
   "source": [
    "results = sm.Logit(y,X).fit()"
   ]
  },
  {
   "cell_type": "code",
   "execution_count": 13,
   "metadata": {},
   "outputs": [
    {
     "name": "stdout",
     "output_type": "stream",
     "text": [
      "                            Logit Regression Results                           \n",
      "===============================================================================\n",
      "Dep. Variable:     strike_given_called   No. Observations:                70230\n",
      "Model:                           Logit   Df Residuals:                    70207\n",
      "Method:                            MLE   Df Model:                           22\n",
      "Date:                 Sat, 06 Jul 2019   Pseudo R-squ.:                 0.08512\n",
      "Time:                         10:52:41   Log-Likelihood:                -40642.\n",
      "converged:                        True   LL-Null:                       -44424.\n",
      "                                         LLR p-value:                     0.000\n",
      "================================================================================\n",
      "                   coef    std err          z      P>|z|      [0.025      0.975]\n",
      "--------------------------------------------------------------------------------\n",
      "upm             -0.0675      0.034     -1.968      0.049      -0.135      -0.000\n",
      "home_pitcher    -0.0046      0.017     -0.268      0.789      -0.038       0.029\n",
      "run_diff         0.0075      0.003      2.749      0.006       0.002       0.013\n",
      "count_0-1       -1.1575      0.029    -39.992      0.000      -1.214      -1.101\n",
      "count_0-2       -2.2820      0.059    -38.712      0.000      -2.397      -2.166\n",
      "count_1-0       -0.1475      0.026     -5.613      0.000      -0.199      -0.096\n",
      "count_1-1       -0.9792      0.032    -30.320      0.000      -1.042      -0.916\n",
      "count_1-2       -2.0222      0.048    -42.087      0.000      -2.116      -1.928\n",
      "count_2-0        0.0759      0.042      1.820      0.069      -0.006       0.158\n",
      "count_2-1       -0.7499      0.043    -17.303      0.000      -0.835      -0.665\n",
      "count_2-2       -1.6533      0.050    -32.788      0.000      -1.752      -1.554\n",
      "count_3-0        0.8049      0.062     13.037      0.000       0.684       0.926\n",
      "count_3-1       -0.2210      0.059     -3.766      0.000      -0.336      -0.106\n",
      "count_3-2       -1.2556      0.064    -19.638      0.000      -1.381      -1.130\n",
      "inning_2         0.0626      0.035      1.810      0.070      -0.005       0.130\n",
      "inning_3         0.0556      0.035      1.589      0.112      -0.013       0.124\n",
      "inning_4        -0.1294      0.035     -3.665      0.000      -0.199      -0.060\n",
      "inning_5        -0.0103      0.035     -0.292      0.771      -0.079       0.059\n",
      "inning_6        -0.0585      0.036     -1.640      0.101      -0.128       0.011\n",
      "inning_7        -0.0761      0.036     -2.142      0.032      -0.146      -0.006\n",
      "inning_8        -0.0429      0.035     -1.218      0.223      -0.112       0.026\n",
      "inning_9+       -0.0246      0.036     -0.691      0.489      -0.094       0.045\n",
      "intercept       -0.1427      0.027     -5.222      0.000      -0.196      -0.089\n",
      "================================================================================\n"
     ]
    }
   ],
   "source": [
    "print(results.summary())"
   ]
  },
  {
   "cell_type": "markdown",
   "metadata": {},
   "source": [
    "## Fixed effects when the umpire is hispanic"
   ]
  },
  {
   "cell_type": "code",
   "execution_count": 14,
   "metadata": {},
   "outputs": [
    {
     "data": {
      "text/html": [
       "<div>\n",
       "<style scoped>\n",
       "    .dataframe tbody tr th:only-of-type {\n",
       "        vertical-align: middle;\n",
       "    }\n",
       "\n",
       "    .dataframe tbody tr th {\n",
       "        vertical-align: top;\n",
       "    }\n",
       "\n",
       "    .dataframe thead th {\n",
       "        text-align: right;\n",
       "    }\n",
       "</style>\n",
       "<table border=\"1\" class=\"dataframe\">\n",
       "  <thead>\n",
       "    <tr style=\"text-align: right;\">\n",
       "      <th></th>\n",
       "      <th>count</th>\n",
       "      <th>home_pitcher</th>\n",
       "      <th>inning</th>\n",
       "      <th>run_diff</th>\n",
       "      <th>strike_given_called</th>\n",
       "      <th>pitcher_race</th>\n",
       "      <th>umpire_race</th>\n",
       "    </tr>\n",
       "  </thead>\n",
       "  <tbody>\n",
       "    <tr>\n",
       "      <th>2642</th>\n",
       "      <td>0-0</td>\n",
       "      <td>1</td>\n",
       "      <td>1</td>\n",
       "      <td>0</td>\n",
       "      <td>False</td>\n",
       "      <td>white</td>\n",
       "      <td>hispanic</td>\n",
       "    </tr>\n",
       "    <tr>\n",
       "      <th>2643</th>\n",
       "      <td>1-0</td>\n",
       "      <td>1</td>\n",
       "      <td>1</td>\n",
       "      <td>0</td>\n",
       "      <td>True</td>\n",
       "      <td>white</td>\n",
       "      <td>hispanic</td>\n",
       "    </tr>\n",
       "    <tr>\n",
       "      <th>2644</th>\n",
       "      <td>1-1</td>\n",
       "      <td>1</td>\n",
       "      <td>1</td>\n",
       "      <td>0</td>\n",
       "      <td>False</td>\n",
       "      <td>white</td>\n",
       "      <td>hispanic</td>\n",
       "    </tr>\n",
       "    <tr>\n",
       "      <th>2645</th>\n",
       "      <td>0-1</td>\n",
       "      <td>1</td>\n",
       "      <td>1</td>\n",
       "      <td>0</td>\n",
       "      <td>False</td>\n",
       "      <td>white</td>\n",
       "      <td>hispanic</td>\n",
       "    </tr>\n",
       "    <tr>\n",
       "      <th>2646</th>\n",
       "      <td>0-0</td>\n",
       "      <td>1</td>\n",
       "      <td>1</td>\n",
       "      <td>0</td>\n",
       "      <td>False</td>\n",
       "      <td>white</td>\n",
       "      <td>hispanic</td>\n",
       "    </tr>\n",
       "  </tbody>\n",
       "</table>\n",
       "</div>"
      ],
      "text/plain": [
       "     count  home_pitcher  inning  run_diff  strike_given_called pitcher_race  \\\n",
       "2642   0-0             1       1         0                False        white   \n",
       "2643   1-0             1       1         0                 True        white   \n",
       "2644   1-1             1       1         0                False        white   \n",
       "2645   0-1             1       1         0                False        white   \n",
       "2646   0-0             1       1         0                False        white   \n",
       "\n",
       "     umpire_race  \n",
       "2642    hispanic  \n",
       "2643    hispanic  \n",
       "2644    hispanic  \n",
       "2645    hispanic  \n",
       "2646    hispanic  "
      ]
     },
     "execution_count": 14,
     "metadata": {},
     "output_type": "execute_result"
    }
   ],
   "source": [
    "hispanic_umpire = cp_df[cp_df.umpire_race == 'hispanic']\n",
    "hispanic_umpire.head()"
   ]
  },
  {
   "cell_type": "code",
   "execution_count": 15,
   "metadata": {},
   "outputs": [
    {
     "name": "stdout",
     "output_type": "stream",
     "text": [
      "CPU times: user 1.85 s, sys: 21.1 ms, total: 1.87 s\n",
      "Wall time: 1.89 s\n"
     ]
    }
   ],
   "source": [
    "%time X, y = prepare_df(hispanic_umpire)"
   ]
  },
  {
   "cell_type": "code",
   "execution_count": 16,
   "metadata": {},
   "outputs": [
    {
     "name": "stdout",
     "output_type": "stream",
     "text": [
      "Optimization terminated successfully.\n",
      "         Current function value: 0.576493\n",
      "         Iterations 6\n"
     ]
    }
   ],
   "source": [
    "results = sm.Logit(y,X).fit()"
   ]
  },
  {
   "cell_type": "code",
   "execution_count": 17,
   "metadata": {},
   "outputs": [
    {
     "name": "stdout",
     "output_type": "stream",
     "text": [
      "                            Logit Regression Results                           \n",
      "===============================================================================\n",
      "Dep. Variable:     strike_given_called   No. Observations:                54806\n",
      "Model:                           Logit   Df Residuals:                    54783\n",
      "Method:                            MLE   Df Model:                           22\n",
      "Date:                 Sat, 06 Jul 2019   Pseudo R-squ.:                 0.08525\n",
      "Time:                         10:52:48   Log-Likelihood:                -31595.\n",
      "converged:                        True   LL-Null:                       -34540.\n",
      "                                         LLR p-value:                     0.000\n",
      "================================================================================\n",
      "                   coef    std err          z      P>|z|      [0.025      0.975]\n",
      "--------------------------------------------------------------------------------\n",
      "upm             -0.0042      0.024     -0.177      0.860      -0.051       0.042\n",
      "home_pitcher     0.0860      0.019      4.454      0.000       0.048       0.124\n",
      "run_diff         0.0138      0.003      4.571      0.000       0.008       0.020\n",
      "count_0-1       -1.1425      0.033    -34.896      0.000      -1.207      -1.078\n",
      "count_0-2       -2.2907      0.067    -34.409      0.000      -2.421      -2.160\n",
      "count_1-0       -0.1749      0.030     -5.858      0.000      -0.233      -0.116\n",
      "count_1-1       -0.8861      0.036    -24.543      0.000      -0.957      -0.815\n",
      "count_1-2       -1.9931      0.053    -37.369      0.000      -2.098      -1.889\n",
      "count_2-0        0.0596      0.047      1.264      0.206      -0.033       0.152\n",
      "count_2-1       -0.6914      0.050    -13.851      0.000      -0.789      -0.594\n",
      "count_2-2       -1.7127      0.057    -29.911      0.000      -1.825      -1.600\n",
      "count_3-0        0.9074      0.070     12.985      0.000       0.770       1.044\n",
      "count_3-1       -0.3923      0.069     -5.668      0.000      -0.528      -0.257\n",
      "count_3-2       -1.2339      0.074    -16.569      0.000      -1.380      -1.088\n",
      "inning_2        -0.0553      0.039     -1.401      0.161      -0.133       0.022\n",
      "inning_3         0.0617      0.039      1.571      0.116      -0.015       0.139\n",
      "inning_4        -0.0609      0.040     -1.539      0.124      -0.138       0.017\n",
      "inning_5        -0.1284      0.040     -3.233      0.001      -0.206      -0.051\n",
      "inning_6        -0.1735      0.040     -4.311      0.000      -0.252      -0.095\n",
      "inning_7        -0.0822      0.040     -2.060      0.039      -0.160      -0.004\n",
      "inning_8        -0.1388      0.040     -3.457      0.001      -0.218      -0.060\n",
      "inning_9+       -0.0847      0.041     -2.073      0.038      -0.165      -0.005\n",
      "intercept       -0.1595      0.031     -5.114      0.000      -0.221      -0.098\n",
      "================================================================================\n"
     ]
    }
   ],
   "source": [
    "print(results.summary())"
   ]
  },
  {
   "cell_type": "code",
   "execution_count": 18,
   "metadata": {},
   "outputs": [
    {
     "data": {
      "text/plain": [
       "white       792601\n",
       "hispanic    242264\n",
       "black        72007\n",
       "asian        29629\n",
       "Name: pitcher_race, dtype: int64"
      ]
     },
     "execution_count": 18,
     "metadata": {},
     "output_type": "execute_result"
    }
   ],
   "source": [
    "cp_df.pitcher_race.value_counts()"
   ]
  },
  {
   "cell_type": "markdown",
   "metadata": {},
   "source": [
    "## Fixed effects when pitcher is white"
   ]
  },
  {
   "cell_type": "code",
   "execution_count": 19,
   "metadata": {},
   "outputs": [],
   "source": [
    "white_pitcher = cp_df[cp_df.pitcher_race == 'white']"
   ]
  },
  {
   "cell_type": "code",
   "execution_count": 20,
   "metadata": {},
   "outputs": [
    {
     "data": {
      "text/html": [
       "<div>\n",
       "<style scoped>\n",
       "    .dataframe tbody tr th:only-of-type {\n",
       "        vertical-align: middle;\n",
       "    }\n",
       "\n",
       "    .dataframe tbody tr th {\n",
       "        vertical-align: top;\n",
       "    }\n",
       "\n",
       "    .dataframe thead th {\n",
       "        text-align: right;\n",
       "    }\n",
       "</style>\n",
       "<table border=\"1\" class=\"dataframe\">\n",
       "  <thead>\n",
       "    <tr style=\"text-align: right;\">\n",
       "      <th></th>\n",
       "      <th>count</th>\n",
       "      <th>home_pitcher</th>\n",
       "      <th>inning</th>\n",
       "      <th>run_diff</th>\n",
       "      <th>strike_given_called</th>\n",
       "      <th>pitcher_race</th>\n",
       "      <th>umpire_race</th>\n",
       "    </tr>\n",
       "  </thead>\n",
       "  <tbody>\n",
       "    <tr>\n",
       "      <th>0</th>\n",
       "      <td>0-0</td>\n",
       "      <td>1</td>\n",
       "      <td>1</td>\n",
       "      <td>0</td>\n",
       "      <td>True</td>\n",
       "      <td>white</td>\n",
       "      <td>white</td>\n",
       "    </tr>\n",
       "    <tr>\n",
       "      <th>1</th>\n",
       "      <td>0-0</td>\n",
       "      <td>1</td>\n",
       "      <td>1</td>\n",
       "      <td>0</td>\n",
       "      <td>False</td>\n",
       "      <td>white</td>\n",
       "      <td>white</td>\n",
       "    </tr>\n",
       "    <tr>\n",
       "      <th>2</th>\n",
       "      <td>1-1</td>\n",
       "      <td>1</td>\n",
       "      <td>1</td>\n",
       "      <td>0</td>\n",
       "      <td>True</td>\n",
       "      <td>white</td>\n",
       "      <td>white</td>\n",
       "    </tr>\n",
       "    <tr>\n",
       "      <th>3</th>\n",
       "      <td>1-2</td>\n",
       "      <td>1</td>\n",
       "      <td>1</td>\n",
       "      <td>0</td>\n",
       "      <td>False</td>\n",
       "      <td>white</td>\n",
       "      <td>white</td>\n",
       "    </tr>\n",
       "    <tr>\n",
       "      <th>4</th>\n",
       "      <td>0-0</td>\n",
       "      <td>1</td>\n",
       "      <td>1</td>\n",
       "      <td>0</td>\n",
       "      <td>False</td>\n",
       "      <td>white</td>\n",
       "      <td>white</td>\n",
       "    </tr>\n",
       "  </tbody>\n",
       "</table>\n",
       "</div>"
      ],
      "text/plain": [
       "  count  home_pitcher  inning  run_diff  strike_given_called pitcher_race  \\\n",
       "0   0-0             1       1         0                 True        white   \n",
       "1   0-0             1       1         0                False        white   \n",
       "2   1-1             1       1         0                 True        white   \n",
       "3   1-2             1       1         0                False        white   \n",
       "4   0-0             1       1         0                False        white   \n",
       "\n",
       "  umpire_race  \n",
       "0       white  \n",
       "1       white  \n",
       "2       white  \n",
       "3       white  \n",
       "4       white  "
      ]
     },
     "execution_count": 20,
     "metadata": {},
     "output_type": "execute_result"
    }
   ],
   "source": [
    "white_pitcher.head()"
   ]
  },
  {
   "cell_type": "code",
   "execution_count": 21,
   "metadata": {},
   "outputs": [
    {
     "name": "stderr",
     "output_type": "stream",
     "text": [
      "/anaconda3/lib/python3.7/site-packages/ipykernel_launcher.py:12: SettingWithCopyWarning: \n",
      "A value is trying to be set on a copy of a slice from a DataFrame.\n",
      "Try using .loc[row_indexer,col_indexer] = value instead\n",
      "\n",
      "See the caveats in the documentation: http://pandas.pydata.org/pandas-docs/stable/indexing.html#indexing-view-versus-copy\n",
      "  if sys.path[0] == '':\n",
      "/anaconda3/lib/python3.7/site-packages/ipykernel_launcher.py:16: SettingWithCopyWarning: \n",
      "A value is trying to be set on a copy of a slice from a DataFrame.\n",
      "Try using .loc[row_indexer,col_indexer] = value instead\n",
      "\n",
      "See the caveats in the documentation: http://pandas.pydata.org/pandas-docs/stable/indexing.html#indexing-view-versus-copy\n",
      "  app.launch_new_instance()\n"
     ]
    },
    {
     "name": "stdout",
     "output_type": "stream",
     "text": [
      "CPU times: user 27.2 s, sys: 284 ms, total: 27.5 s\n",
      "Wall time: 27.1 s\n"
     ]
    }
   ],
   "source": [
    "%time X, y = prepare_df(white_pitcher)"
   ]
  },
  {
   "cell_type": "code",
   "execution_count": 22,
   "metadata": {},
   "outputs": [
    {
     "name": "stdout",
     "output_type": "stream",
     "text": [
      "Optimization terminated successfully.\n",
      "         Current function value: 0.580647\n",
      "         Iterations 6\n"
     ]
    }
   ],
   "source": [
    "results = sm.Logit(y,X).fit()"
   ]
  },
  {
   "cell_type": "code",
   "execution_count": 23,
   "metadata": {},
   "outputs": [
    {
     "name": "stdout",
     "output_type": "stream",
     "text": [
      "                            Logit Regression Results                           \n",
      "===============================================================================\n",
      "Dep. Variable:     strike_given_called   No. Observations:               792597\n",
      "Model:                           Logit   Df Residuals:                   792574\n",
      "Method:                            MLE   Df Model:                           22\n",
      "Date:                 Sat, 06 Jul 2019   Pseudo R-squ.:                 0.08288\n",
      "Time:                         10:53:33   Log-Likelihood:            -4.6022e+05\n",
      "converged:                        True   LL-Null:                   -5.0181e+05\n",
      "                                         LLR p-value:                     0.000\n",
      "================================================================================\n",
      "                   coef    std err          z      P>|z|      [0.025      0.975]\n",
      "--------------------------------------------------------------------------------\n",
      "upm              0.0038      0.008      0.476      0.634      -0.012       0.020\n",
      "home_pitcher     0.0425      0.005      8.412      0.000       0.033       0.052\n",
      "run_diff         0.0145      0.001     16.982      0.000       0.013       0.016\n",
      "count_0-1       -1.1245      0.009   -131.960      0.000      -1.141      -1.108\n",
      "count_0-2       -2.2792      0.017   -130.968      0.000      -2.313      -2.245\n",
      "count_1-0       -0.1710      0.008    -21.822      0.000      -0.186      -0.156\n",
      "count_1-1       -0.9286      0.010    -97.614      0.000      -0.947      -0.910\n",
      "count_1-2       -2.0167      0.014   -141.970      0.000      -2.045      -1.989\n",
      "count_2-0        0.0172      0.012      1.389      0.165      -0.007       0.042\n",
      "count_2-1       -0.7171      0.013    -55.136      0.000      -0.743      -0.692\n",
      "count_2-2       -1.6109      0.015   -109.798      0.000      -1.640      -1.582\n",
      "count_3-0        0.7900      0.018     43.608      0.000       0.755       0.826\n",
      "count_3-1       -0.2975      0.018    -16.677      0.000      -0.332      -0.263\n",
      "count_3-2       -1.2755      0.019    -65.683      0.000      -1.314      -1.237\n",
      "inning_2         0.0200      0.010      1.934      0.053      -0.000       0.040\n",
      "inning_3        -0.0193      0.010     -1.863      0.062      -0.040       0.001\n",
      "inning_4        -0.0982      0.010     -9.399      0.000      -0.119      -0.078\n",
      "inning_5        -0.0861      0.010     -8.214      0.000      -0.107      -0.066\n",
      "inning_6        -0.1289      0.010    -12.298      0.000      -0.149      -0.108\n",
      "inning_7        -0.0895      0.010     -8.580      0.000      -0.110      -0.069\n",
      "inning_8        -0.0723      0.010     -6.903      0.000      -0.093      -0.052\n",
      "inning_9+       -0.0649      0.011     -6.054      0.000      -0.086      -0.044\n",
      "intercept       -0.1365      0.011    -12.645      0.000      -0.158      -0.115\n",
      "================================================================================\n"
     ]
    }
   ],
   "source": [
    "print(results.summary())"
   ]
  },
  {
   "cell_type": "markdown",
   "metadata": {},
   "source": [
    "## Fixed effects when pitcher is hispanic"
   ]
  },
  {
   "cell_type": "code",
   "execution_count": 24,
   "metadata": {},
   "outputs": [
    {
     "data": {
      "text/html": [
       "<div>\n",
       "<style scoped>\n",
       "    .dataframe tbody tr th:only-of-type {\n",
       "        vertical-align: middle;\n",
       "    }\n",
       "\n",
       "    .dataframe tbody tr th {\n",
       "        vertical-align: top;\n",
       "    }\n",
       "\n",
       "    .dataframe thead th {\n",
       "        text-align: right;\n",
       "    }\n",
       "</style>\n",
       "<table border=\"1\" class=\"dataframe\">\n",
       "  <thead>\n",
       "    <tr style=\"text-align: right;\">\n",
       "      <th></th>\n",
       "      <th>count</th>\n",
       "      <th>home_pitcher</th>\n",
       "      <th>inning</th>\n",
       "      <th>run_diff</th>\n",
       "      <th>strike_given_called</th>\n",
       "      <th>pitcher_race</th>\n",
       "      <th>umpire_race</th>\n",
       "    </tr>\n",
       "  </thead>\n",
       "  <tbody>\n",
       "    <tr>\n",
       "      <th>123</th>\n",
       "      <td>0-0</td>\n",
       "      <td>0</td>\n",
       "      <td>8</td>\n",
       "      <td>-5</td>\n",
       "      <td>False</td>\n",
       "      <td>hispanic</td>\n",
       "      <td>white</td>\n",
       "    </tr>\n",
       "    <tr>\n",
       "      <th>124</th>\n",
       "      <td>1-0</td>\n",
       "      <td>0</td>\n",
       "      <td>8</td>\n",
       "      <td>-5</td>\n",
       "      <td>True</td>\n",
       "      <td>hispanic</td>\n",
       "      <td>white</td>\n",
       "    </tr>\n",
       "    <tr>\n",
       "      <th>125</th>\n",
       "      <td>1-2</td>\n",
       "      <td>0</td>\n",
       "      <td>8</td>\n",
       "      <td>-5</td>\n",
       "      <td>False</td>\n",
       "      <td>hispanic</td>\n",
       "      <td>white</td>\n",
       "    </tr>\n",
       "    <tr>\n",
       "      <th>126</th>\n",
       "      <td>2-2</td>\n",
       "      <td>0</td>\n",
       "      <td>8</td>\n",
       "      <td>-5</td>\n",
       "      <td>True</td>\n",
       "      <td>hispanic</td>\n",
       "      <td>white</td>\n",
       "    </tr>\n",
       "    <tr>\n",
       "      <th>127</th>\n",
       "      <td>0-0</td>\n",
       "      <td>0</td>\n",
       "      <td>8</td>\n",
       "      <td>-5</td>\n",
       "      <td>False</td>\n",
       "      <td>hispanic</td>\n",
       "      <td>white</td>\n",
       "    </tr>\n",
       "  </tbody>\n",
       "</table>\n",
       "</div>"
      ],
      "text/plain": [
       "    count  home_pitcher  inning  run_diff  strike_given_called pitcher_race  \\\n",
       "123   0-0             0       8        -5                False     hispanic   \n",
       "124   1-0             0       8        -5                 True     hispanic   \n",
       "125   1-2             0       8        -5                False     hispanic   \n",
       "126   2-2             0       8        -5                 True     hispanic   \n",
       "127   0-0             0       8        -5                False     hispanic   \n",
       "\n",
       "    umpire_race  \n",
       "123       white  \n",
       "124       white  \n",
       "125       white  \n",
       "126       white  \n",
       "127       white  "
      ]
     },
     "execution_count": 24,
     "metadata": {},
     "output_type": "execute_result"
    }
   ],
   "source": [
    "hispanic_pitcher = cp_df[cp_df.pitcher_race == 'hispanic']\n",
    "hispanic_pitcher.head()"
   ]
  },
  {
   "cell_type": "code",
   "execution_count": 25,
   "metadata": {},
   "outputs": [
    {
     "name": "stdout",
     "output_type": "stream",
     "text": [
      "CPU times: user 8.4 s, sys: 75.3 ms, total: 8.48 s\n",
      "Wall time: 8.23 s\n"
     ]
    }
   ],
   "source": [
    "%time X, y = prepare_df(hispanic_pitcher)"
   ]
  },
  {
   "cell_type": "code",
   "execution_count": 26,
   "metadata": {},
   "outputs": [
    {
     "name": "stdout",
     "output_type": "stream",
     "text": [
      "Optimization terminated successfully.\n",
      "         Current function value: 0.579984\n",
      "         Iterations 6\n"
     ]
    }
   ],
   "source": [
    "results = sm.Logit(y,X).fit()"
   ]
  },
  {
   "cell_type": "code",
   "execution_count": 27,
   "metadata": {},
   "outputs": [
    {
     "name": "stdout",
     "output_type": "stream",
     "text": [
      "                            Logit Regression Results                           \n",
      "===============================================================================\n",
      "Dep. Variable:     strike_given_called   No. Observations:               242264\n",
      "Model:                           Logit   Df Residuals:                   242241\n",
      "Method:                            MLE   Df Model:                           22\n",
      "Date:                 Sat, 06 Jul 2019   Pseudo R-squ.:                 0.08271\n",
      "Time:                         10:53:51   Log-Likelihood:            -1.4051e+05\n",
      "converged:                        True   LL-Null:                   -1.5318e+05\n",
      "                                         LLR p-value:                     0.000\n",
      "================================================================================\n",
      "                   coef    std err          z      P>|z|      [0.025      0.975]\n",
      "--------------------------------------------------------------------------------\n",
      "upm             -0.0115      0.022     -0.536      0.592      -0.054       0.031\n",
      "home_pitcher     0.0447      0.009      4.888      0.000       0.027       0.063\n",
      "run_diff         0.0147      0.002      9.361      0.000       0.012       0.018\n",
      "count_0-1       -1.1021      0.015    -71.265      0.000      -1.132      -1.072\n",
      "count_0-2       -2.2697      0.032    -71.545      0.000      -2.332      -2.208\n",
      "count_1-0       -0.1573      0.014    -11.137      0.000      -0.185      -0.130\n",
      "count_1-1       -0.9238      0.017    -53.523      0.000      -0.958      -0.890\n",
      "count_1-2       -2.0214      0.026    -77.515      0.000      -2.073      -1.970\n",
      "count_2-0        0.0667      0.022      3.008      0.003       0.023       0.110\n",
      "count_2-1       -0.6739      0.023    -29.043      0.000      -0.719      -0.628\n",
      "count_2-2       -1.6816      0.027    -62.001      0.000      -1.735      -1.628\n",
      "count_3-0        0.7233      0.032     22.405      0.000       0.660       0.787\n",
      "count_3-1       -0.2922      0.032     -9.025      0.000      -0.356      -0.229\n",
      "count_3-2       -1.3046      0.035    -37.690      0.000      -1.372      -1.237\n",
      "inning_2         0.0029      0.018      0.158      0.874      -0.033       0.039\n",
      "inning_3        -0.0188      0.018     -1.031      0.302      -0.055       0.017\n",
      "inning_4        -0.1048      0.019     -5.653      0.000      -0.141      -0.068\n",
      "inning_5        -0.0725      0.019     -3.908      0.000      -0.109      -0.036\n",
      "inning_6        -0.1719      0.019     -9.136      0.000      -0.209      -0.135\n",
      "inning_7        -0.1024      0.019     -5.405      0.000      -0.140      -0.065\n",
      "inning_8        -0.0924      0.019     -4.824      0.000      -0.130      -0.055\n",
      "inning_9+       -0.0378      0.019     -1.943      0.052      -0.076       0.000\n",
      "intercept       -0.1417      0.014     -9.854      0.000      -0.170      -0.113\n",
      "================================================================================\n"
     ]
    }
   ],
   "source": [
    "print(results.summary())"
   ]
  },
  {
   "cell_type": "markdown",
   "metadata": {},
   "source": [
    "## Fixed effects when pitcher is black"
   ]
  },
  {
   "cell_type": "code",
   "execution_count": 28,
   "metadata": {},
   "outputs": [
    {
     "data": {
      "text/html": [
       "<div>\n",
       "<style scoped>\n",
       "    .dataframe tbody tr th:only-of-type {\n",
       "        vertical-align: middle;\n",
       "    }\n",
       "\n",
       "    .dataframe tbody tr th {\n",
       "        vertical-align: top;\n",
       "    }\n",
       "\n",
       "    .dataframe thead th {\n",
       "        text-align: right;\n",
       "    }\n",
       "</style>\n",
       "<table border=\"1\" class=\"dataframe\">\n",
       "  <thead>\n",
       "    <tr style=\"text-align: right;\">\n",
       "      <th></th>\n",
       "      <th>count</th>\n",
       "      <th>home_pitcher</th>\n",
       "      <th>inning</th>\n",
       "      <th>run_diff</th>\n",
       "      <th>strike_given_called</th>\n",
       "      <th>pitcher_race</th>\n",
       "      <th>umpire_race</th>\n",
       "    </tr>\n",
       "  </thead>\n",
       "  <tbody>\n",
       "    <tr>\n",
       "      <th>674</th>\n",
       "      <td>0-0</td>\n",
       "      <td>1</td>\n",
       "      <td>9</td>\n",
       "      <td>0</td>\n",
       "      <td>True</td>\n",
       "      <td>black</td>\n",
       "      <td>white</td>\n",
       "    </tr>\n",
       "    <tr>\n",
       "      <th>675</th>\n",
       "      <td>0-1</td>\n",
       "      <td>1</td>\n",
       "      <td>9</td>\n",
       "      <td>0</td>\n",
       "      <td>True</td>\n",
       "      <td>black</td>\n",
       "      <td>white</td>\n",
       "    </tr>\n",
       "    <tr>\n",
       "      <th>676</th>\n",
       "      <td>0-2</td>\n",
       "      <td>1</td>\n",
       "      <td>9</td>\n",
       "      <td>0</td>\n",
       "      <td>True</td>\n",
       "      <td>black</td>\n",
       "      <td>white</td>\n",
       "    </tr>\n",
       "    <tr>\n",
       "      <th>677</th>\n",
       "      <td>0-0</td>\n",
       "      <td>1</td>\n",
       "      <td>9</td>\n",
       "      <td>0</td>\n",
       "      <td>False</td>\n",
       "      <td>black</td>\n",
       "      <td>white</td>\n",
       "    </tr>\n",
       "    <tr>\n",
       "      <th>678</th>\n",
       "      <td>1-1</td>\n",
       "      <td>1</td>\n",
       "      <td>9</td>\n",
       "      <td>0</td>\n",
       "      <td>False</td>\n",
       "      <td>black</td>\n",
       "      <td>white</td>\n",
       "    </tr>\n",
       "  </tbody>\n",
       "</table>\n",
       "</div>"
      ],
      "text/plain": [
       "    count  home_pitcher  inning  run_diff  strike_given_called pitcher_race  \\\n",
       "674   0-0             1       9         0                 True        black   \n",
       "675   0-1             1       9         0                 True        black   \n",
       "676   0-2             1       9         0                 True        black   \n",
       "677   0-0             1       9         0                False        black   \n",
       "678   1-1             1       9         0                False        black   \n",
       "\n",
       "    umpire_race  \n",
       "674       white  \n",
       "675       white  \n",
       "676       white  \n",
       "677       white  \n",
       "678       white  "
      ]
     },
     "execution_count": 28,
     "metadata": {},
     "output_type": "execute_result"
    }
   ],
   "source": [
    "black_pitcher = cp_df[cp_df.pitcher_race == 'black']\n",
    "black_pitcher.head()"
   ]
  },
  {
   "cell_type": "code",
   "execution_count": 29,
   "metadata": {},
   "outputs": [
    {
     "name": "stderr",
     "output_type": "stream",
     "text": [
      "/anaconda3/lib/python3.7/site-packages/ipykernel_launcher.py:12: SettingWithCopyWarning: \n",
      "A value is trying to be set on a copy of a slice from a DataFrame.\n",
      "Try using .loc[row_indexer,col_indexer] = value instead\n",
      "\n",
      "See the caveats in the documentation: http://pandas.pydata.org/pandas-docs/stable/indexing.html#indexing-view-versus-copy\n",
      "  if sys.path[0] == '':\n"
     ]
    },
    {
     "name": "stdout",
     "output_type": "stream",
     "text": [
      "CPU times: user 2.59 s, sys: 33.1 ms, total: 2.62 s\n",
      "Wall time: 2.57 s\n"
     ]
    },
    {
     "name": "stderr",
     "output_type": "stream",
     "text": [
      "/anaconda3/lib/python3.7/site-packages/ipykernel_launcher.py:16: SettingWithCopyWarning: \n",
      "A value is trying to be set on a copy of a slice from a DataFrame.\n",
      "Try using .loc[row_indexer,col_indexer] = value instead\n",
      "\n",
      "See the caveats in the documentation: http://pandas.pydata.org/pandas-docs/stable/indexing.html#indexing-view-versus-copy\n",
      "  app.launch_new_instance()\n"
     ]
    }
   ],
   "source": [
    "%time X, y = prepare_df(black_pitcher)"
   ]
  },
  {
   "cell_type": "code",
   "execution_count": 30,
   "metadata": {},
   "outputs": [
    {
     "name": "stdout",
     "output_type": "stream",
     "text": [
      "Optimization terminated successfully.\n",
      "         Current function value: 0.581704\n",
      "         Iterations 6\n"
     ]
    }
   ],
   "source": [
    "results = sm.Logit(y,X).fit()"
   ]
  },
  {
   "cell_type": "code",
   "execution_count": 31,
   "metadata": {},
   "outputs": [
    {
     "name": "stdout",
     "output_type": "stream",
     "text": [
      "                            Logit Regression Results                           \n",
      "===============================================================================\n",
      "Dep. Variable:     strike_given_called   No. Observations:                72006\n",
      "Model:                           Logit   Df Residuals:                    71983\n",
      "Method:                            MLE   Df Model:                           22\n",
      "Date:                 Sat, 06 Jul 2019   Pseudo R-squ.:                 0.07681\n",
      "Time:                         10:53:59   Log-Likelihood:                -41886.\n",
      "converged:                        True   LL-Null:                       -45371.\n",
      "                                         LLR p-value:                     0.000\n",
      "================================================================================\n",
      "                   coef    std err          z      P>|z|      [0.025      0.975]\n",
      "--------------------------------------------------------------------------------\n",
      "upm             -0.0397      0.034     -1.170      0.242      -0.106       0.027\n",
      "home_pitcher     0.0547      0.017      3.248      0.001       0.022       0.088\n",
      "run_diff         0.0191      0.003      7.139      0.000       0.014       0.024\n",
      "count_0-1       -1.0569      0.029    -36.624      0.000      -1.113      -1.000\n",
      "count_0-2       -2.0289      0.054    -37.307      0.000      -2.135      -1.922\n",
      "count_1-0       -0.1111      0.026     -4.324      0.000      -0.161      -0.061\n",
      "count_1-1       -0.8640      0.032    -27.200      0.000      -0.926      -0.802\n",
      "count_1-2       -1.9743      0.048    -40.726      0.000      -2.069      -1.879\n",
      "count_2-0        0.1369      0.040      3.457      0.001       0.059       0.214\n",
      "count_2-1       -0.6570      0.043    -15.271      0.000      -0.741      -0.573\n",
      "count_2-2       -1.5675      0.049    -31.724      0.000      -1.664      -1.471\n",
      "count_3-0        0.8018      0.058     13.867      0.000       0.688       0.915\n",
      "count_3-1       -0.2693      0.058     -4.643      0.000      -0.383      -0.156\n",
      "count_3-2       -1.3315      0.066    -20.168      0.000      -1.461      -1.202\n",
      "inning_2        -0.0018      0.039     -0.045      0.964      -0.079       0.075\n",
      "inning_3        -0.0029      0.039     -0.075      0.941      -0.080       0.074\n",
      "inning_4        -0.1370      0.040     -3.429      0.001      -0.215      -0.059\n",
      "inning_5        -0.1069      0.039     -2.747      0.006      -0.183      -0.031\n",
      "inning_6        -0.1266      0.038     -3.338      0.001      -0.201      -0.052\n",
      "inning_7        -0.1483      0.037     -4.018      0.000      -0.221      -0.076\n",
      "inning_8        -0.1461      0.035     -4.118      0.000      -0.216      -0.077\n",
      "inning_9+       -0.0469      0.033     -1.416      0.157      -0.112       0.018\n",
      "intercept       -0.1849      0.030     -6.136      0.000      -0.244      -0.126\n",
      "================================================================================\n"
     ]
    }
   ],
   "source": [
    "print(results.summary())"
   ]
  },
  {
   "cell_type": "markdown",
   "metadata": {},
   "source": [
    "## Fixed effects when pitcher is Asian:\n",
    "* We cannot examine the effects of whether or not an Asian pitcher matches the umpire on race, because none of the umpires in our data set were Asian."
   ]
  },
  {
   "cell_type": "markdown",
   "metadata": {},
   "source": [
    "# Matching on whiteness/non-whiteness"
   ]
  },
  {
   "cell_type": "code",
   "execution_count": 32,
   "metadata": {},
   "outputs": [
    {
     "data": {
      "text/html": [
       "<div>\n",
       "<style scoped>\n",
       "    .dataframe tbody tr th:only-of-type {\n",
       "        vertical-align: middle;\n",
       "    }\n",
       "\n",
       "    .dataframe tbody tr th {\n",
       "        vertical-align: top;\n",
       "    }\n",
       "\n",
       "    .dataframe thead th {\n",
       "        text-align: right;\n",
       "    }\n",
       "</style>\n",
       "<table border=\"1\" class=\"dataframe\">\n",
       "  <thead>\n",
       "    <tr style=\"text-align: right;\">\n",
       "      <th></th>\n",
       "      <th>count</th>\n",
       "      <th>home_pitcher</th>\n",
       "      <th>inning</th>\n",
       "      <th>run_diff</th>\n",
       "      <th>strike_given_called</th>\n",
       "      <th>pitcher_race</th>\n",
       "      <th>umpire_race</th>\n",
       "    </tr>\n",
       "  </thead>\n",
       "  <tbody>\n",
       "    <tr>\n",
       "      <th>0</th>\n",
       "      <td>0-0</td>\n",
       "      <td>1</td>\n",
       "      <td>1</td>\n",
       "      <td>0</td>\n",
       "      <td>True</td>\n",
       "      <td>white</td>\n",
       "      <td>white</td>\n",
       "    </tr>\n",
       "    <tr>\n",
       "      <th>1</th>\n",
       "      <td>0-0</td>\n",
       "      <td>1</td>\n",
       "      <td>1</td>\n",
       "      <td>0</td>\n",
       "      <td>False</td>\n",
       "      <td>white</td>\n",
       "      <td>white</td>\n",
       "    </tr>\n",
       "    <tr>\n",
       "      <th>2</th>\n",
       "      <td>1-1</td>\n",
       "      <td>1</td>\n",
       "      <td>1</td>\n",
       "      <td>0</td>\n",
       "      <td>True</td>\n",
       "      <td>white</td>\n",
       "      <td>white</td>\n",
       "    </tr>\n",
       "    <tr>\n",
       "      <th>3</th>\n",
       "      <td>1-2</td>\n",
       "      <td>1</td>\n",
       "      <td>1</td>\n",
       "      <td>0</td>\n",
       "      <td>False</td>\n",
       "      <td>white</td>\n",
       "      <td>white</td>\n",
       "    </tr>\n",
       "    <tr>\n",
       "      <th>4</th>\n",
       "      <td>0-0</td>\n",
       "      <td>1</td>\n",
       "      <td>1</td>\n",
       "      <td>0</td>\n",
       "      <td>False</td>\n",
       "      <td>white</td>\n",
       "      <td>white</td>\n",
       "    </tr>\n",
       "  </tbody>\n",
       "</table>\n",
       "</div>"
      ],
      "text/plain": [
       "  count  home_pitcher  inning  run_diff  strike_given_called pitcher_race  \\\n",
       "0   0-0             1       1         0                 True        white   \n",
       "1   0-0             1       1         0                False        white   \n",
       "2   1-1             1       1         0                 True        white   \n",
       "3   1-2             1       1         0                False        white   \n",
       "4   0-0             1       1         0                False        white   \n",
       "\n",
       "  umpire_race  \n",
       "0       white  \n",
       "1       white  \n",
       "2       white  \n",
       "3       white  \n",
       "4       white  "
      ]
     },
     "execution_count": 32,
     "metadata": {},
     "output_type": "execute_result"
    }
   ],
   "source": [
    "cp_df.head()"
   ]
  },
  {
   "cell_type": "code",
   "execution_count": 33,
   "metadata": {},
   "outputs": [],
   "source": [
    "def white_or_not(s):\n",
    "    if s == 'white':\n",
    "        return 'white'\n",
    "    else:\n",
    "        return 'nonwhite'"
   ]
  },
  {
   "cell_type": "code",
   "execution_count": 34,
   "metadata": {},
   "outputs": [],
   "source": [
    "wcp_df = cp_df"
   ]
  },
  {
   "cell_type": "code",
   "execution_count": 35,
   "metadata": {},
   "outputs": [],
   "source": [
    "wcp_df.pitcher_race = wcp_df.pitcher_race.apply(white_or_not)"
   ]
  },
  {
   "cell_type": "code",
   "execution_count": 36,
   "metadata": {},
   "outputs": [],
   "source": [
    "wcp_df.umpire_race = wcp_df.umpire_race.apply(white_or_not)"
   ]
  },
  {
   "cell_type": "code",
   "execution_count": 37,
   "metadata": {},
   "outputs": [
    {
     "name": "stderr",
     "output_type": "stream",
     "text": [
      "/anaconda3/lib/python3.7/site-packages/ipykernel_launcher.py:12: SettingWithCopyWarning: \n",
      "A value is trying to be set on a copy of a slice from a DataFrame.\n",
      "Try using .loc[row_indexer,col_indexer] = value instead\n",
      "\n",
      "See the caveats in the documentation: http://pandas.pydata.org/pandas-docs/stable/indexing.html#indexing-view-versus-copy\n",
      "  if sys.path[0] == '':\n",
      "/anaconda3/lib/python3.7/site-packages/ipykernel_launcher.py:16: SettingWithCopyWarning: \n",
      "A value is trying to be set on a copy of a slice from a DataFrame.\n",
      "Try using .loc[row_indexer,col_indexer] = value instead\n",
      "\n",
      "See the caveats in the documentation: http://pandas.pydata.org/pandas-docs/stable/indexing.html#indexing-view-versus-copy\n",
      "  app.launch_new_instance()\n"
     ]
    },
    {
     "name": "stdout",
     "output_type": "stream",
     "text": [
      "CPU times: user 38.5 s, sys: 421 ms, total: 38.9 s\n",
      "Wall time: 38.5 s\n"
     ]
    }
   ],
   "source": [
    "%time X, y = prepare_df(wcp_df)"
   ]
  },
  {
   "cell_type": "code",
   "execution_count": 38,
   "metadata": {},
   "outputs": [
    {
     "name": "stdout",
     "output_type": "stream",
     "text": [
      "Optimization terminated successfully.\n",
      "         Current function value: 0.580796\n",
      "         Iterations 6\n"
     ]
    }
   ],
   "source": [
    "results = sm.Logit(y,X).fit()"
   ]
  },
  {
   "cell_type": "code",
   "execution_count": 39,
   "metadata": {},
   "outputs": [
    {
     "name": "stdout",
     "output_type": "stream",
     "text": [
      "                            Logit Regression Results                           \n",
      "===============================================================================\n",
      "Dep. Variable:     strike_given_called   No. Observations:              1136496\n",
      "Model:                           Logit   Df Residuals:                  1136473\n",
      "Method:                            MLE   Df Model:                           22\n",
      "Date:                 Sat, 06 Jul 2019   Pseudo R-squ.:                 0.08250\n",
      "Time:                         10:56:37   Log-Likelihood:            -6.6007e+05\n",
      "converged:                        True   LL-Null:                   -7.1942e+05\n",
      "                                         LLR p-value:                     0.000\n",
      "================================================================================\n",
      "                   coef    std err          z      P>|z|      [0.025      0.975]\n",
      "--------------------------------------------------------------------------------\n",
      "upm              0.0036      0.004      0.805      0.421      -0.005       0.012\n",
      "home_pitcher     0.0445      0.004     10.535      0.000       0.036       0.053\n",
      "run_diff         0.0151      0.001     21.209      0.000       0.014       0.017\n",
      "count_0-1       -1.1167      0.007   -156.696      0.000      -1.131      -1.103\n",
      "count_0-2       -2.2604      0.014   -156.204      0.000      -2.289      -2.232\n",
      "count_1-0       -0.1644      0.007    -25.165      0.000      -0.177      -0.152\n",
      "count_1-1       -0.9228      0.008   -116.058      0.000      -0.938      -0.907\n",
      "count_1-2       -2.0133      0.012   -169.233      0.000      -2.037      -1.990\n",
      "count_2-0        0.0382      0.010      3.708      0.000       0.018       0.058\n",
      "count_2-1       -0.7035      0.011    -64.945      0.000      -0.725      -0.682\n",
      "count_2-2       -1.6241      0.012   -131.760      0.000      -1.648      -1.600\n",
      "count_3-0        0.7767      0.015     51.535      0.000       0.747       0.806\n",
      "count_3-1       -0.2918      0.015    -19.558      0.000      -0.321      -0.263\n",
      "count_3-2       -1.2840      0.016    -79.279      0.000      -1.316      -1.252\n",
      "inning_2         0.0141      0.009      1.638      0.101      -0.003       0.031\n",
      "inning_3        -0.0195      0.009     -2.253      0.024      -0.036      -0.003\n",
      "inning_4        -0.1033      0.009    -11.829      0.000      -0.120      -0.086\n",
      "inning_5        -0.0851      0.009     -9.738      0.000      -0.102      -0.068\n",
      "inning_6        -0.1374      0.009    -15.668      0.000      -0.155      -0.120\n",
      "inning_7        -0.1002      0.009    -11.458      0.000      -0.117      -0.083\n",
      "inning_8        -0.0846      0.009     -9.646      0.000      -0.102      -0.067\n",
      "inning_9+       -0.0593      0.009     -6.703      0.000      -0.077      -0.042\n",
      "intercept       -0.1382      0.007    -18.829      0.000      -0.153      -0.124\n",
      "================================================================================\n"
     ]
    }
   ],
   "source": [
    "print(results.summary())"
   ]
  },
  {
   "cell_type": "markdown",
   "metadata": {},
   "source": [
    "## Fixed effects if umpire is nonwhite"
   ]
  },
  {
   "cell_type": "code",
   "execution_count": 40,
   "metadata": {},
   "outputs": [
    {
     "data": {
      "text/html": [
       "<div>\n",
       "<style scoped>\n",
       "    .dataframe tbody tr th:only-of-type {\n",
       "        vertical-align: middle;\n",
       "    }\n",
       "\n",
       "    .dataframe tbody tr th {\n",
       "        vertical-align: top;\n",
       "    }\n",
       "\n",
       "    .dataframe thead th {\n",
       "        text-align: right;\n",
       "    }\n",
       "</style>\n",
       "<table border=\"1\" class=\"dataframe\">\n",
       "  <thead>\n",
       "    <tr style=\"text-align: right;\">\n",
       "      <th></th>\n",
       "      <th>count</th>\n",
       "      <th>home_pitcher</th>\n",
       "      <th>inning</th>\n",
       "      <th>run_diff</th>\n",
       "      <th>strike_given_called</th>\n",
       "      <th>pitcher_race</th>\n",
       "      <th>umpire_race</th>\n",
       "    </tr>\n",
       "  </thead>\n",
       "  <tbody>\n",
       "    <tr>\n",
       "      <th>2642</th>\n",
       "      <td>0-0</td>\n",
       "      <td>1</td>\n",
       "      <td>1</td>\n",
       "      <td>0</td>\n",
       "      <td>False</td>\n",
       "      <td>white</td>\n",
       "      <td>nonwhite</td>\n",
       "    </tr>\n",
       "    <tr>\n",
       "      <th>2643</th>\n",
       "      <td>1-0</td>\n",
       "      <td>1</td>\n",
       "      <td>1</td>\n",
       "      <td>0</td>\n",
       "      <td>True</td>\n",
       "      <td>white</td>\n",
       "      <td>nonwhite</td>\n",
       "    </tr>\n",
       "    <tr>\n",
       "      <th>2644</th>\n",
       "      <td>1-1</td>\n",
       "      <td>1</td>\n",
       "      <td>1</td>\n",
       "      <td>0</td>\n",
       "      <td>False</td>\n",
       "      <td>white</td>\n",
       "      <td>nonwhite</td>\n",
       "    </tr>\n",
       "    <tr>\n",
       "      <th>2645</th>\n",
       "      <td>0-1</td>\n",
       "      <td>1</td>\n",
       "      <td>1</td>\n",
       "      <td>0</td>\n",
       "      <td>False</td>\n",
       "      <td>white</td>\n",
       "      <td>nonwhite</td>\n",
       "    </tr>\n",
       "    <tr>\n",
       "      <th>2646</th>\n",
       "      <td>0-0</td>\n",
       "      <td>1</td>\n",
       "      <td>1</td>\n",
       "      <td>0</td>\n",
       "      <td>False</td>\n",
       "      <td>white</td>\n",
       "      <td>nonwhite</td>\n",
       "    </tr>\n",
       "  </tbody>\n",
       "</table>\n",
       "</div>"
      ],
      "text/plain": [
       "     count  home_pitcher  inning  run_diff  strike_given_called pitcher_race  \\\n",
       "2642   0-0             1       1         0                False        white   \n",
       "2643   1-0             1       1         0                 True        white   \n",
       "2644   1-1             1       1         0                False        white   \n",
       "2645   0-1             1       1         0                False        white   \n",
       "2646   0-0             1       1         0                False        white   \n",
       "\n",
       "     umpire_race  \n",
       "2642    nonwhite  \n",
       "2643    nonwhite  \n",
       "2644    nonwhite  \n",
       "2645    nonwhite  \n",
       "2646    nonwhite  "
      ]
     },
     "execution_count": 40,
     "metadata": {},
     "output_type": "execute_result"
    }
   ],
   "source": [
    "nonwhite_umpire = wcp_df[wcp_df.umpire_race == 'nonwhite']\n",
    "nonwhite_umpire.head()"
   ]
  },
  {
   "cell_type": "code",
   "execution_count": 41,
   "metadata": {},
   "outputs": [
    {
     "name": "stdout",
     "output_type": "stream",
     "text": [
      "CPU times: user 4.42 s, sys: 40.1 ms, total: 4.46 s\n",
      "Wall time: 4.23 s\n"
     ]
    }
   ],
   "source": [
    "%time X, y = prepare_df(nonwhite_umpire)"
   ]
  },
  {
   "cell_type": "code",
   "execution_count": 42,
   "metadata": {},
   "outputs": [
    {
     "name": "stdout",
     "output_type": "stream",
     "text": [
      "Optimization terminated successfully.\n",
      "         Current function value: 0.577946\n",
      "         Iterations 6\n"
     ]
    }
   ],
   "source": [
    "results = sm.Logit(y,X).fit()"
   ]
  },
  {
   "cell_type": "code",
   "execution_count": 43,
   "metadata": {},
   "outputs": [
    {
     "name": "stdout",
     "output_type": "stream",
     "text": [
      "                            Logit Regression Results                           \n",
      "===============================================================================\n",
      "Dep. Variable:     strike_given_called   No. Observations:               125036\n",
      "Model:                           Logit   Df Residuals:                   125013\n",
      "Method:                            MLE   Df Model:                           22\n",
      "Date:                 Sat, 06 Jul 2019   Pseudo R-squ.:                 0.08485\n",
      "Time:                         10:56:50   Log-Likelihood:                -72264.\n",
      "converged:                        True   LL-Null:                       -78964.\n",
      "                                         LLR p-value:                     0.000\n",
      "================================================================================\n",
      "                   coef    std err          z      P>|z|      [0.025      0.975]\n",
      "--------------------------------------------------------------------------------\n",
      "upm             -0.0237      0.014     -1.708      0.088      -0.051       0.004\n",
      "home_pitcher     0.0361      0.013      2.827      0.005       0.011       0.061\n",
      "run_diff         0.0106      0.002      5.250      0.000       0.007       0.015\n",
      "count_0-1       -1.1499      0.022    -53.039      0.000      -1.192      -1.107\n",
      "count_0-2       -2.2840      0.044    -51.758      0.000      -2.370      -2.197\n",
      "count_1-0       -0.1603      0.020     -8.129      0.000      -0.199      -0.122\n",
      "count_1-1       -0.9375      0.024    -38.962      0.000      -0.985      -0.890\n",
      "count_1-2       -2.0080      0.036    -56.258      0.000      -2.078      -1.938\n",
      "count_2-0        0.0661      0.031      2.119      0.034       0.005       0.127\n",
      "count_2-1       -0.7251      0.033    -22.163      0.000      -0.789      -0.661\n",
      "count_2-2       -1.6792      0.038    -44.383      0.000      -1.753      -1.605\n",
      "count_3-0        0.8446      0.046     18.268      0.000       0.754       0.935\n",
      "count_3-1       -0.2953      0.045     -6.607      0.000      -0.383      -0.208\n",
      "count_3-2       -1.2457      0.049    -25.685      0.000      -1.341      -1.151\n",
      "inning_2         0.0111      0.026      0.427      0.669      -0.040       0.062\n",
      "inning_3         0.0577      0.026      2.210      0.027       0.007       0.109\n",
      "inning_4        -0.0992      0.026     -3.765      0.000      -0.151      -0.048\n",
      "inning_5        -0.0627      0.026     -2.378      0.017      -0.114      -0.011\n",
      "inning_6        -0.1098      0.027     -4.114      0.000      -0.162      -0.057\n",
      "inning_7        -0.0809      0.027     -3.050      0.002      -0.133      -0.029\n",
      "inning_8        -0.0862      0.026     -3.257      0.001      -0.138      -0.034\n",
      "inning_9+       -0.0522      0.027     -1.950      0.051      -0.105       0.000\n",
      "intercept       -0.1455      0.021     -6.988      0.000      -0.186      -0.105\n",
      "================================================================================\n"
     ]
    }
   ],
   "source": [
    "print(results.summary())"
   ]
  },
  {
   "cell_type": "markdown",
   "metadata": {},
   "source": [
    "## Fixed effects when pitcher is nonwhite"
   ]
  },
  {
   "cell_type": "code",
   "execution_count": 44,
   "metadata": {},
   "outputs": [
    {
     "data": {
      "text/html": [
       "<div>\n",
       "<style scoped>\n",
       "    .dataframe tbody tr th:only-of-type {\n",
       "        vertical-align: middle;\n",
       "    }\n",
       "\n",
       "    .dataframe tbody tr th {\n",
       "        vertical-align: top;\n",
       "    }\n",
       "\n",
       "    .dataframe thead th {\n",
       "        text-align: right;\n",
       "    }\n",
       "</style>\n",
       "<table border=\"1\" class=\"dataframe\">\n",
       "  <thead>\n",
       "    <tr style=\"text-align: right;\">\n",
       "      <th></th>\n",
       "      <th>count</th>\n",
       "      <th>home_pitcher</th>\n",
       "      <th>inning</th>\n",
       "      <th>run_diff</th>\n",
       "      <th>strike_given_called</th>\n",
       "      <th>pitcher_race</th>\n",
       "      <th>umpire_race</th>\n",
       "    </tr>\n",
       "  </thead>\n",
       "  <tbody>\n",
       "    <tr>\n",
       "      <th>123</th>\n",
       "      <td>0-0</td>\n",
       "      <td>0</td>\n",
       "      <td>8</td>\n",
       "      <td>-5</td>\n",
       "      <td>False</td>\n",
       "      <td>nonwhite</td>\n",
       "      <td>white</td>\n",
       "    </tr>\n",
       "    <tr>\n",
       "      <th>124</th>\n",
       "      <td>1-0</td>\n",
       "      <td>0</td>\n",
       "      <td>8</td>\n",
       "      <td>-5</td>\n",
       "      <td>True</td>\n",
       "      <td>nonwhite</td>\n",
       "      <td>white</td>\n",
       "    </tr>\n",
       "    <tr>\n",
       "      <th>125</th>\n",
       "      <td>1-2</td>\n",
       "      <td>0</td>\n",
       "      <td>8</td>\n",
       "      <td>-5</td>\n",
       "      <td>False</td>\n",
       "      <td>nonwhite</td>\n",
       "      <td>white</td>\n",
       "    </tr>\n",
       "    <tr>\n",
       "      <th>126</th>\n",
       "      <td>2-2</td>\n",
       "      <td>0</td>\n",
       "      <td>8</td>\n",
       "      <td>-5</td>\n",
       "      <td>True</td>\n",
       "      <td>nonwhite</td>\n",
       "      <td>white</td>\n",
       "    </tr>\n",
       "    <tr>\n",
       "      <th>127</th>\n",
       "      <td>0-0</td>\n",
       "      <td>0</td>\n",
       "      <td>8</td>\n",
       "      <td>-5</td>\n",
       "      <td>False</td>\n",
       "      <td>nonwhite</td>\n",
       "      <td>white</td>\n",
       "    </tr>\n",
       "  </tbody>\n",
       "</table>\n",
       "</div>"
      ],
      "text/plain": [
       "    count  home_pitcher  inning  run_diff  strike_given_called pitcher_race  \\\n",
       "123   0-0             0       8        -5                False     nonwhite   \n",
       "124   1-0             0       8        -5                 True     nonwhite   \n",
       "125   1-2             0       8        -5                False     nonwhite   \n",
       "126   2-2             0       8        -5                 True     nonwhite   \n",
       "127   0-0             0       8        -5                False     nonwhite   \n",
       "\n",
       "    umpire_race  \n",
       "123       white  \n",
       "124       white  \n",
       "125       white  \n",
       "126       white  \n",
       "127       white  "
      ]
     },
     "execution_count": 44,
     "metadata": {},
     "output_type": "execute_result"
    }
   ],
   "source": [
    "nonwhite_pitcher = wcp_df[wcp_df.pitcher_race == 'nonwhite']\n",
    "nonwhite_pitcher.head()"
   ]
  },
  {
   "cell_type": "code",
   "execution_count": 45,
   "metadata": {},
   "outputs": [
    {
     "name": "stderr",
     "output_type": "stream",
     "text": [
      "/anaconda3/lib/python3.7/site-packages/ipykernel_launcher.py:12: SettingWithCopyWarning: \n",
      "A value is trying to be set on a copy of a slice from a DataFrame.\n",
      "Try using .loc[row_indexer,col_indexer] = value instead\n",
      "\n",
      "See the caveats in the documentation: http://pandas.pydata.org/pandas-docs/stable/indexing.html#indexing-view-versus-copy\n",
      "  if sys.path[0] == '':\n",
      "/anaconda3/lib/python3.7/site-packages/ipykernel_launcher.py:16: SettingWithCopyWarning: \n",
      "A value is trying to be set on a copy of a slice from a DataFrame.\n",
      "Try using .loc[row_indexer,col_indexer] = value instead\n",
      "\n",
      "See the caveats in the documentation: http://pandas.pydata.org/pandas-docs/stable/indexing.html#indexing-view-versus-copy\n",
      "  app.launch_new_instance()\n"
     ]
    },
    {
     "name": "stdout",
     "output_type": "stream",
     "text": [
      "CPU times: user 12 s, sys: 134 ms, total: 12.1 s\n",
      "Wall time: 11.7 s\n"
     ]
    }
   ],
   "source": [
    "%time X, y = prepare_df(nonwhite_pitcher)"
   ]
  },
  {
   "cell_type": "code",
   "execution_count": 46,
   "metadata": {},
   "outputs": [
    {
     "name": "stdout",
     "output_type": "stream",
     "text": [
      "Optimization terminated successfully.\n",
      "         Current function value: 0.581064\n",
      "         Iterations 6\n"
     ]
    }
   ],
   "source": [
    "results = sm.Logit(y,X).fit()"
   ]
  },
  {
   "cell_type": "code",
   "execution_count": 47,
   "metadata": {},
   "outputs": [
    {
     "name": "stdout",
     "output_type": "stream",
     "text": [
      "                            Logit Regression Results                           \n",
      "===============================================================================\n",
      "Dep. Variable:     strike_given_called   No. Observations:               343899\n",
      "Model:                           Logit   Df Residuals:                   343876\n",
      "Method:                            MLE   Df Model:                           22\n",
      "Date:                 Sat, 06 Jul 2019   Pseudo R-squ.:                 0.08173\n",
      "Time:                         10:57:07   Log-Likelihood:            -1.9983e+05\n",
      "converged:                        True   LL-Null:                   -2.1761e+05\n",
      "                                         LLR p-value:                     0.000\n",
      "================================================================================\n",
      "                   coef    std err          z      P>|z|      [0.025      0.975]\n",
      "--------------------------------------------------------------------------------\n",
      "upm             -0.0229      0.012     -1.862      0.063      -0.047       0.001\n",
      "home_pitcher     0.0487      0.008      6.337      0.000       0.034       0.064\n",
      "run_diff         0.0166      0.001     12.717      0.000       0.014       0.019\n",
      "count_0-1       -1.0987      0.013    -84.526      0.000      -1.124      -1.073\n",
      "count_0-2       -2.2176      0.026    -85.117      0.000      -2.269      -2.167\n",
      "count_1-0       -0.1492      0.012    -12.612      0.000      -0.172      -0.126\n",
      "count_1-1       -0.9095      0.014    -62.793      0.000      -0.938      -0.881\n",
      "count_1-2       -2.0055      0.022    -92.121      0.000      -2.048      -1.963\n",
      "count_2-0        0.0858      0.019      4.623      0.000       0.049       0.122\n",
      "count_2-1       -0.6724      0.020    -34.353      0.000      -0.711      -0.634\n",
      "count_2-2       -1.6554      0.023    -72.831      0.000      -1.700      -1.611\n",
      "count_3-0        0.7473      0.027     27.500      0.000       0.694       0.801\n",
      "count_3-1       -0.2785      0.027    -10.238      0.000      -0.332      -0.225\n",
      "count_3-2       -1.3033      0.029    -44.385      0.000      -1.361      -1.246\n",
      "inning_2         0.0008      0.016      0.052      0.958      -0.030       0.031\n",
      "inning_3        -0.0199      0.016     -1.269      0.204      -0.051       0.011\n",
      "inning_4        -0.1148      0.016     -7.224      0.000      -0.146      -0.084\n",
      "inning_5        -0.0828      0.016     -5.221      0.000      -0.114      -0.052\n",
      "inning_6        -0.1573      0.016     -9.833      0.000      -0.189      -0.126\n",
      "inning_7        -0.1257      0.016     -7.826      0.000      -0.157      -0.094\n",
      "inning_8        -0.1131      0.016     -7.062      0.000      -0.144      -0.082\n",
      "inning_9+       -0.0486      0.016     -3.104      0.002      -0.079      -0.018\n",
      "intercept       -0.1400      0.012    -11.358      0.000      -0.164      -0.116\n",
      "================================================================================\n"
     ]
    }
   ],
   "source": [
    "print(results.summary())"
   ]
  }
 ],
 "metadata": {
  "kernelspec": {
   "display_name": "Python 3",
   "language": "python",
   "name": "python3"
  },
  "language_info": {
   "codemirror_mode": {
    "name": "ipython",
    "version": 3
   },
   "file_extension": ".py",
   "mimetype": "text/x-python",
   "name": "python",
   "nbconvert_exporter": "python",
   "pygments_lexer": "ipython3",
   "version": "3.7.1"
  }
 },
 "nbformat": 4,
 "nbformat_minor": 2
}
