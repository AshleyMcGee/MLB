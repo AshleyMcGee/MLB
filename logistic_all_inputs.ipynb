{
 "cells": [
  {
   "cell_type": "code",
   "execution_count": 1,
   "metadata": {},
   "outputs": [],
   "source": [
    "import pandas as pd\n",
    "import statsmodels.api as sm"
   ]
  },
  {
   "cell_type": "code",
   "execution_count": 2,
   "metadata": {},
   "outputs": [],
   "source": [
    "cp_df = pd.read_csv(\"cp_merged.csv\")"
   ]
  },
  {
   "cell_type": "code",
   "execution_count": 3,
   "metadata": {},
   "outputs": [
    {
     "data": {
      "text/html": [
       "<div>\n",
       "<style scoped>\n",
       "    .dataframe tbody tr th:only-of-type {\n",
       "        vertical-align: middle;\n",
       "    }\n",
       "\n",
       "    .dataframe tbody tr th {\n",
       "        vertical-align: top;\n",
       "    }\n",
       "\n",
       "    .dataframe thead th {\n",
       "        text-align: right;\n",
       "    }\n",
       "</style>\n",
       "<table border=\"1\" class=\"dataframe\">\n",
       "  <thead>\n",
       "    <tr style=\"text-align: right;\">\n",
       "      <th></th>\n",
       "      <th>count</th>\n",
       "      <th>home_pitcher</th>\n",
       "      <th>inning</th>\n",
       "      <th>run_diff</th>\n",
       "      <th>strike_given_called</th>\n",
       "      <th>pitcher_race</th>\n",
       "      <th>umpire_race</th>\n",
       "    </tr>\n",
       "  </thead>\n",
       "  <tbody>\n",
       "    <tr>\n",
       "      <th>0</th>\n",
       "      <td>0-0</td>\n",
       "      <td>1</td>\n",
       "      <td>1</td>\n",
       "      <td>0</td>\n",
       "      <td>True</td>\n",
       "      <td>white</td>\n",
       "      <td>white</td>\n",
       "    </tr>\n",
       "    <tr>\n",
       "      <th>1</th>\n",
       "      <td>0-0</td>\n",
       "      <td>1</td>\n",
       "      <td>1</td>\n",
       "      <td>0</td>\n",
       "      <td>False</td>\n",
       "      <td>white</td>\n",
       "      <td>white</td>\n",
       "    </tr>\n",
       "    <tr>\n",
       "      <th>2</th>\n",
       "      <td>1-1</td>\n",
       "      <td>1</td>\n",
       "      <td>1</td>\n",
       "      <td>0</td>\n",
       "      <td>True</td>\n",
       "      <td>white</td>\n",
       "      <td>white</td>\n",
       "    </tr>\n",
       "    <tr>\n",
       "      <th>3</th>\n",
       "      <td>1-2</td>\n",
       "      <td>1</td>\n",
       "      <td>1</td>\n",
       "      <td>0</td>\n",
       "      <td>False</td>\n",
       "      <td>white</td>\n",
       "      <td>white</td>\n",
       "    </tr>\n",
       "    <tr>\n",
       "      <th>4</th>\n",
       "      <td>0-0</td>\n",
       "      <td>1</td>\n",
       "      <td>1</td>\n",
       "      <td>0</td>\n",
       "      <td>False</td>\n",
       "      <td>white</td>\n",
       "      <td>white</td>\n",
       "    </tr>\n",
       "  </tbody>\n",
       "</table>\n",
       "</div>"
      ],
      "text/plain": [
       "  count  home_pitcher  inning  run_diff  strike_given_called pitcher_race  \\\n",
       "0   0-0             1       1         0                 True        white   \n",
       "1   0-0             1       1         0                False        white   \n",
       "2   1-1             1       1         0                 True        white   \n",
       "3   1-2             1       1         0                False        white   \n",
       "4   0-0             1       1         0                False        white   \n",
       "\n",
       "  umpire_race  \n",
       "0       white  \n",
       "1       white  \n",
       "2       white  \n",
       "3       white  \n",
       "4       white  "
      ]
     },
     "execution_count": 3,
     "metadata": {},
     "output_type": "execute_result"
    }
   ],
   "source": [
    "cp_df.head()"
   ]
  },
  {
   "cell_type": "code",
   "execution_count": 4,
   "metadata": {},
   "outputs": [],
   "source": [
    "# Function to prepare called-pitches dataframe for modelling\n",
    "# Output: X, y\n",
    "# X is a dataframe of observations of the input variables\n",
    "# y is a series of observations of the response variable\n",
    "# Function may take the better part of a minute to run (~37 secs on my CPU)\n",
    "# This is almost entirely due to the line which creates the UPM column\n",
    "def prepare_df(df):\n",
    "    # Drop counts where number of balls is > 3\n",
    "    df = df[df['count'].apply(lambda x: x[0]!='4')]\n",
    "    \n",
    "    # Convert strike-given-called to int\n",
    "    df['strike_given_called'] = df['strike_given_called'].apply(int)\n",
    "    \n",
    "    # Make column to check when umpire's race matches pitcher's race\n",
    "    # (1 if match, 0 if mismatch)\n",
    "    df['upm'] = df.apply(lambda x: x.pitcher_race==x.umpire_race, axis=1).apply(int)\n",
    "    \n",
    "    # Drop the race-value columns\n",
    "    df = df.drop(labels=['pitcher_race', 'umpire_race'], axis=1)\n",
    "    \n",
    "    # Convert innings greater than the ninth to 9\n",
    "    df.inning = df.inning.apply(lambda x: min(x,9))\n",
    "    \n",
    "    # Turn counts and innings into dummy variables\n",
    "    df = pd.get_dummies(df, columns=['count', 'inning'], drop_first=True)\n",
    "    \n",
    "    # Rearrange and rename columns\n",
    "    new_cols = ['strike_given_called', 'upm', 'home_pitcher', 'run_diff',\n",
    "            'count_0-1', 'count_0-2', 'count_1-0', 'count_1-1', 'count_1-2', 'count_2-0', 'count_2-1', 'count_2-2',\n",
    "           'count_3-0', 'count_3-1', 'count_3-2',\n",
    "           'inning_2', 'inning_3', 'inning_4', 'inning_5', 'inning_6', 'inning_7', 'inning_8', 'inning_9']\n",
    "    df = df[new_cols]\n",
    "    df = df.rename(columns={'inning_9': 'inning_9+'})\n",
    "    \n",
    "    # Add intercept column\n",
    "    df['intercept'] = 1\n",
    "    \n",
    "    # Return X dataframe, y series\n",
    "    return df.drop(labels=['strike_given_called'], axis=1), df['strike_given_called'] "
   ]
  },
  {
   "cell_type": "code",
   "execution_count": 5,
   "metadata": {
    "scrolled": true
   },
   "outputs": [
    {
     "name": "stderr",
     "output_type": "stream",
     "text": [
      "/anaconda3/lib/python3.7/site-packages/ipykernel_launcher.py:12: SettingWithCopyWarning: \n",
      "A value is trying to be set on a copy of a slice from a DataFrame.\n",
      "Try using .loc[row_indexer,col_indexer] = value instead\n",
      "\n",
      "See the caveats in the documentation: http://pandas.pydata.org/pandas-docs/stable/indexing.html#indexing-view-versus-copy\n",
      "  if sys.path[0] == '':\n",
      "/anaconda3/lib/python3.7/site-packages/ipykernel_launcher.py:16: SettingWithCopyWarning: \n",
      "A value is trying to be set on a copy of a slice from a DataFrame.\n",
      "Try using .loc[row_indexer,col_indexer] = value instead\n",
      "\n",
      "See the caveats in the documentation: http://pandas.pydata.org/pandas-docs/stable/indexing.html#indexing-view-versus-copy\n",
      "  app.launch_new_instance()\n"
     ]
    },
    {
     "name": "stdout",
     "output_type": "stream",
     "text": [
      "CPU times: user 38.5 s, sys: 469 ms, total: 38.9 s\n",
      "Wall time: 38.5 s\n"
     ]
    }
   ],
   "source": [
    "%time X, y = prepare_df(cp_df)"
   ]
  },
  {
   "cell_type": "code",
   "execution_count": 6,
   "metadata": {},
   "outputs": [
    {
     "name": "stdout",
     "output_type": "stream",
     "text": [
      "Optimization terminated successfully.\n",
      "         Current function value: 0.580795\n",
      "         Iterations 6\n"
     ]
    }
   ],
   "source": [
    "result = sm.Logit(y,X).fit()"
   ]
  },
  {
   "cell_type": "code",
   "execution_count": 7,
   "metadata": {},
   "outputs": [
    {
     "name": "stdout",
     "output_type": "stream",
     "text": [
      "                            Logit Regression Results                           \n",
      "===============================================================================\n",
      "Dep. Variable:     strike_given_called   No. Observations:              1136496\n",
      "Model:                           Logit   Df Residuals:                  1136473\n",
      "Method:                            MLE   Df Model:                           22\n",
      "Date:                 Sat, 06 Jul 2019   Pseudo R-squ.:                 0.08250\n",
      "Time:                         11:02:19   Log-Likelihood:            -6.6007e+05\n",
      "converged:                        True   LL-Null:                   -7.1942e+05\n",
      "                                         LLR p-value:                     0.000\n",
      "================================================================================\n",
      "                   coef    std err          z      P>|z|      [0.025      0.975]\n",
      "--------------------------------------------------------------------------------\n",
      "upm              0.0051      0.004      1.177      0.239      -0.003       0.014\n",
      "home_pitcher     0.0445      0.004     10.536      0.000       0.036       0.053\n",
      "run_diff         0.0151      0.001     21.209      0.000       0.014       0.017\n",
      "count_0-1       -1.1167      0.007   -156.696      0.000      -1.131      -1.103\n",
      "count_0-2       -2.2604      0.014   -156.204      0.000      -2.289      -2.232\n",
      "count_1-0       -0.1644      0.007    -25.165      0.000      -0.177      -0.152\n",
      "count_1-1       -0.9228      0.008   -116.058      0.000      -0.938      -0.907\n",
      "count_1-2       -2.0133      0.012   -169.233      0.000      -2.037      -1.990\n",
      "count_2-0        0.0382      0.010      3.709      0.000       0.018       0.058\n",
      "count_2-1       -0.7035      0.011    -64.945      0.000      -0.725      -0.682\n",
      "count_2-2       -1.6241      0.012   -131.760      0.000      -1.648      -1.600\n",
      "count_3-0        0.7767      0.015     51.535      0.000       0.747       0.806\n",
      "count_3-1       -0.2918      0.015    -19.558      0.000      -0.321      -0.263\n",
      "count_3-2       -1.2840      0.016    -79.278      0.000      -1.316      -1.252\n",
      "inning_2         0.0141      0.009      1.638      0.101      -0.003       0.031\n",
      "inning_3        -0.0195      0.009     -2.254      0.024      -0.036      -0.003\n",
      "inning_4        -0.1033      0.009    -11.830      0.000      -0.120      -0.086\n",
      "inning_5        -0.0851      0.009     -9.739      0.000      -0.102      -0.068\n",
      "inning_6        -0.1374      0.009    -15.670      0.000      -0.155      -0.120\n",
      "inning_7        -0.1003      0.009    -11.462      0.000      -0.117      -0.083\n",
      "inning_8        -0.0846      0.009     -9.649      0.000      -0.102      -0.067\n",
      "inning_9+       -0.0593      0.009     -6.701      0.000      -0.077      -0.042\n",
      "intercept       -0.1392      0.007    -19.074      0.000      -0.153      -0.125\n",
      "================================================================================\n"
     ]
    }
   ],
   "source": [
    "print(result.summary())"
   ]
  }
 ],
 "metadata": {
  "kernelspec": {
   "display_name": "Python 3",
   "language": "python",
   "name": "python3"
  },
  "language_info": {
   "codemirror_mode": {
    "name": "ipython",
    "version": 3
   },
   "file_extension": ".py",
   "mimetype": "text/x-python",
   "name": "python",
   "nbconvert_exporter": "python",
   "pygments_lexer": "ipython3",
   "version": "3.7.1"
  }
 },
 "nbformat": 4,
 "nbformat_minor": 2
}
