{
 "cells": [
  {
   "cell_type": "code",
   "execution_count": 1,
   "metadata": {},
   "outputs": [],
   "source": [
    "import pandas as pd\n",
    "import numpy as np\n",
    "\n",
    "# Tools for recursive feature selection\n",
    "from sklearn.linear_model import LogisticRegression\n",
    "from sklearn.feature_selection import RFE\n",
    "\n",
    "# Tools for fitting logistic regression and getting p-values\n",
    "import statsmodels.api as sm\n",
    "\n",
    "# For plotting\n",
    "import matplotlib.pyplot as plt\n",
    "\n",
    "# Our local, useful functions\n",
    "from baseball_utils import *"
   ]
  },
  {
   "cell_type": "code",
   "execution_count": 2,
   "metadata": {},
   "outputs": [
    {
     "data": {
      "text/html": [
       "<div>\n",
       "<style scoped>\n",
       "    .dataframe tbody tr th:only-of-type {\n",
       "        vertical-align: middle;\n",
       "    }\n",
       "\n",
       "    .dataframe tbody tr th {\n",
       "        vertical-align: top;\n",
       "    }\n",
       "\n",
       "    .dataframe thead th {\n",
       "        text-align: right;\n",
       "    }\n",
       "</style>\n",
       "<table border=\"1\" class=\"dataframe\">\n",
       "  <thead>\n",
       "    <tr style=\"text-align: right;\">\n",
       "      <th></th>\n",
       "      <th>count</th>\n",
       "      <th>home_pitcher</th>\n",
       "      <th>inning</th>\n",
       "      <th>run_diff</th>\n",
       "      <th>strike_given_called</th>\n",
       "      <th>pitcher_race</th>\n",
       "      <th>umpire_race</th>\n",
       "    </tr>\n",
       "  </thead>\n",
       "  <tbody>\n",
       "    <tr>\n",
       "      <th>0</th>\n",
       "      <td>0-0</td>\n",
       "      <td>1</td>\n",
       "      <td>1</td>\n",
       "      <td>0</td>\n",
       "      <td>True</td>\n",
       "      <td>white</td>\n",
       "      <td>white</td>\n",
       "    </tr>\n",
       "    <tr>\n",
       "      <th>1</th>\n",
       "      <td>0-0</td>\n",
       "      <td>1</td>\n",
       "      <td>1</td>\n",
       "      <td>0</td>\n",
       "      <td>False</td>\n",
       "      <td>white</td>\n",
       "      <td>white</td>\n",
       "    </tr>\n",
       "    <tr>\n",
       "      <th>2</th>\n",
       "      <td>1-1</td>\n",
       "      <td>1</td>\n",
       "      <td>1</td>\n",
       "      <td>0</td>\n",
       "      <td>True</td>\n",
       "      <td>white</td>\n",
       "      <td>white</td>\n",
       "    </tr>\n",
       "    <tr>\n",
       "      <th>3</th>\n",
       "      <td>1-2</td>\n",
       "      <td>1</td>\n",
       "      <td>1</td>\n",
       "      <td>0</td>\n",
       "      <td>False</td>\n",
       "      <td>white</td>\n",
       "      <td>white</td>\n",
       "    </tr>\n",
       "    <tr>\n",
       "      <th>4</th>\n",
       "      <td>0-0</td>\n",
       "      <td>1</td>\n",
       "      <td>1</td>\n",
       "      <td>0</td>\n",
       "      <td>False</td>\n",
       "      <td>white</td>\n",
       "      <td>white</td>\n",
       "    </tr>\n",
       "  </tbody>\n",
       "</table>\n",
       "</div>"
      ],
      "text/plain": [
       "  count  home_pitcher  inning  run_diff  strike_given_called pitcher_race  \\\n",
       "0   0-0             1       1         0                 True        white   \n",
       "1   0-0             1       1         0                False        white   \n",
       "2   1-1             1       1         0                 True        white   \n",
       "3   1-2             1       1         0                False        white   \n",
       "4   0-0             1       1         0                False        white   \n",
       "\n",
       "  umpire_race  \n",
       "0       white  \n",
       "1       white  \n",
       "2       white  \n",
       "3       white  \n",
       "4       white  "
      ]
     },
     "execution_count": 2,
     "metadata": {},
     "output_type": "execute_result"
    }
   ],
   "source": [
    "cp_df = pd.read_csv(\"cp_merged.csv\")\n",
    "cp_df.head()"
   ]
  },
  {
   "cell_type": "code",
   "execution_count": 3,
   "metadata": {},
   "outputs": [
    {
     "name": "stderr",
     "output_type": "stream",
     "text": [
      "/Users/robertair2019/Desktop/upm/baseball_utils.py:26: SettingWithCopyWarning: \n",
      "A value is trying to be set on a copy of a slice from a DataFrame.\n",
      "Try using .loc[row_indexer,col_indexer] = value instead\n",
      "\n",
      "See the caveats in the documentation: http://pandas.pydata.org/pandas-docs/stable/indexing.html#indexing-view-versus-copy\n",
      "  df['strike_given_called'] = df['strike_given_called'].apply(int)\n",
      "/Users/robertair2019/Desktop/upm/baseball_utils.py:30: SettingWithCopyWarning: \n",
      "A value is trying to be set on a copy of a slice from a DataFrame.\n",
      "Try using .loc[row_indexer,col_indexer] = value instead\n",
      "\n",
      "See the caveats in the documentation: http://pandas.pydata.org/pandas-docs/stable/indexing.html#indexing-view-versus-copy\n",
      "  df['upm'] = df.apply(lambda x: x.pitcher_race==x.umpire_race, axis=1).apply(int)\n"
     ]
    },
    {
     "name": "stdout",
     "output_type": "stream",
     "text": [
      "CPU times: user 37.6 s, sys: 339 ms, total: 37.9 s\n",
      "Wall time: 37.3 s\n"
     ]
    }
   ],
   "source": [
    "%time X, y = prepare_df(cp_df)"
   ]
  },
  {
   "cell_type": "code",
   "execution_count": 4,
   "metadata": {},
   "outputs": [
    {
     "name": "stdout",
     "output_type": "stream",
     "text": [
      "Optimization terminated successfully.\n",
      "         Current function value: 0.580795\n",
      "         Iterations 6\n",
      "CPU times: user 13.7 s, sys: 3.23 s, total: 16.9 s\n",
      "Wall time: 9.01 s\n"
     ]
    }
   ],
   "source": [
    "%time fit = sm.Logit(y, X).fit()"
   ]
  },
  {
   "cell_type": "code",
   "execution_count": 19,
   "metadata": {},
   "outputs": [
    {
     "data": {
      "text/plain": [
       "0.30296134225978794"
      ]
     },
     "execution_count": 19,
     "metadata": {},
     "output_type": "execute_result"
    }
   ],
   "source": [
    "fit.predict([0] + X.mean()[1:].tolist())[0]"
   ]
  },
  {
   "cell_type": "code",
   "execution_count": 7,
   "metadata": {
    "scrolled": true
   },
   "outputs": [
    {
     "data": {
      "text/html": [
       "<table class=\"simpletable\">\n",
       "<caption>Logit Regression Results</caption>\n",
       "<tr>\n",
       "  <th>Dep. Variable:</th> <td>strike_given_called</td> <th>  No. Observations:  </th>   <td>1136496</td>  \n",
       "</tr>\n",
       "<tr>\n",
       "  <th>Model:</th>                <td>Logit</td>        <th>  Df Residuals:      </th>   <td>1136473</td>  \n",
       "</tr>\n",
       "<tr>\n",
       "  <th>Method:</th>                <td>MLE</td>         <th>  Df Model:          </th>   <td>    22</td>   \n",
       "</tr>\n",
       "<tr>\n",
       "  <th>Date:</th>           <td>Tue, 09 Jul 2019</td>   <th>  Pseudo R-squ.:     </th>   <td>0.08250</td>  \n",
       "</tr>\n",
       "<tr>\n",
       "  <th>Time:</th>               <td>17:40:40</td>       <th>  Log-Likelihood:    </th> <td>-6.6007e+05</td>\n",
       "</tr>\n",
       "<tr>\n",
       "  <th>converged:</th>            <td>True</td>         <th>  LL-Null:           </th> <td>-7.1942e+05</td>\n",
       "</tr>\n",
       "<tr>\n",
       "  <th> </th>                       <td> </td>          <th>  LLR p-value:       </th>   <td> 0.000</td>   \n",
       "</tr>\n",
       "</table>\n",
       "<table class=\"simpletable\">\n",
       "<tr>\n",
       "        <td></td>          <th>coef</th>     <th>std err</th>      <th>z</th>      <th>P>|z|</th>  <th>[0.025</th>    <th>0.975]</th>  \n",
       "</tr>\n",
       "<tr>\n",
       "  <th>upm</th>          <td>    0.0051</td> <td>    0.004</td> <td>    1.177</td> <td> 0.239</td> <td>   -0.003</td> <td>    0.014</td>\n",
       "</tr>\n",
       "<tr>\n",
       "  <th>home_pitcher</th> <td>    0.0445</td> <td>    0.004</td> <td>   10.536</td> <td> 0.000</td> <td>    0.036</td> <td>    0.053</td>\n",
       "</tr>\n",
       "<tr>\n",
       "  <th>run_diff</th>     <td>    0.0151</td> <td>    0.001</td> <td>   21.209</td> <td> 0.000</td> <td>    0.014</td> <td>    0.017</td>\n",
       "</tr>\n",
       "<tr>\n",
       "  <th>count_0-1</th>    <td>   -1.1167</td> <td>    0.007</td> <td> -156.696</td> <td> 0.000</td> <td>   -1.131</td> <td>   -1.103</td>\n",
       "</tr>\n",
       "<tr>\n",
       "  <th>count_0-2</th>    <td>   -2.2604</td> <td>    0.014</td> <td> -156.204</td> <td> 0.000</td> <td>   -2.289</td> <td>   -2.232</td>\n",
       "</tr>\n",
       "<tr>\n",
       "  <th>count_1-0</th>    <td>   -0.1644</td> <td>    0.007</td> <td>  -25.165</td> <td> 0.000</td> <td>   -0.177</td> <td>   -0.152</td>\n",
       "</tr>\n",
       "<tr>\n",
       "  <th>count_1-1</th>    <td>   -0.9228</td> <td>    0.008</td> <td> -116.058</td> <td> 0.000</td> <td>   -0.938</td> <td>   -0.907</td>\n",
       "</tr>\n",
       "<tr>\n",
       "  <th>count_1-2</th>    <td>   -2.0133</td> <td>    0.012</td> <td> -169.233</td> <td> 0.000</td> <td>   -2.037</td> <td>   -1.990</td>\n",
       "</tr>\n",
       "<tr>\n",
       "  <th>count_2-0</th>    <td>    0.0382</td> <td>    0.010</td> <td>    3.709</td> <td> 0.000</td> <td>    0.018</td> <td>    0.058</td>\n",
       "</tr>\n",
       "<tr>\n",
       "  <th>count_2-1</th>    <td>   -0.7035</td> <td>    0.011</td> <td>  -64.945</td> <td> 0.000</td> <td>   -0.725</td> <td>   -0.682</td>\n",
       "</tr>\n",
       "<tr>\n",
       "  <th>count_2-2</th>    <td>   -1.6241</td> <td>    0.012</td> <td> -131.760</td> <td> 0.000</td> <td>   -1.648</td> <td>   -1.600</td>\n",
       "</tr>\n",
       "<tr>\n",
       "  <th>count_3-0</th>    <td>    0.7767</td> <td>    0.015</td> <td>   51.535</td> <td> 0.000</td> <td>    0.747</td> <td>    0.806</td>\n",
       "</tr>\n",
       "<tr>\n",
       "  <th>count_3-1</th>    <td>   -0.2918</td> <td>    0.015</td> <td>  -19.558</td> <td> 0.000</td> <td>   -0.321</td> <td>   -0.263</td>\n",
       "</tr>\n",
       "<tr>\n",
       "  <th>count_3-2</th>    <td>   -1.2840</td> <td>    0.016</td> <td>  -79.278</td> <td> 0.000</td> <td>   -1.316</td> <td>   -1.252</td>\n",
       "</tr>\n",
       "<tr>\n",
       "  <th>inning_2</th>     <td>    0.0141</td> <td>    0.009</td> <td>    1.638</td> <td> 0.101</td> <td>   -0.003</td> <td>    0.031</td>\n",
       "</tr>\n",
       "<tr>\n",
       "  <th>inning_3</th>     <td>   -0.0195</td> <td>    0.009</td> <td>   -2.254</td> <td> 0.024</td> <td>   -0.036</td> <td>   -0.003</td>\n",
       "</tr>\n",
       "<tr>\n",
       "  <th>inning_4</th>     <td>   -0.1033</td> <td>    0.009</td> <td>  -11.830</td> <td> 0.000</td> <td>   -0.120</td> <td>   -0.086</td>\n",
       "</tr>\n",
       "<tr>\n",
       "  <th>inning_5</th>     <td>   -0.0851</td> <td>    0.009</td> <td>   -9.739</td> <td> 0.000</td> <td>   -0.102</td> <td>   -0.068</td>\n",
       "</tr>\n",
       "<tr>\n",
       "  <th>inning_6</th>     <td>   -0.1374</td> <td>    0.009</td> <td>  -15.670</td> <td> 0.000</td> <td>   -0.155</td> <td>   -0.120</td>\n",
       "</tr>\n",
       "<tr>\n",
       "  <th>inning_7</th>     <td>   -0.1003</td> <td>    0.009</td> <td>  -11.462</td> <td> 0.000</td> <td>   -0.117</td> <td>   -0.083</td>\n",
       "</tr>\n",
       "<tr>\n",
       "  <th>inning_8</th>     <td>   -0.0846</td> <td>    0.009</td> <td>   -9.649</td> <td> 0.000</td> <td>   -0.102</td> <td>   -0.067</td>\n",
       "</tr>\n",
       "<tr>\n",
       "  <th>inning_9+</th>    <td>   -0.0593</td> <td>    0.009</td> <td>   -6.701</td> <td> 0.000</td> <td>   -0.077</td> <td>   -0.042</td>\n",
       "</tr>\n",
       "<tr>\n",
       "  <th>intercept</th>    <td>   -0.1392</td> <td>    0.007</td> <td>  -19.074</td> <td> 0.000</td> <td>   -0.153</td> <td>   -0.125</td>\n",
       "</tr>\n",
       "</table>"
      ],
      "text/plain": [
       "<class 'statsmodels.iolib.summary.Summary'>\n",
       "\"\"\"\n",
       "                            Logit Regression Results                           \n",
       "===============================================================================\n",
       "Dep. Variable:     strike_given_called   No. Observations:              1136496\n",
       "Model:                           Logit   Df Residuals:                  1136473\n",
       "Method:                            MLE   Df Model:                           22\n",
       "Date:                 Tue, 09 Jul 2019   Pseudo R-squ.:                 0.08250\n",
       "Time:                         17:40:40   Log-Likelihood:            -6.6007e+05\n",
       "converged:                        True   LL-Null:                   -7.1942e+05\n",
       "                                         LLR p-value:                     0.000\n",
       "================================================================================\n",
       "                   coef    std err          z      P>|z|      [0.025      0.975]\n",
       "--------------------------------------------------------------------------------\n",
       "upm              0.0051      0.004      1.177      0.239      -0.003       0.014\n",
       "home_pitcher     0.0445      0.004     10.536      0.000       0.036       0.053\n",
       "run_diff         0.0151      0.001     21.209      0.000       0.014       0.017\n",
       "count_0-1       -1.1167      0.007   -156.696      0.000      -1.131      -1.103\n",
       "count_0-2       -2.2604      0.014   -156.204      0.000      -2.289      -2.232\n",
       "count_1-0       -0.1644      0.007    -25.165      0.000      -0.177      -0.152\n",
       "count_1-1       -0.9228      0.008   -116.058      0.000      -0.938      -0.907\n",
       "count_1-2       -2.0133      0.012   -169.233      0.000      -2.037      -1.990\n",
       "count_2-0        0.0382      0.010      3.709      0.000       0.018       0.058\n",
       "count_2-1       -0.7035      0.011    -64.945      0.000      -0.725      -0.682\n",
       "count_2-2       -1.6241      0.012   -131.760      0.000      -1.648      -1.600\n",
       "count_3-0        0.7767      0.015     51.535      0.000       0.747       0.806\n",
       "count_3-1       -0.2918      0.015    -19.558      0.000      -0.321      -0.263\n",
       "count_3-2       -1.2840      0.016    -79.278      0.000      -1.316      -1.252\n",
       "inning_2         0.0141      0.009      1.638      0.101      -0.003       0.031\n",
       "inning_3        -0.0195      0.009     -2.254      0.024      -0.036      -0.003\n",
       "inning_4        -0.1033      0.009    -11.830      0.000      -0.120      -0.086\n",
       "inning_5        -0.0851      0.009     -9.739      0.000      -0.102      -0.068\n",
       "inning_6        -0.1374      0.009    -15.670      0.000      -0.155      -0.120\n",
       "inning_7        -0.1003      0.009    -11.462      0.000      -0.117      -0.083\n",
       "inning_8        -0.0846      0.009     -9.649      0.000      -0.102      -0.067\n",
       "inning_9+       -0.0593      0.009     -6.701      0.000      -0.077      -0.042\n",
       "intercept       -0.1392      0.007    -19.074      0.000      -0.153      -0.125\n",
       "================================================================================\n",
       "\"\"\""
      ]
     },
     "execution_count": 7,
     "metadata": {},
     "output_type": "execute_result"
    }
   ],
   "source": [
    "fit.summary()"
   ]
  },
  {
   "cell_type": "code",
   "execution_count": 24,
   "metadata": {},
   "outputs": [],
   "source": [
    "def upm_effects(fit):\n",
    "    # Find predicted value\n",
    "    pred = fit.predict([0] + X.mean()[1:].tolist())[0]\n",
    "    \n",
    "    return (fit.params[0]*(pred - pred**2))"
   ]
  },
  {
   "cell_type": "code",
   "execution_count": 25,
   "metadata": {
    "scrolled": true
   },
   "outputs": [
    {
     "data": {
      "text/plain": [
       "0.0010851791079812992"
      ]
     },
     "execution_count": 25,
     "metadata": {},
     "output_type": "execute_result"
    }
   ],
   "source": [
    "upm_effects(fit)"
   ]
  },
  {
   "cell_type": "markdown",
   "metadata": {},
   "source": [
    "## Effects for white umpire"
   ]
  },
  {
   "cell_type": "code",
   "execution_count": 26,
   "metadata": {},
   "outputs": [],
   "source": [
    "white_umpires = cp_df[cp_df.umpire_race == 'white']"
   ]
  },
  {
   "cell_type": "code",
   "execution_count": 36,
   "metadata": {},
   "outputs": [
    {
     "name": "stderr",
     "output_type": "stream",
     "text": [
      "/Users/robertair2019/Desktop/upm/baseball_utils.py:26: SettingWithCopyWarning: \n",
      "A value is trying to be set on a copy of a slice from a DataFrame.\n",
      "Try using .loc[row_indexer,col_indexer] = value instead\n",
      "\n",
      "See the caveats in the documentation: http://pandas.pydata.org/pandas-docs/stable/indexing.html#indexing-view-versus-copy\n",
      "  df['strike_given_called'] = df['strike_given_called'].apply(int)\n",
      "/Users/robertair2019/Desktop/upm/baseball_utils.py:30: SettingWithCopyWarning: \n",
      "A value is trying to be set on a copy of a slice from a DataFrame.\n",
      "Try using .loc[row_indexer,col_indexer] = value instead\n",
      "\n",
      "See the caveats in the documentation: http://pandas.pydata.org/pandas-docs/stable/indexing.html#indexing-view-versus-copy\n",
      "  df['upm'] = df.apply(lambda x: x.pitcher_race==x.umpire_race, axis=1).apply(int)\n"
     ]
    },
    {
     "name": "stdout",
     "output_type": "stream",
     "text": [
      "CPU times: user 34.3 s, sys: 393 ms, total: 34.7 s\n",
      "Wall time: 34.2 s\n"
     ]
    }
   ],
   "source": [
    "%time X_white, y_white = prepare_df(white_umpires)"
   ]
  },
  {
   "cell_type": "code",
   "execution_count": 37,
   "metadata": {},
   "outputs": [
    {
     "name": "stdout",
     "output_type": "stream",
     "text": [
      "Optimization terminated successfully.\n",
      "         Current function value: 0.581129\n",
      "         Iterations 6\n"
     ]
    }
   ],
   "source": [
    "fit_white = sm.Logit(y_white, X_white).fit()"
   ]
  },
  {
   "cell_type": "code",
   "execution_count": 38,
   "metadata": {},
   "outputs": [
    {
     "data": {
      "text/html": [
       "<table class=\"simpletable\">\n",
       "<caption>Logit Regression Results</caption>\n",
       "<tr>\n",
       "  <th>Dep. Variable:</th> <td>strike_given_called</td> <th>  No. Observations:  </th>   <td>1011460</td>  \n",
       "</tr>\n",
       "<tr>\n",
       "  <th>Model:</th>                <td>Logit</td>        <th>  Df Residuals:      </th>   <td>1011437</td>  \n",
       "</tr>\n",
       "<tr>\n",
       "  <th>Method:</th>                <td>MLE</td>         <th>  Df Model:          </th>   <td>    22</td>   \n",
       "</tr>\n",
       "<tr>\n",
       "  <th>Date:</th>           <td>Tue, 09 Jul 2019</td>   <th>  Pseudo R-squ.:     </th>   <td>0.08224</td>  \n",
       "</tr>\n",
       "<tr>\n",
       "  <th>Time:</th>               <td>18:04:50</td>       <th>  Log-Likelihood:    </th> <td>-5.8779e+05</td>\n",
       "</tr>\n",
       "<tr>\n",
       "  <th>converged:</th>            <td>True</td>         <th>  LL-Null:           </th> <td>-6.4046e+05</td>\n",
       "</tr>\n",
       "<tr>\n",
       "  <th> </th>                       <td> </td>          <th>  LLR p-value:       </th>   <td> 0.000</td>   \n",
       "</tr>\n",
       "</table>\n",
       "<table class=\"simpletable\">\n",
       "<tr>\n",
       "        <td></td>          <th>coef</th>     <th>std err</th>      <th>z</th>      <th>P>|z|</th>  <th>[0.025</th>    <th>0.975]</th>  \n",
       "</tr>\n",
       "<tr>\n",
       "  <th>upm</th>          <td>    0.0053</td> <td>    0.005</td> <td>    1.091</td> <td> 0.275</td> <td>   -0.004</td> <td>    0.015</td>\n",
       "</tr>\n",
       "<tr>\n",
       "  <th>home_pitcher</th> <td>    0.0456</td> <td>    0.004</td> <td>   10.181</td> <td> 0.000</td> <td>    0.037</td> <td>    0.054</td>\n",
       "</tr>\n",
       "<tr>\n",
       "  <th>run_diff</th>     <td>    0.0158</td> <td>    0.001</td> <td>   20.676</td> <td> 0.000</td> <td>    0.014</td> <td>    0.017</td>\n",
       "</tr>\n",
       "<tr>\n",
       "  <th>count_0-1</th>    <td>   -1.1127</td> <td>    0.008</td> <td> -147.460</td> <td> 0.000</td> <td>   -1.128</td> <td>   -1.098</td>\n",
       "</tr>\n",
       "<tr>\n",
       "  <th>count_0-2</th>    <td>   -2.2577</td> <td>    0.015</td> <td> -147.383</td> <td> 0.000</td> <td>   -2.288</td> <td>   -2.228</td>\n",
       "</tr>\n",
       "<tr>\n",
       "  <th>count_1-0</th>    <td>   -0.1649</td> <td>    0.007</td> <td>  -23.815</td> <td> 0.000</td> <td>   -0.178</td> <td>   -0.151</td>\n",
       "</tr>\n",
       "<tr>\n",
       "  <th>count_1-1</th>    <td>   -0.9210</td> <td>    0.008</td> <td> -109.326</td> <td> 0.000</td> <td>   -0.938</td> <td>   -0.904</td>\n",
       "</tr>\n",
       "<tr>\n",
       "  <th>count_1-2</th>    <td>   -2.0140</td> <td>    0.013</td> <td> -159.614</td> <td> 0.000</td> <td>   -2.039</td> <td>   -1.989</td>\n",
       "</tr>\n",
       "<tr>\n",
       "  <th>count_2-0</th>    <td>    0.0349</td> <td>    0.011</td> <td>    3.195</td> <td> 0.001</td> <td>    0.013</td> <td>    0.056</td>\n",
       "</tr>\n",
       "<tr>\n",
       "  <th>count_2-1</th>    <td>   -0.7008</td> <td>    0.011</td> <td>  -61.043</td> <td> 0.000</td> <td>   -0.723</td> <td>   -0.678</td>\n",
       "</tr>\n",
       "<tr>\n",
       "  <th>count_2-2</th>    <td>   -1.6175</td> <td>    0.013</td> <td> -124.061</td> <td> 0.000</td> <td>   -1.643</td> <td>   -1.592</td>\n",
       "</tr>\n",
       "<tr>\n",
       "  <th>count_3-0</th>    <td>    0.7688</td> <td>    0.016</td> <td>   48.219</td> <td> 0.000</td> <td>    0.738</td> <td>    0.800</td>\n",
       "</tr>\n",
       "<tr>\n",
       "  <th>count_3-1</th>    <td>   -0.2912</td> <td>    0.016</td> <td>  -18.402</td> <td> 0.000</td> <td>   -0.322</td> <td>   -0.260</td>\n",
       "</tr>\n",
       "<tr>\n",
       "  <th>count_3-2</th>    <td>   -1.2888</td> <td>    0.017</td> <td>  -75.001</td> <td> 0.000</td> <td>   -1.322</td> <td>   -1.255</td>\n",
       "</tr>\n",
       "<tr>\n",
       "  <th>inning_2</th>     <td>    0.0146</td> <td>    0.009</td> <td>    1.595</td> <td> 0.111</td> <td>   -0.003</td> <td>    0.032</td>\n",
       "</tr>\n",
       "<tr>\n",
       "  <th>inning_3</th>     <td>   -0.0288</td> <td>    0.009</td> <td>   -3.145</td> <td> 0.002</td> <td>   -0.047</td> <td>   -0.011</td>\n",
       "</tr>\n",
       "<tr>\n",
       "  <th>inning_4</th>     <td>   -0.1038</td> <td>    0.009</td> <td>  -11.214</td> <td> 0.000</td> <td>   -0.122</td> <td>   -0.086</td>\n",
       "</tr>\n",
       "<tr>\n",
       "  <th>inning_5</th>     <td>   -0.0878</td> <td>    0.009</td> <td>   -9.478</td> <td> 0.000</td> <td>   -0.106</td> <td>   -0.070</td>\n",
       "</tr>\n",
       "<tr>\n",
       "  <th>inning_6</th>     <td>   -0.1408</td> <td>    0.009</td> <td>  -15.165</td> <td> 0.000</td> <td>   -0.159</td> <td>   -0.123</td>\n",
       "</tr>\n",
       "<tr>\n",
       "  <th>inning_7</th>     <td>   -0.1027</td> <td>    0.009</td> <td>  -11.081</td> <td> 0.000</td> <td>   -0.121</td> <td>   -0.085</td>\n",
       "</tr>\n",
       "<tr>\n",
       "  <th>inning_8</th>     <td>   -0.0843</td> <td>    0.009</td> <td>   -9.073</td> <td> 0.000</td> <td>   -0.103</td> <td>   -0.066</td>\n",
       "</tr>\n",
       "<tr>\n",
       "  <th>inning_9+</th>    <td>   -0.0600</td> <td>    0.009</td> <td>   -6.397</td> <td> 0.000</td> <td>   -0.078</td> <td>   -0.042</td>\n",
       "</tr>\n",
       "<tr>\n",
       "  <th>intercept</th>    <td>   -0.1376</td> <td>    0.008</td> <td>  -17.393</td> <td> 0.000</td> <td>   -0.153</td> <td>   -0.122</td>\n",
       "</tr>\n",
       "</table>"
      ],
      "text/plain": [
       "<class 'statsmodels.iolib.summary.Summary'>\n",
       "\"\"\"\n",
       "                            Logit Regression Results                           \n",
       "===============================================================================\n",
       "Dep. Variable:     strike_given_called   No. Observations:              1011460\n",
       "Model:                           Logit   Df Residuals:                  1011437\n",
       "Method:                            MLE   Df Model:                           22\n",
       "Date:                 Tue, 09 Jul 2019   Pseudo R-squ.:                 0.08224\n",
       "Time:                         18:04:50   Log-Likelihood:            -5.8779e+05\n",
       "converged:                        True   LL-Null:                   -6.4046e+05\n",
       "                                         LLR p-value:                     0.000\n",
       "================================================================================\n",
       "                   coef    std err          z      P>|z|      [0.025      0.975]\n",
       "--------------------------------------------------------------------------------\n",
       "upm              0.0053      0.005      1.091      0.275      -0.004       0.015\n",
       "home_pitcher     0.0456      0.004     10.181      0.000       0.037       0.054\n",
       "run_diff         0.0158      0.001     20.676      0.000       0.014       0.017\n",
       "count_0-1       -1.1127      0.008   -147.460      0.000      -1.128      -1.098\n",
       "count_0-2       -2.2577      0.015   -147.383      0.000      -2.288      -2.228\n",
       "count_1-0       -0.1649      0.007    -23.815      0.000      -0.178      -0.151\n",
       "count_1-1       -0.9210      0.008   -109.326      0.000      -0.938      -0.904\n",
       "count_1-2       -2.0140      0.013   -159.614      0.000      -2.039      -1.989\n",
       "count_2-0        0.0349      0.011      3.195      0.001       0.013       0.056\n",
       "count_2-1       -0.7008      0.011    -61.043      0.000      -0.723      -0.678\n",
       "count_2-2       -1.6175      0.013   -124.061      0.000      -1.643      -1.592\n",
       "count_3-0        0.7688      0.016     48.219      0.000       0.738       0.800\n",
       "count_3-1       -0.2912      0.016    -18.402      0.000      -0.322      -0.260\n",
       "count_3-2       -1.2888      0.017    -75.001      0.000      -1.322      -1.255\n",
       "inning_2         0.0146      0.009      1.595      0.111      -0.003       0.032\n",
       "inning_3        -0.0288      0.009     -3.145      0.002      -0.047      -0.011\n",
       "inning_4        -0.1038      0.009    -11.214      0.000      -0.122      -0.086\n",
       "inning_5        -0.0878      0.009     -9.478      0.000      -0.106      -0.070\n",
       "inning_6        -0.1408      0.009    -15.165      0.000      -0.159      -0.123\n",
       "inning_7        -0.1027      0.009    -11.081      0.000      -0.121      -0.085\n",
       "inning_8        -0.0843      0.009     -9.073      0.000      -0.103      -0.066\n",
       "inning_9+       -0.0600      0.009     -6.397      0.000      -0.078      -0.042\n",
       "intercept       -0.1376      0.008    -17.393      0.000      -0.153      -0.122\n",
       "================================================================================\n",
       "\"\"\""
      ]
     },
     "execution_count": 38,
     "metadata": {},
     "output_type": "execute_result"
    }
   ],
   "source": [
    "fit_white.summary()"
   ]
  },
  {
   "cell_type": "code",
   "execution_count": 39,
   "metadata": {},
   "outputs": [
    {
     "data": {
      "text/plain": [
       "0.0011165217354785766"
      ]
     },
     "execution_count": 39,
     "metadata": {},
     "output_type": "execute_result"
    }
   ],
   "source": [
    "upm_effects(fit_white)"
   ]
  },
  {
   "cell_type": "markdown",
   "metadata": {},
   "source": [
    "## Effects for black umpire"
   ]
  },
  {
   "cell_type": "code",
   "execution_count": 31,
   "metadata": {},
   "outputs": [],
   "source": [
    "black_umpires = cp_df[cp_df.umpire_race == 'black']"
   ]
  },
  {
   "cell_type": "code",
   "execution_count": 32,
   "metadata": {},
   "outputs": [
    {
     "name": "stdout",
     "output_type": "stream",
     "text": [
      "CPU times: user 2.35 s, sys: 27 ms, total: 2.38 s\n",
      "Wall time: 2.32 s\n"
     ]
    }
   ],
   "source": [
    "%time X_black, y_black = prepare_df(black_umpires)"
   ]
  },
  {
   "cell_type": "code",
   "execution_count": 40,
   "metadata": {},
   "outputs": [
    {
     "name": "stdout",
     "output_type": "stream",
     "text": [
      "Optimization terminated successfully.\n",
      "         Current function value: 0.578704\n",
      "         Iterations 6\n"
     ]
    }
   ],
   "source": [
    "fit_black = sm.Logit(y_black, X_black).fit()"
   ]
  },
  {
   "cell_type": "code",
   "execution_count": 41,
   "metadata": {},
   "outputs": [
    {
     "data": {
      "text/html": [
       "<table class=\"simpletable\">\n",
       "<caption>Logit Regression Results</caption>\n",
       "<tr>\n",
       "  <th>Dep. Variable:</th> <td>strike_given_called</td> <th>  No. Observations:  </th>  <td> 70230</td> \n",
       "</tr>\n",
       "<tr>\n",
       "  <th>Model:</th>                <td>Logit</td>        <th>  Df Residuals:      </th>  <td> 70207</td> \n",
       "</tr>\n",
       "<tr>\n",
       "  <th>Method:</th>                <td>MLE</td>         <th>  Df Model:          </th>  <td>    22</td> \n",
       "</tr>\n",
       "<tr>\n",
       "  <th>Date:</th>           <td>Tue, 09 Jul 2019</td>   <th>  Pseudo R-squ.:     </th>  <td>0.08512</td>\n",
       "</tr>\n",
       "<tr>\n",
       "  <th>Time:</th>               <td>18:05:02</td>       <th>  Log-Likelihood:    </th> <td> -40642.</td>\n",
       "</tr>\n",
       "<tr>\n",
       "  <th>converged:</th>            <td>True</td>         <th>  LL-Null:           </th> <td> -44424.</td>\n",
       "</tr>\n",
       "<tr>\n",
       "  <th> </th>                       <td> </td>          <th>  LLR p-value:       </th>  <td> 0.000</td> \n",
       "</tr>\n",
       "</table>\n",
       "<table class=\"simpletable\">\n",
       "<tr>\n",
       "        <td></td>          <th>coef</th>     <th>std err</th>      <th>z</th>      <th>P>|z|</th>  <th>[0.025</th>    <th>0.975]</th>  \n",
       "</tr>\n",
       "<tr>\n",
       "  <th>upm</th>          <td>   -0.0675</td> <td>    0.034</td> <td>   -1.968</td> <td> 0.049</td> <td>   -0.135</td> <td>   -0.000</td>\n",
       "</tr>\n",
       "<tr>\n",
       "  <th>home_pitcher</th> <td>   -0.0046</td> <td>    0.017</td> <td>   -0.268</td> <td> 0.789</td> <td>   -0.038</td> <td>    0.029</td>\n",
       "</tr>\n",
       "<tr>\n",
       "  <th>run_diff</th>     <td>    0.0075</td> <td>    0.003</td> <td>    2.749</td> <td> 0.006</td> <td>    0.002</td> <td>    0.013</td>\n",
       "</tr>\n",
       "<tr>\n",
       "  <th>count_0-1</th>    <td>   -1.1575</td> <td>    0.029</td> <td>  -39.992</td> <td> 0.000</td> <td>   -1.214</td> <td>   -1.101</td>\n",
       "</tr>\n",
       "<tr>\n",
       "  <th>count_0-2</th>    <td>   -2.2820</td> <td>    0.059</td> <td>  -38.712</td> <td> 0.000</td> <td>   -2.397</td> <td>   -2.166</td>\n",
       "</tr>\n",
       "<tr>\n",
       "  <th>count_1-0</th>    <td>   -0.1475</td> <td>    0.026</td> <td>   -5.613</td> <td> 0.000</td> <td>   -0.199</td> <td>   -0.096</td>\n",
       "</tr>\n",
       "<tr>\n",
       "  <th>count_1-1</th>    <td>   -0.9792</td> <td>    0.032</td> <td>  -30.320</td> <td> 0.000</td> <td>   -1.042</td> <td>   -0.916</td>\n",
       "</tr>\n",
       "<tr>\n",
       "  <th>count_1-2</th>    <td>   -2.0222</td> <td>    0.048</td> <td>  -42.087</td> <td> 0.000</td> <td>   -2.116</td> <td>   -1.928</td>\n",
       "</tr>\n",
       "<tr>\n",
       "  <th>count_2-0</th>    <td>    0.0759</td> <td>    0.042</td> <td>    1.820</td> <td> 0.069</td> <td>   -0.006</td> <td>    0.158</td>\n",
       "</tr>\n",
       "<tr>\n",
       "  <th>count_2-1</th>    <td>   -0.7499</td> <td>    0.043</td> <td>  -17.303</td> <td> 0.000</td> <td>   -0.835</td> <td>   -0.665</td>\n",
       "</tr>\n",
       "<tr>\n",
       "  <th>count_2-2</th>    <td>   -1.6533</td> <td>    0.050</td> <td>  -32.788</td> <td> 0.000</td> <td>   -1.752</td> <td>   -1.554</td>\n",
       "</tr>\n",
       "<tr>\n",
       "  <th>count_3-0</th>    <td>    0.8049</td> <td>    0.062</td> <td>   13.037</td> <td> 0.000</td> <td>    0.684</td> <td>    0.926</td>\n",
       "</tr>\n",
       "<tr>\n",
       "  <th>count_3-1</th>    <td>   -0.2210</td> <td>    0.059</td> <td>   -3.766</td> <td> 0.000</td> <td>   -0.336</td> <td>   -0.106</td>\n",
       "</tr>\n",
       "<tr>\n",
       "  <th>count_3-2</th>    <td>   -1.2556</td> <td>    0.064</td> <td>  -19.638</td> <td> 0.000</td> <td>   -1.381</td> <td>   -1.130</td>\n",
       "</tr>\n",
       "<tr>\n",
       "  <th>inning_2</th>     <td>    0.0626</td> <td>    0.035</td> <td>    1.810</td> <td> 0.070</td> <td>   -0.005</td> <td>    0.130</td>\n",
       "</tr>\n",
       "<tr>\n",
       "  <th>inning_3</th>     <td>    0.0556</td> <td>    0.035</td> <td>    1.589</td> <td> 0.112</td> <td>   -0.013</td> <td>    0.124</td>\n",
       "</tr>\n",
       "<tr>\n",
       "  <th>inning_4</th>     <td>   -0.1294</td> <td>    0.035</td> <td>   -3.665</td> <td> 0.000</td> <td>   -0.199</td> <td>   -0.060</td>\n",
       "</tr>\n",
       "<tr>\n",
       "  <th>inning_5</th>     <td>   -0.0103</td> <td>    0.035</td> <td>   -0.292</td> <td> 0.771</td> <td>   -0.079</td> <td>    0.059</td>\n",
       "</tr>\n",
       "<tr>\n",
       "  <th>inning_6</th>     <td>   -0.0585</td> <td>    0.036</td> <td>   -1.640</td> <td> 0.101</td> <td>   -0.128</td> <td>    0.011</td>\n",
       "</tr>\n",
       "<tr>\n",
       "  <th>inning_7</th>     <td>   -0.0761</td> <td>    0.036</td> <td>   -2.142</td> <td> 0.032</td> <td>   -0.146</td> <td>   -0.006</td>\n",
       "</tr>\n",
       "<tr>\n",
       "  <th>inning_8</th>     <td>   -0.0429</td> <td>    0.035</td> <td>   -1.218</td> <td> 0.223</td> <td>   -0.112</td> <td>    0.026</td>\n",
       "</tr>\n",
       "<tr>\n",
       "  <th>inning_9+</th>    <td>   -0.0246</td> <td>    0.036</td> <td>   -0.691</td> <td> 0.489</td> <td>   -0.094</td> <td>    0.045</td>\n",
       "</tr>\n",
       "<tr>\n",
       "  <th>intercept</th>    <td>   -0.1427</td> <td>    0.027</td> <td>   -5.222</td> <td> 0.000</td> <td>   -0.196</td> <td>   -0.089</td>\n",
       "</tr>\n",
       "</table>"
      ],
      "text/plain": [
       "<class 'statsmodels.iolib.summary.Summary'>\n",
       "\"\"\"\n",
       "                            Logit Regression Results                           \n",
       "===============================================================================\n",
       "Dep. Variable:     strike_given_called   No. Observations:                70230\n",
       "Model:                           Logit   Df Residuals:                    70207\n",
       "Method:                            MLE   Df Model:                           22\n",
       "Date:                 Tue, 09 Jul 2019   Pseudo R-squ.:                 0.08512\n",
       "Time:                         18:05:02   Log-Likelihood:                -40642.\n",
       "converged:                        True   LL-Null:                       -44424.\n",
       "                                         LLR p-value:                     0.000\n",
       "================================================================================\n",
       "                   coef    std err          z      P>|z|      [0.025      0.975]\n",
       "--------------------------------------------------------------------------------\n",
       "upm             -0.0675      0.034     -1.968      0.049      -0.135      -0.000\n",
       "home_pitcher    -0.0046      0.017     -0.268      0.789      -0.038       0.029\n",
       "run_diff         0.0075      0.003      2.749      0.006       0.002       0.013\n",
       "count_0-1       -1.1575      0.029    -39.992      0.000      -1.214      -1.101\n",
       "count_0-2       -2.2820      0.059    -38.712      0.000      -2.397      -2.166\n",
       "count_1-0       -0.1475      0.026     -5.613      0.000      -0.199      -0.096\n",
       "count_1-1       -0.9792      0.032    -30.320      0.000      -1.042      -0.916\n",
       "count_1-2       -2.0222      0.048    -42.087      0.000      -2.116      -1.928\n",
       "count_2-0        0.0759      0.042      1.820      0.069      -0.006       0.158\n",
       "count_2-1       -0.7499      0.043    -17.303      0.000      -0.835      -0.665\n",
       "count_2-2       -1.6533      0.050    -32.788      0.000      -1.752      -1.554\n",
       "count_3-0        0.8049      0.062     13.037      0.000       0.684       0.926\n",
       "count_3-1       -0.2210      0.059     -3.766      0.000      -0.336      -0.106\n",
       "count_3-2       -1.2556      0.064    -19.638      0.000      -1.381      -1.130\n",
       "inning_2         0.0626      0.035      1.810      0.070      -0.005       0.130\n",
       "inning_3         0.0556      0.035      1.589      0.112      -0.013       0.124\n",
       "inning_4        -0.1294      0.035     -3.665      0.000      -0.199      -0.060\n",
       "inning_5        -0.0103      0.035     -0.292      0.771      -0.079       0.059\n",
       "inning_6        -0.0585      0.036     -1.640      0.101      -0.128       0.011\n",
       "inning_7        -0.0761      0.036     -2.142      0.032      -0.146      -0.006\n",
       "inning_8        -0.0429      0.035     -1.218      0.223      -0.112       0.026\n",
       "inning_9+       -0.0246      0.036     -0.691      0.489      -0.094       0.045\n",
       "intercept       -0.1427      0.027     -5.222      0.000      -0.196      -0.089\n",
       "================================================================================\n",
       "\"\"\""
      ]
     },
     "execution_count": 41,
     "metadata": {},
     "output_type": "execute_result"
    }
   ],
   "source": [
    "fit_black.summary()"
   ]
  },
  {
   "cell_type": "code",
   "execution_count": 42,
   "metadata": {},
   "outputs": [
    {
     "data": {
      "text/plain": [
       "-0.014262807483721099"
      ]
     },
     "execution_count": 42,
     "metadata": {},
     "output_type": "execute_result"
    }
   ],
   "source": [
    "upm_effects(fit_black)"
   ]
  },
  {
   "cell_type": "markdown",
   "metadata": {},
   "source": [
    "## Effects for hispanic umpire"
   ]
  },
  {
   "cell_type": "code",
   "execution_count": 43,
   "metadata": {},
   "outputs": [],
   "source": [
    "hispanic_umpire = cp_df[cp_df.umpire_race == 'hispanic']"
   ]
  },
  {
   "cell_type": "code",
   "execution_count": 44,
   "metadata": {},
   "outputs": [
    {
     "name": "stdout",
     "output_type": "stream",
     "text": [
      "CPU times: user 1.8 s, sys: 25.6 ms, total: 1.83 s\n",
      "Wall time: 1.84 s\n"
     ]
    }
   ],
   "source": [
    "%time X_hispanic, y_hispanic = prepare_df(hispanic_umpire)"
   ]
  },
  {
   "cell_type": "code",
   "execution_count": 46,
   "metadata": {},
   "outputs": [
    {
     "name": "stdout",
     "output_type": "stream",
     "text": [
      "Optimization terminated successfully.\n",
      "         Current function value: 0.576493\n",
      "         Iterations 6\n"
     ]
    }
   ],
   "source": [
    "fit_hispanic = sm.Logit(y_hispanic, X_hispanic).fit()"
   ]
  },
  {
   "cell_type": "code",
   "execution_count": 47,
   "metadata": {},
   "outputs": [
    {
     "data": {
      "text/plain": [
       "-0.0008806338471457959"
      ]
     },
     "execution_count": 47,
     "metadata": {},
     "output_type": "execute_result"
    }
   ],
   "source": [
    "upm_effects(fit_hispanic)"
   ]
  },
  {
   "cell_type": "markdown",
   "metadata": {},
   "source": [
    "## Effects for nonwhite umpire"
   ]
  },
  {
   "cell_type": "code",
   "execution_count": 48,
   "metadata": {},
   "outputs": [],
   "source": [
    "def white_or_not(r):\n",
    "    if r == 'white':\n",
    "        return 'white'\n",
    "    else:\n",
    "        return 'nonwhite'"
   ]
  },
  {
   "cell_type": "code",
   "execution_count": 49,
   "metadata": {},
   "outputs": [],
   "source": [
    "w_nw_df = cp_df"
   ]
  },
  {
   "cell_type": "code",
   "execution_count": 50,
   "metadata": {},
   "outputs": [],
   "source": [
    "w_nw_df.umpire_race = w_nw_df.umpire_race.apply(white_or_not)"
   ]
  },
  {
   "cell_type": "code",
   "execution_count": 51,
   "metadata": {},
   "outputs": [],
   "source": [
    "w_nw_df.pitcher_race = w_nw_df.pitcher_race.apply(white_or_not)"
   ]
  },
  {
   "cell_type": "code",
   "execution_count": 52,
   "metadata": {},
   "outputs": [
    {
     "data": {
      "text/html": [
       "<div>\n",
       "<style scoped>\n",
       "    .dataframe tbody tr th:only-of-type {\n",
       "        vertical-align: middle;\n",
       "    }\n",
       "\n",
       "    .dataframe tbody tr th {\n",
       "        vertical-align: top;\n",
       "    }\n",
       "\n",
       "    .dataframe thead th {\n",
       "        text-align: right;\n",
       "    }\n",
       "</style>\n",
       "<table border=\"1\" class=\"dataframe\">\n",
       "  <thead>\n",
       "    <tr style=\"text-align: right;\">\n",
       "      <th></th>\n",
       "      <th>count</th>\n",
       "      <th>home_pitcher</th>\n",
       "      <th>inning</th>\n",
       "      <th>run_diff</th>\n",
       "      <th>strike_given_called</th>\n",
       "      <th>pitcher_race</th>\n",
       "      <th>umpire_race</th>\n",
       "    </tr>\n",
       "  </thead>\n",
       "  <tbody>\n",
       "    <tr>\n",
       "      <th>2642</th>\n",
       "      <td>0-0</td>\n",
       "      <td>1</td>\n",
       "      <td>1</td>\n",
       "      <td>0</td>\n",
       "      <td>False</td>\n",
       "      <td>white</td>\n",
       "      <td>nonwhite</td>\n",
       "    </tr>\n",
       "    <tr>\n",
       "      <th>2643</th>\n",
       "      <td>1-0</td>\n",
       "      <td>1</td>\n",
       "      <td>1</td>\n",
       "      <td>0</td>\n",
       "      <td>True</td>\n",
       "      <td>white</td>\n",
       "      <td>nonwhite</td>\n",
       "    </tr>\n",
       "    <tr>\n",
       "      <th>2644</th>\n",
       "      <td>1-1</td>\n",
       "      <td>1</td>\n",
       "      <td>1</td>\n",
       "      <td>0</td>\n",
       "      <td>False</td>\n",
       "      <td>white</td>\n",
       "      <td>nonwhite</td>\n",
       "    </tr>\n",
       "    <tr>\n",
       "      <th>2645</th>\n",
       "      <td>0-1</td>\n",
       "      <td>1</td>\n",
       "      <td>1</td>\n",
       "      <td>0</td>\n",
       "      <td>False</td>\n",
       "      <td>white</td>\n",
       "      <td>nonwhite</td>\n",
       "    </tr>\n",
       "    <tr>\n",
       "      <th>2646</th>\n",
       "      <td>0-0</td>\n",
       "      <td>1</td>\n",
       "      <td>1</td>\n",
       "      <td>0</td>\n",
       "      <td>False</td>\n",
       "      <td>white</td>\n",
       "      <td>nonwhite</td>\n",
       "    </tr>\n",
       "  </tbody>\n",
       "</table>\n",
       "</div>"
      ],
      "text/plain": [
       "     count  home_pitcher  inning  run_diff  strike_given_called pitcher_race  \\\n",
       "2642   0-0             1       1         0                False        white   \n",
       "2643   1-0             1       1         0                 True        white   \n",
       "2644   1-1             1       1         0                False        white   \n",
       "2645   0-1             1       1         0                False        white   \n",
       "2646   0-0             1       1         0                False        white   \n",
       "\n",
       "     umpire_race  \n",
       "2642    nonwhite  \n",
       "2643    nonwhite  \n",
       "2644    nonwhite  \n",
       "2645    nonwhite  \n",
       "2646    nonwhite  "
      ]
     },
     "execution_count": 52,
     "metadata": {},
     "output_type": "execute_result"
    }
   ],
   "source": [
    "nonwhite_umpire = w_nw_df[w_nw_df.umpire_race == 'nonwhite']\n",
    "nonwhite_umpire.head()"
   ]
  },
  {
   "cell_type": "code",
   "execution_count": 53,
   "metadata": {},
   "outputs": [
    {
     "name": "stdout",
     "output_type": "stream",
     "text": [
      "CPU times: user 4.38 s, sys: 44.1 ms, total: 4.43 s\n",
      "Wall time: 4.19 s\n"
     ]
    }
   ],
   "source": [
    "%time X_nonwhite, y_nonwhite = prepare_df(nonwhite_umpire)"
   ]
  },
  {
   "cell_type": "code",
   "execution_count": 54,
   "metadata": {
    "scrolled": true
   },
   "outputs": [
    {
     "name": "stdout",
     "output_type": "stream",
     "text": [
      "Optimization terminated successfully.\n",
      "         Current function value: 0.577946\n",
      "         Iterations 6\n"
     ]
    }
   ],
   "source": [
    "fit_nonwhite = sm.Logit(y_nonwhite, X_nonwhite).fit()"
   ]
  },
  {
   "cell_type": "code",
   "execution_count": 56,
   "metadata": {},
   "outputs": [
    {
     "data": {
      "text/html": [
       "<table class=\"simpletable\">\n",
       "<caption>Logit Regression Results</caption>\n",
       "<tr>\n",
       "  <th>Dep. Variable:</th> <td>strike_given_called</td> <th>  No. Observations:  </th>  <td>125036</td> \n",
       "</tr>\n",
       "<tr>\n",
       "  <th>Model:</th>                <td>Logit</td>        <th>  Df Residuals:      </th>  <td>125013</td> \n",
       "</tr>\n",
       "<tr>\n",
       "  <th>Method:</th>                <td>MLE</td>         <th>  Df Model:          </th>  <td>    22</td> \n",
       "</tr>\n",
       "<tr>\n",
       "  <th>Date:</th>           <td>Tue, 09 Jul 2019</td>   <th>  Pseudo R-squ.:     </th>  <td>0.08485</td>\n",
       "</tr>\n",
       "<tr>\n",
       "  <th>Time:</th>               <td>18:10:21</td>       <th>  Log-Likelihood:    </th> <td> -72264.</td>\n",
       "</tr>\n",
       "<tr>\n",
       "  <th>converged:</th>            <td>True</td>         <th>  LL-Null:           </th> <td> -78964.</td>\n",
       "</tr>\n",
       "<tr>\n",
       "  <th> </th>                       <td> </td>          <th>  LLR p-value:       </th>  <td> 0.000</td> \n",
       "</tr>\n",
       "</table>\n",
       "<table class=\"simpletable\">\n",
       "<tr>\n",
       "        <td></td>          <th>coef</th>     <th>std err</th>      <th>z</th>      <th>P>|z|</th>  <th>[0.025</th>    <th>0.975]</th>  \n",
       "</tr>\n",
       "<tr>\n",
       "  <th>upm</th>          <td>   -0.0237</td> <td>    0.014</td> <td>   -1.708</td> <td> 0.088</td> <td>   -0.051</td> <td>    0.004</td>\n",
       "</tr>\n",
       "<tr>\n",
       "  <th>home_pitcher</th> <td>    0.0361</td> <td>    0.013</td> <td>    2.827</td> <td> 0.005</td> <td>    0.011</td> <td>    0.061</td>\n",
       "</tr>\n",
       "<tr>\n",
       "  <th>run_diff</th>     <td>    0.0106</td> <td>    0.002</td> <td>    5.250</td> <td> 0.000</td> <td>    0.007</td> <td>    0.015</td>\n",
       "</tr>\n",
       "<tr>\n",
       "  <th>count_0-1</th>    <td>   -1.1499</td> <td>    0.022</td> <td>  -53.039</td> <td> 0.000</td> <td>   -1.192</td> <td>   -1.107</td>\n",
       "</tr>\n",
       "<tr>\n",
       "  <th>count_0-2</th>    <td>   -2.2840</td> <td>    0.044</td> <td>  -51.758</td> <td> 0.000</td> <td>   -2.370</td> <td>   -2.197</td>\n",
       "</tr>\n",
       "<tr>\n",
       "  <th>count_1-0</th>    <td>   -0.1603</td> <td>    0.020</td> <td>   -8.129</td> <td> 0.000</td> <td>   -0.199</td> <td>   -0.122</td>\n",
       "</tr>\n",
       "<tr>\n",
       "  <th>count_1-1</th>    <td>   -0.9375</td> <td>    0.024</td> <td>  -38.962</td> <td> 0.000</td> <td>   -0.985</td> <td>   -0.890</td>\n",
       "</tr>\n",
       "<tr>\n",
       "  <th>count_1-2</th>    <td>   -2.0080</td> <td>    0.036</td> <td>  -56.258</td> <td> 0.000</td> <td>   -2.078</td> <td>   -1.938</td>\n",
       "</tr>\n",
       "<tr>\n",
       "  <th>count_2-0</th>    <td>    0.0661</td> <td>    0.031</td> <td>    2.119</td> <td> 0.034</td> <td>    0.005</td> <td>    0.127</td>\n",
       "</tr>\n",
       "<tr>\n",
       "  <th>count_2-1</th>    <td>   -0.7251</td> <td>    0.033</td> <td>  -22.163</td> <td> 0.000</td> <td>   -0.789</td> <td>   -0.661</td>\n",
       "</tr>\n",
       "<tr>\n",
       "  <th>count_2-2</th>    <td>   -1.6792</td> <td>    0.038</td> <td>  -44.383</td> <td> 0.000</td> <td>   -1.753</td> <td>   -1.605</td>\n",
       "</tr>\n",
       "<tr>\n",
       "  <th>count_3-0</th>    <td>    0.8446</td> <td>    0.046</td> <td>   18.268</td> <td> 0.000</td> <td>    0.754</td> <td>    0.935</td>\n",
       "</tr>\n",
       "<tr>\n",
       "  <th>count_3-1</th>    <td>   -0.2953</td> <td>    0.045</td> <td>   -6.607</td> <td> 0.000</td> <td>   -0.383</td> <td>   -0.208</td>\n",
       "</tr>\n",
       "<tr>\n",
       "  <th>count_3-2</th>    <td>   -1.2457</td> <td>    0.049</td> <td>  -25.685</td> <td> 0.000</td> <td>   -1.341</td> <td>   -1.151</td>\n",
       "</tr>\n",
       "<tr>\n",
       "  <th>inning_2</th>     <td>    0.0111</td> <td>    0.026</td> <td>    0.427</td> <td> 0.669</td> <td>   -0.040</td> <td>    0.062</td>\n",
       "</tr>\n",
       "<tr>\n",
       "  <th>inning_3</th>     <td>    0.0577</td> <td>    0.026</td> <td>    2.210</td> <td> 0.027</td> <td>    0.007</td> <td>    0.109</td>\n",
       "</tr>\n",
       "<tr>\n",
       "  <th>inning_4</th>     <td>   -0.0992</td> <td>    0.026</td> <td>   -3.765</td> <td> 0.000</td> <td>   -0.151</td> <td>   -0.048</td>\n",
       "</tr>\n",
       "<tr>\n",
       "  <th>inning_5</th>     <td>   -0.0627</td> <td>    0.026</td> <td>   -2.378</td> <td> 0.017</td> <td>   -0.114</td> <td>   -0.011</td>\n",
       "</tr>\n",
       "<tr>\n",
       "  <th>inning_6</th>     <td>   -0.1098</td> <td>    0.027</td> <td>   -4.114</td> <td> 0.000</td> <td>   -0.162</td> <td>   -0.057</td>\n",
       "</tr>\n",
       "<tr>\n",
       "  <th>inning_7</th>     <td>   -0.0809</td> <td>    0.027</td> <td>   -3.050</td> <td> 0.002</td> <td>   -0.133</td> <td>   -0.029</td>\n",
       "</tr>\n",
       "<tr>\n",
       "  <th>inning_8</th>     <td>   -0.0862</td> <td>    0.026</td> <td>   -3.257</td> <td> 0.001</td> <td>   -0.138</td> <td>   -0.034</td>\n",
       "</tr>\n",
       "<tr>\n",
       "  <th>inning_9+</th>    <td>   -0.0522</td> <td>    0.027</td> <td>   -1.950</td> <td> 0.051</td> <td>   -0.105</td> <td>    0.000</td>\n",
       "</tr>\n",
       "<tr>\n",
       "  <th>intercept</th>    <td>   -0.1455</td> <td>    0.021</td> <td>   -6.988</td> <td> 0.000</td> <td>   -0.186</td> <td>   -0.105</td>\n",
       "</tr>\n",
       "</table>"
      ],
      "text/plain": [
       "<class 'statsmodels.iolib.summary.Summary'>\n",
       "\"\"\"\n",
       "                            Logit Regression Results                           \n",
       "===============================================================================\n",
       "Dep. Variable:     strike_given_called   No. Observations:               125036\n",
       "Model:                           Logit   Df Residuals:                   125013\n",
       "Method:                            MLE   Df Model:                           22\n",
       "Date:                 Tue, 09 Jul 2019   Pseudo R-squ.:                 0.08485\n",
       "Time:                         18:10:21   Log-Likelihood:                -72264.\n",
       "converged:                        True   LL-Null:                       -78964.\n",
       "                                         LLR p-value:                     0.000\n",
       "================================================================================\n",
       "                   coef    std err          z      P>|z|      [0.025      0.975]\n",
       "--------------------------------------------------------------------------------\n",
       "upm             -0.0237      0.014     -1.708      0.088      -0.051       0.004\n",
       "home_pitcher     0.0361      0.013      2.827      0.005       0.011       0.061\n",
       "run_diff         0.0106      0.002      5.250      0.000       0.007       0.015\n",
       "count_0-1       -1.1499      0.022    -53.039      0.000      -1.192      -1.107\n",
       "count_0-2       -2.2840      0.044    -51.758      0.000      -2.370      -2.197\n",
       "count_1-0       -0.1603      0.020     -8.129      0.000      -0.199      -0.122\n",
       "count_1-1       -0.9375      0.024    -38.962      0.000      -0.985      -0.890\n",
       "count_1-2       -2.0080      0.036    -56.258      0.000      -2.078      -1.938\n",
       "count_2-0        0.0661      0.031      2.119      0.034       0.005       0.127\n",
       "count_2-1       -0.7251      0.033    -22.163      0.000      -0.789      -0.661\n",
       "count_2-2       -1.6792      0.038    -44.383      0.000      -1.753      -1.605\n",
       "count_3-0        0.8446      0.046     18.268      0.000       0.754       0.935\n",
       "count_3-1       -0.2953      0.045     -6.607      0.000      -0.383      -0.208\n",
       "count_3-2       -1.2457      0.049    -25.685      0.000      -1.341      -1.151\n",
       "inning_2         0.0111      0.026      0.427      0.669      -0.040       0.062\n",
       "inning_3         0.0577      0.026      2.210      0.027       0.007       0.109\n",
       "inning_4        -0.0992      0.026     -3.765      0.000      -0.151      -0.048\n",
       "inning_5        -0.0627      0.026     -2.378      0.017      -0.114      -0.011\n",
       "inning_6        -0.1098      0.027     -4.114      0.000      -0.162      -0.057\n",
       "inning_7        -0.0809      0.027     -3.050      0.002      -0.133      -0.029\n",
       "inning_8        -0.0862      0.026     -3.257      0.001      -0.138      -0.034\n",
       "inning_9+       -0.0522      0.027     -1.950      0.051      -0.105       0.000\n",
       "intercept       -0.1455      0.021     -6.988      0.000      -0.186      -0.105\n",
       "================================================================================\n",
       "\"\"\""
      ]
     },
     "execution_count": 56,
     "metadata": {},
     "output_type": "execute_result"
    }
   ],
   "source": [
    "fit_nonwhite.summary()"
   ]
  },
  {
   "cell_type": "code",
   "execution_count": 55,
   "metadata": {},
   "outputs": [
    {
     "data": {
      "text/plain": [
       "-0.005011480822723513"
      ]
     },
     "execution_count": 55,
     "metadata": {},
     "output_type": "execute_result"
    }
   ],
   "source": [
    "upm_effects(fit_nonwhite)"
   ]
  }
 ],
 "metadata": {
  "kernelspec": {
   "display_name": "Python 3",
   "language": "python",
   "name": "python3"
  },
  "language_info": {
   "codemirror_mode": {
    "name": "ipython",
    "version": 3
   },
   "file_extension": ".py",
   "mimetype": "text/x-python",
   "name": "python",
   "nbconvert_exporter": "python",
   "pygments_lexer": "ipython3",
   "version": "3.7.1"
  }
 },
 "nbformat": 4,
 "nbformat_minor": 2
}
