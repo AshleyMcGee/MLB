{
 "cells": [
  {
   "cell_type": "code",
   "execution_count": 1,
   "metadata": {},
   "outputs": [],
   "source": [
    "import pandas as pd\n",
    "import numpy as np\n",
    "\n",
    "# Tools for recursive feature selection\n",
    "from sklearn.linear_model import LogisticRegression\n",
    "from sklearn.feature_selection import RFE\n",
    "\n",
    "# Tools for fitting logistic regression and getting p-values\n",
    "import statsmodels.api as sm\n",
    "\n",
    "# For plotting\n",
    "import matplotlib.pyplot as plt\n",
    "\n",
    "# Our local, useful functions\n",
    "from baseball_utils import *"
   ]
  },
  {
   "cell_type": "code",
   "execution_count": 52,
   "metadata": {},
   "outputs": [
    {
     "data": {
      "text/html": [
       "<div>\n",
       "<style scoped>\n",
       "    .dataframe tbody tr th:only-of-type {\n",
       "        vertical-align: middle;\n",
       "    }\n",
       "\n",
       "    .dataframe tbody tr th {\n",
       "        vertical-align: top;\n",
       "    }\n",
       "\n",
       "    .dataframe thead th {\n",
       "        text-align: right;\n",
       "    }\n",
       "</style>\n",
       "<table border=\"1\" class=\"dataframe\">\n",
       "  <thead>\n",
       "    <tr style=\"text-align: right;\">\n",
       "      <th></th>\n",
       "      <th>count</th>\n",
       "      <th>home_pitcher</th>\n",
       "      <th>inning</th>\n",
       "      <th>run_diff</th>\n",
       "      <th>strike_given_called</th>\n",
       "      <th>pitcher_race</th>\n",
       "      <th>umpire_race</th>\n",
       "    </tr>\n",
       "  </thead>\n",
       "  <tbody>\n",
       "    <tr>\n",
       "      <th>0</th>\n",
       "      <td>0-0</td>\n",
       "      <td>1</td>\n",
       "      <td>1</td>\n",
       "      <td>0</td>\n",
       "      <td>True</td>\n",
       "      <td>white</td>\n",
       "      <td>white</td>\n",
       "    </tr>\n",
       "    <tr>\n",
       "      <th>1</th>\n",
       "      <td>0-0</td>\n",
       "      <td>1</td>\n",
       "      <td>1</td>\n",
       "      <td>0</td>\n",
       "      <td>False</td>\n",
       "      <td>white</td>\n",
       "      <td>white</td>\n",
       "    </tr>\n",
       "    <tr>\n",
       "      <th>2</th>\n",
       "      <td>1-1</td>\n",
       "      <td>1</td>\n",
       "      <td>1</td>\n",
       "      <td>0</td>\n",
       "      <td>True</td>\n",
       "      <td>white</td>\n",
       "      <td>white</td>\n",
       "    </tr>\n",
       "    <tr>\n",
       "      <th>3</th>\n",
       "      <td>1-2</td>\n",
       "      <td>1</td>\n",
       "      <td>1</td>\n",
       "      <td>0</td>\n",
       "      <td>False</td>\n",
       "      <td>white</td>\n",
       "      <td>white</td>\n",
       "    </tr>\n",
       "    <tr>\n",
       "      <th>4</th>\n",
       "      <td>0-0</td>\n",
       "      <td>1</td>\n",
       "      <td>1</td>\n",
       "      <td>0</td>\n",
       "      <td>False</td>\n",
       "      <td>white</td>\n",
       "      <td>white</td>\n",
       "    </tr>\n",
       "    <tr>\n",
       "      <th>5</th>\n",
       "      <td>1-1</td>\n",
       "      <td>1</td>\n",
       "      <td>1</td>\n",
       "      <td>0</td>\n",
       "      <td>False</td>\n",
       "      <td>white</td>\n",
       "      <td>white</td>\n",
       "    </tr>\n",
       "    <tr>\n",
       "      <th>6</th>\n",
       "      <td>0-2</td>\n",
       "      <td>0</td>\n",
       "      <td>1</td>\n",
       "      <td>0</td>\n",
       "      <td>False</td>\n",
       "      <td>white</td>\n",
       "      <td>white</td>\n",
       "    </tr>\n",
       "    <tr>\n",
       "      <th>7</th>\n",
       "      <td>1-2</td>\n",
       "      <td>0</td>\n",
       "      <td>1</td>\n",
       "      <td>0</td>\n",
       "      <td>False</td>\n",
       "      <td>white</td>\n",
       "      <td>white</td>\n",
       "    </tr>\n",
       "    <tr>\n",
       "      <th>8</th>\n",
       "      <td>0-0</td>\n",
       "      <td>0</td>\n",
       "      <td>1</td>\n",
       "      <td>0</td>\n",
       "      <td>True</td>\n",
       "      <td>white</td>\n",
       "      <td>white</td>\n",
       "    </tr>\n",
       "    <tr>\n",
       "      <th>9</th>\n",
       "      <td>0-2</td>\n",
       "      <td>0</td>\n",
       "      <td>1</td>\n",
       "      <td>0</td>\n",
       "      <td>True</td>\n",
       "      <td>white</td>\n",
       "      <td>white</td>\n",
       "    </tr>\n",
       "  </tbody>\n",
       "</table>\n",
       "</div>"
      ],
      "text/plain": [
       "  count  home_pitcher  inning  run_diff  strike_given_called pitcher_race  \\\n",
       "0   0-0             1       1         0                 True        white   \n",
       "1   0-0             1       1         0                False        white   \n",
       "2   1-1             1       1         0                 True        white   \n",
       "3   1-2             1       1         0                False        white   \n",
       "4   0-0             1       1         0                False        white   \n",
       "5   1-1             1       1         0                False        white   \n",
       "6   0-2             0       1         0                False        white   \n",
       "7   1-2             0       1         0                False        white   \n",
       "8   0-0             0       1         0                 True        white   \n",
       "9   0-2             0       1         0                 True        white   \n",
       "\n",
       "  umpire_race  \n",
       "0       white  \n",
       "1       white  \n",
       "2       white  \n",
       "3       white  \n",
       "4       white  \n",
       "5       white  \n",
       "6       white  \n",
       "7       white  \n",
       "8       white  \n",
       "9       white  "
      ]
     },
     "execution_count": 52,
     "metadata": {},
     "output_type": "execute_result"
    }
   ],
   "source": [
    "# Read in the scraped, merged dataframe\n",
    "cp_df = pd.read_csv(\"cp_merged.csv\")\n",
    "cp_df.head(10)"
   ]
  },
  {
   "cell_type": "markdown",
   "metadata": {},
   "source": [
    "## Overall notes on data"
   ]
  },
  {
   "cell_type": "markdown",
   "metadata": {},
   "source": [
    "## Analysis of logistic regression for all data\n",
    "* p-value for UPM coefficient is large (0.239) indicating lack of significance\n",
    "* effect of UPM coefficient is small (were it to be considered significant, it would indicate that the umpire was only 0.1% more likely to call a strike when the pitcher matched on race)\n",
    "* It is interesting to note that the magnitude of $\\beta_1$ (where $\\beta_1$ denotes the UPM coefficient) decreases as more control features are removes; at the same time as $|\\beta_1|$ decreases, the $p$-value increases. This effect can be seen for most of the following subset analyses for when the umpire's race is held constant."
   ]
  },
  {
   "cell_type": "code",
   "execution_count": 3,
   "metadata": {},
   "outputs": [
    {
     "name": "stderr",
     "output_type": "stream",
     "text": [
      "/Users/robertair2019/Desktop/upm/baseball_utils.py:26: SettingWithCopyWarning: \n",
      "A value is trying to be set on a copy of a slice from a DataFrame.\n",
      "Try using .loc[row_indexer,col_indexer] = value instead\n",
      "\n",
      "See the caveats in the documentation: http://pandas.pydata.org/pandas-docs/stable/indexing.html#indexing-view-versus-copy\n",
      "  df['strike_given_called'] = df['strike_given_called'].apply(int)\n",
      "/Users/robertair2019/Desktop/upm/baseball_utils.py:30: SettingWithCopyWarning: \n",
      "A value is trying to be set on a copy of a slice from a DataFrame.\n",
      "Try using .loc[row_indexer,col_indexer] = value instead\n",
      "\n",
      "See the caveats in the documentation: http://pandas.pydata.org/pandas-docs/stable/indexing.html#indexing-view-versus-copy\n",
      "  df['upm'] = df.apply(lambda x: x.pitcher_race==x.umpire_race, axis=1).apply(int)\n"
     ]
    },
    {
     "name": "stdout",
     "output_type": "stream",
     "text": [
      "CPU times: user 38.6 s, sys: 462 ms, total: 39 s\n",
      "Wall time: 38.5 s\n"
     ]
    }
   ],
   "source": [
    "# Prepare the data for fitting\n",
    "%time X, y = prepare_df(cp_df)"
   ]
  },
  {
   "cell_type": "code",
   "execution_count": 4,
   "metadata": {},
   "outputs": [
    {
     "name": "stdout",
     "output_type": "stream",
     "text": [
      "Optimization terminated successfully.\n",
      "         Current function value: 0.580795\n",
      "         Iterations 6\n"
     ]
    }
   ],
   "source": [
    "# Fit logistic regression on data\n",
    "fit = sm.Logit(y, X).fit()"
   ]
  },
  {
   "cell_type": "code",
   "execution_count": 5,
   "metadata": {
    "scrolled": false
   },
   "outputs": [
    {
     "data": {
      "text/html": [
       "<table class=\"simpletable\">\n",
       "<caption>Logit Regression Results</caption>\n",
       "<tr>\n",
       "  <th>Dep. Variable:</th> <td>strike_given_called</td> <th>  No. Observations:  </th>   <td>1136496</td>  \n",
       "</tr>\n",
       "<tr>\n",
       "  <th>Model:</th>                <td>Logit</td>        <th>  Df Residuals:      </th>   <td>1136473</td>  \n",
       "</tr>\n",
       "<tr>\n",
       "  <th>Method:</th>                <td>MLE</td>         <th>  Df Model:          </th>   <td>    22</td>   \n",
       "</tr>\n",
       "<tr>\n",
       "  <th>Date:</th>           <td>Tue, 09 Jul 2019</td>   <th>  Pseudo R-squ.:     </th>   <td>0.08250</td>  \n",
       "</tr>\n",
       "<tr>\n",
       "  <th>Time:</th>               <td>19:02:56</td>       <th>  Log-Likelihood:    </th> <td>-6.6007e+05</td>\n",
       "</tr>\n",
       "<tr>\n",
       "  <th>converged:</th>            <td>True</td>         <th>  LL-Null:           </th> <td>-7.1942e+05</td>\n",
       "</tr>\n",
       "<tr>\n",
       "  <th> </th>                       <td> </td>          <th>  LLR p-value:       </th>   <td> 0.000</td>   \n",
       "</tr>\n",
       "</table>\n",
       "<table class=\"simpletable\">\n",
       "<tr>\n",
       "        <td></td>          <th>coef</th>     <th>std err</th>      <th>z</th>      <th>P>|z|</th>  <th>[0.025</th>    <th>0.975]</th>  \n",
       "</tr>\n",
       "<tr>\n",
       "  <th>upm</th>          <td>    0.0051</td> <td>    0.004</td> <td>    1.177</td> <td> 0.239</td> <td>   -0.003</td> <td>    0.014</td>\n",
       "</tr>\n",
       "<tr>\n",
       "  <th>home_pitcher</th> <td>    0.0445</td> <td>    0.004</td> <td>   10.536</td> <td> 0.000</td> <td>    0.036</td> <td>    0.053</td>\n",
       "</tr>\n",
       "<tr>\n",
       "  <th>run_diff</th>     <td>    0.0151</td> <td>    0.001</td> <td>   21.209</td> <td> 0.000</td> <td>    0.014</td> <td>    0.017</td>\n",
       "</tr>\n",
       "<tr>\n",
       "  <th>count_0-1</th>    <td>   -1.1167</td> <td>    0.007</td> <td> -156.696</td> <td> 0.000</td> <td>   -1.131</td> <td>   -1.103</td>\n",
       "</tr>\n",
       "<tr>\n",
       "  <th>count_0-2</th>    <td>   -2.2604</td> <td>    0.014</td> <td> -156.204</td> <td> 0.000</td> <td>   -2.289</td> <td>   -2.232</td>\n",
       "</tr>\n",
       "<tr>\n",
       "  <th>count_1-0</th>    <td>   -0.1644</td> <td>    0.007</td> <td>  -25.165</td> <td> 0.000</td> <td>   -0.177</td> <td>   -0.152</td>\n",
       "</tr>\n",
       "<tr>\n",
       "  <th>count_1-1</th>    <td>   -0.9228</td> <td>    0.008</td> <td> -116.058</td> <td> 0.000</td> <td>   -0.938</td> <td>   -0.907</td>\n",
       "</tr>\n",
       "<tr>\n",
       "  <th>count_1-2</th>    <td>   -2.0133</td> <td>    0.012</td> <td> -169.233</td> <td> 0.000</td> <td>   -2.037</td> <td>   -1.990</td>\n",
       "</tr>\n",
       "<tr>\n",
       "  <th>count_2-0</th>    <td>    0.0382</td> <td>    0.010</td> <td>    3.709</td> <td> 0.000</td> <td>    0.018</td> <td>    0.058</td>\n",
       "</tr>\n",
       "<tr>\n",
       "  <th>count_2-1</th>    <td>   -0.7035</td> <td>    0.011</td> <td>  -64.945</td> <td> 0.000</td> <td>   -0.725</td> <td>   -0.682</td>\n",
       "</tr>\n",
       "<tr>\n",
       "  <th>count_2-2</th>    <td>   -1.6241</td> <td>    0.012</td> <td> -131.760</td> <td> 0.000</td> <td>   -1.648</td> <td>   -1.600</td>\n",
       "</tr>\n",
       "<tr>\n",
       "  <th>count_3-0</th>    <td>    0.7767</td> <td>    0.015</td> <td>   51.535</td> <td> 0.000</td> <td>    0.747</td> <td>    0.806</td>\n",
       "</tr>\n",
       "<tr>\n",
       "  <th>count_3-1</th>    <td>   -0.2918</td> <td>    0.015</td> <td>  -19.558</td> <td> 0.000</td> <td>   -0.321</td> <td>   -0.263</td>\n",
       "</tr>\n",
       "<tr>\n",
       "  <th>count_3-2</th>    <td>   -1.2840</td> <td>    0.016</td> <td>  -79.278</td> <td> 0.000</td> <td>   -1.316</td> <td>   -1.252</td>\n",
       "</tr>\n",
       "<tr>\n",
       "  <th>inning_2</th>     <td>    0.0141</td> <td>    0.009</td> <td>    1.638</td> <td> 0.101</td> <td>   -0.003</td> <td>    0.031</td>\n",
       "</tr>\n",
       "<tr>\n",
       "  <th>inning_3</th>     <td>   -0.0195</td> <td>    0.009</td> <td>   -2.254</td> <td> 0.024</td> <td>   -0.036</td> <td>   -0.003</td>\n",
       "</tr>\n",
       "<tr>\n",
       "  <th>inning_4</th>     <td>   -0.1033</td> <td>    0.009</td> <td>  -11.830</td> <td> 0.000</td> <td>   -0.120</td> <td>   -0.086</td>\n",
       "</tr>\n",
       "<tr>\n",
       "  <th>inning_5</th>     <td>   -0.0851</td> <td>    0.009</td> <td>   -9.739</td> <td> 0.000</td> <td>   -0.102</td> <td>   -0.068</td>\n",
       "</tr>\n",
       "<tr>\n",
       "  <th>inning_6</th>     <td>   -0.1374</td> <td>    0.009</td> <td>  -15.670</td> <td> 0.000</td> <td>   -0.155</td> <td>   -0.120</td>\n",
       "</tr>\n",
       "<tr>\n",
       "  <th>inning_7</th>     <td>   -0.1003</td> <td>    0.009</td> <td>  -11.462</td> <td> 0.000</td> <td>   -0.117</td> <td>   -0.083</td>\n",
       "</tr>\n",
       "<tr>\n",
       "  <th>inning_8</th>     <td>   -0.0846</td> <td>    0.009</td> <td>   -9.649</td> <td> 0.000</td> <td>   -0.102</td> <td>   -0.067</td>\n",
       "</tr>\n",
       "<tr>\n",
       "  <th>inning_9+</th>    <td>   -0.0593</td> <td>    0.009</td> <td>   -6.701</td> <td> 0.000</td> <td>   -0.077</td> <td>   -0.042</td>\n",
       "</tr>\n",
       "<tr>\n",
       "  <th>intercept</th>    <td>   -0.1392</td> <td>    0.007</td> <td>  -19.074</td> <td> 0.000</td> <td>   -0.153</td> <td>   -0.125</td>\n",
       "</tr>\n",
       "</table>"
      ],
      "text/plain": [
       "<class 'statsmodels.iolib.summary.Summary'>\n",
       "\"\"\"\n",
       "                            Logit Regression Results                           \n",
       "===============================================================================\n",
       "Dep. Variable:     strike_given_called   No. Observations:              1136496\n",
       "Model:                           Logit   Df Residuals:                  1136473\n",
       "Method:                            MLE   Df Model:                           22\n",
       "Date:                 Tue, 09 Jul 2019   Pseudo R-squ.:                 0.08250\n",
       "Time:                         19:02:56   Log-Likelihood:            -6.6007e+05\n",
       "converged:                        True   LL-Null:                   -7.1942e+05\n",
       "                                         LLR p-value:                     0.000\n",
       "================================================================================\n",
       "                   coef    std err          z      P>|z|      [0.025      0.975]\n",
       "--------------------------------------------------------------------------------\n",
       "upm              0.0051      0.004      1.177      0.239      -0.003       0.014\n",
       "home_pitcher     0.0445      0.004     10.536      0.000       0.036       0.053\n",
       "run_diff         0.0151      0.001     21.209      0.000       0.014       0.017\n",
       "count_0-1       -1.1167      0.007   -156.696      0.000      -1.131      -1.103\n",
       "count_0-2       -2.2604      0.014   -156.204      0.000      -2.289      -2.232\n",
       "count_1-0       -0.1644      0.007    -25.165      0.000      -0.177      -0.152\n",
       "count_1-1       -0.9228      0.008   -116.058      0.000      -0.938      -0.907\n",
       "count_1-2       -2.0133      0.012   -169.233      0.000      -2.037      -1.990\n",
       "count_2-0        0.0382      0.010      3.709      0.000       0.018       0.058\n",
       "count_2-1       -0.7035      0.011    -64.945      0.000      -0.725      -0.682\n",
       "count_2-2       -1.6241      0.012   -131.760      0.000      -1.648      -1.600\n",
       "count_3-0        0.7767      0.015     51.535      0.000       0.747       0.806\n",
       "count_3-1       -0.2918      0.015    -19.558      0.000      -0.321      -0.263\n",
       "count_3-2       -1.2840      0.016    -79.278      0.000      -1.316      -1.252\n",
       "inning_2         0.0141      0.009      1.638      0.101      -0.003       0.031\n",
       "inning_3        -0.0195      0.009     -2.254      0.024      -0.036      -0.003\n",
       "inning_4        -0.1033      0.009    -11.830      0.000      -0.120      -0.086\n",
       "inning_5        -0.0851      0.009     -9.739      0.000      -0.102      -0.068\n",
       "inning_6        -0.1374      0.009    -15.670      0.000      -0.155      -0.120\n",
       "inning_7        -0.1003      0.009    -11.462      0.000      -0.117      -0.083\n",
       "inning_8        -0.0846      0.009     -9.649      0.000      -0.102      -0.067\n",
       "inning_9+       -0.0593      0.009     -6.701      0.000      -0.077      -0.042\n",
       "intercept       -0.1392      0.007    -19.074      0.000      -0.153      -0.125\n",
       "================================================================================\n",
       "\"\"\""
      ]
     },
     "execution_count": 5,
     "metadata": {},
     "output_type": "execute_result"
    }
   ],
   "source": [
    "# Show summary\n",
    "fit.summary()"
   ]
  },
  {
   "cell_type": "markdown",
   "metadata": {},
   "source": [
    "### Calculate effect of UPM\n",
    "Let $\\sigma(\\mathbf{x})$ denote the logistic regression fit for the data, where $$\\sigma(x_1, x_2, \\dots) = \\frac{1}{1 + e^{\\beta_0 + \\beta_1 x_1 + \\beta_2 x_2 + \\dots}}.$$\n",
    "\n",
    "We quantify the effect that umpire and pitcher matching on race (UPM) has by evaluating \n",
    "$\\frac{\\partial\\sigma}{\\partial x_1}$ at $x_1 = 0$, $x_i = \\bar{x}_i$ for $i > 1$."
   ]
  },
  {
   "cell_type": "code",
   "execution_count": 8,
   "metadata": {},
   "outputs": [
    {
     "data": {
      "text/plain": [
       "0.0010851791079812992"
      ]
     },
     "execution_count": 8,
     "metadata": {},
     "output_type": "execute_result"
    }
   ],
   "source": [
    "# Calculate the effect of UPM; in this case, it is small (0.1% more likely to call a strike)\n",
    "# and insignificant (p-value = 0.239). Hence, we fail to reject the null hypothesis that umpire and pitcher matching on race has an effect on whether or not the umpire calls a strike\n",
    "upm_effects(fit, X)"
   ]
  },
  {
   "cell_type": "markdown",
   "metadata": {},
   "source": [
    "### Examine feature importance and effect of including control features"
   ]
  },
  {
   "cell_type": "code",
   "execution_count": 9,
   "metadata": {},
   "outputs": [
    {
     "name": "stdout",
     "output_type": "stream",
     "text": [
      "CPU times: user 44.2 s, sys: 3.11 s, total: 47.3 s\n",
      "Wall time: 39.7 s\n"
     ]
    }
   ],
   "source": [
    "%time ranked_features = rank_features(X, y)"
   ]
  },
  {
   "cell_type": "code",
   "execution_count": 10,
   "metadata": {},
   "outputs": [
    {
     "data": {
      "text/plain": [
       "['count_0-2',\n",
       " 'count_1-2',\n",
       " 'count_2-2',\n",
       " 'count_3-0',\n",
       " 'count_3-2',\n",
       " 'count_0-1',\n",
       " 'count_1-1',\n",
       " 'count_2-1',\n",
       " 'count_3-1',\n",
       " 'count_1-0',\n",
       " 'inning_6',\n",
       " 'inning_4',\n",
       " 'inning_7',\n",
       " 'inning_5',\n",
       " 'inning_8',\n",
       " 'inning_9+',\n",
       " 'home_pitcher',\n",
       " 'count_2-0',\n",
       " 'inning_3',\n",
       " 'run_diff',\n",
       " 'inning_2',\n",
       " 'upm']"
      ]
     },
     "execution_count": 10,
     "metadata": {},
     "output_type": "execute_result"
    }
   ],
   "source": [
    "# Features in descending rank of significance\n",
    "ranked_features"
   ]
  },
  {
   "cell_type": "code",
   "execution_count": 11,
   "metadata": {
    "scrolled": true
   },
   "outputs": [
    {
     "name": "stdout",
     "output_type": "stream",
     "text": [
      "Fitting 22 variables...\n",
      "Optimization terminated successfully.\n",
      "         Current function value: 0.580795\n",
      "         Iterations 6\n",
      "Beta = 0.0051387482643888574; p = 0.23900622040607855\n",
      "Fitting 21 variables...\n",
      "Optimization terminated successfully.\n",
      "         Current function value: 0.580797\n",
      "         Iterations 6\n",
      "Beta = 0.005152675106252487; p = 0.2377343267982288\n",
      "Fitting 20 variables...\n",
      "Optimization terminated successfully.\n",
      "         Current function value: 0.580995\n",
      "         Iterations 6\n",
      "Beta = 0.005331898719088635; p = 0.2217071971083846\n",
      "Fitting 19 variables...\n",
      "Optimization terminated successfully.\n",
      "         Current function value: 0.581000\n",
      "         Iterations 6\n",
      "Beta = 0.0053208986178373986; p = 0.22265898791676864\n",
      "Fitting 18 variables...\n",
      "Optimization terminated successfully.\n",
      "         Current function value: 0.581006\n",
      "         Iterations 6\n",
      "Beta = 0.005289272828990819; p = 0.2254160157908779\n",
      "Fitting 17 variables...\n",
      "Optimization terminated successfully.\n",
      "         Current function value: 0.581044\n",
      "         Iterations 6\n",
      "Beta = 0.005298972805549763; p = 0.22454761130069922\n",
      "Fitting 16 variables...\n",
      "Optimization terminated successfully.\n",
      "         Current function value: 0.581056\n",
      "         Iterations 6\n",
      "Beta = 0.005505392090815585; p = 0.20698360240201108\n",
      "Fitting 15 variables...\n",
      "Optimization terminated successfully.\n",
      "         Current function value: 0.581103\n",
      "         Iterations 6\n",
      "Beta = 0.005158066962339109; p = 0.23705261121804322\n",
      "Fitting 14 variables...\n",
      "Optimization terminated successfully.\n",
      "         Current function value: 0.581137\n",
      "         Iterations 6\n",
      "Beta = 0.005091582723623313; p = 0.2431324159874857\n",
      "Fitting 13 variables...\n",
      "Optimization terminated successfully.\n",
      "         Current function value: 0.581178\n",
      "         Iterations 6\n",
      "Beta = 0.0046944228380368744; p = 0.2818180498188174\n",
      "Fitting 12 variables...\n",
      "Optimization terminated successfully.\n",
      "         Current function value: 0.581212\n",
      "         Iterations 6\n",
      "Beta = 0.004663816556705156; p = 0.2849500934868445\n",
      "Fitting 11 variables...\n",
      "Optimization terminated successfully.\n",
      "         Current function value: 0.581284\n",
      "         Iterations 6\n",
      "Beta = 0.004436956928535786; p = 0.30899125963824015\n",
      "Fitting 10 variables...\n",
      "Optimization terminated successfully.\n",
      "         Current function value: 0.581587\n",
      "         Iterations 6\n",
      "Beta = 0.004633703041717222; p = 0.2878504007391891\n",
      "Fitting 9 variables...\n",
      "Optimization terminated successfully.\n",
      "         Current function value: 0.581726\n",
      "         Iterations 6\n",
      "Beta = 0.0045885401048239806; p = 0.2924924047538022\n",
      "Fitting 8 variables...\n",
      "Optimization terminated successfully.\n",
      "         Current function value: 0.583541\n",
      "         Iterations 6\n",
      "Beta = 0.00477422903055852; p = 0.2723687835236751\n",
      "Fitting 7 variables...\n",
      "Optimization terminated successfully.\n",
      "         Current function value: 0.589221\n",
      "         Iterations 6\n",
      "Beta = 0.003938069578800144; p = 0.3621641882243887\n",
      "Fitting 6 variables...\n",
      "Optimization terminated successfully.\n",
      "         Current function value: 0.598360\n",
      "         Iterations 6\n",
      "Beta = 0.0026332890950457404; p = 0.5383485770800843\n",
      "Fitting 5 variables...\n",
      "Optimization terminated successfully.\n",
      "         Current function value: 0.600242\n",
      "         Iterations 6\n",
      "Beta = 0.003135072518891824; p = 0.4629634385800454\n",
      "Fitting 4 variables...\n",
      "Optimization terminated successfully.\n",
      "         Current function value: 0.602868\n",
      "         Iterations 6\n",
      "Beta = 0.0030640823035650616; p = 0.47178870038200404\n",
      "Fitting 3 variables...\n",
      "Optimization terminated successfully.\n",
      "         Current function value: 0.609502\n",
      "         Iterations 6\n",
      "Beta = 0.002826516164181513; p = 0.5041269794316179\n",
      "Fitting 2 variables...\n",
      "Optimization terminated successfully.\n",
      "         Current function value: 0.622069\n",
      "         Iterations 6\n",
      "Beta = 0.0018370791300488635; p = 0.6606869122821312\n",
      "CPU times: user 2min 41s, sys: 35.8 s, total: 3min 17s\n",
      "Wall time: 1min 42s\n"
     ]
    }
   ],
   "source": [
    "# Calculate UPM coefficients and associated p-values when control features are removed, starting with least significant to most significant\n",
    "%time nf, beta, p = eliminate_features(X, y, ranked_features)"
   ]
  },
  {
   "cell_type": "code",
   "execution_count": 12,
   "metadata": {},
   "outputs": [
    {
     "data": {
      "image/png": "[encoded data removed]",
      "text/plain": [
       "<Figure size 648x504 with 1 Axes>"
      ]
     },
     "metadata": {
      "needs_background": "light"
     },
     "output_type": "display_data"
    }
   ],
   "source": [
    "# Plot UPM coefficients against number of features\n",
    "plot_beta(beta, nf, \"UPM Coefficient vs. Number of Features for Overall Data\", \"upm_vs_nf_overall.png\")"
   ]
  },
  {
   "cell_type": "code",
   "execution_count": 13,
   "metadata": {},
   "outputs": [
    {
     "data": {
      "image/png": "[encoded data removed]",
      "text/plain": [
       "<Figure size 648x504 with 1 Axes>"
      ]
     },
     "metadata": {
      "needs_background": "light"
     },
     "output_type": "display_data"
    }
   ],
   "source": [
    "# Plot associated p values against number of features\n",
    "plot_pvalues(p, nf, \"UPM Significance vs Number of Features for Overall Data\", \"p_vs_nf_overall.png\")"
   ]
  },
  {
   "cell_type": "markdown",
   "metadata": {},
   "source": [
    "## Analysis of logistic regression when umpire is white\n",
    "* $p = 0.275$\n",
    "* Observed effect of UPM is small (umpire +0.1% more likely to call strike if pitcher is also white when all else held at average)\n",
    "* Fail to conclude any significant effect from findings."
   ]
  },
  {
   "cell_type": "code",
   "execution_count": 14,
   "metadata": {},
   "outputs": [
    {
     "name": "stderr",
     "output_type": "stream",
     "text": [
      "/Users/robertair2019/Desktop/upm/baseball_utils.py:26: SettingWithCopyWarning: \n",
      "A value is trying to be set on a copy of a slice from a DataFrame.\n",
      "Try using .loc[row_indexer,col_indexer] = value instead\n",
      "\n",
      "See the caveats in the documentation: http://pandas.pydata.org/pandas-docs/stable/indexing.html#indexing-view-versus-copy\n",
      "  df['strike_given_called'] = df['strike_given_called'].apply(int)\n",
      "/Users/robertair2019/Desktop/upm/baseball_utils.py:30: SettingWithCopyWarning: \n",
      "A value is trying to be set on a copy of a slice from a DataFrame.\n",
      "Try using .loc[row_indexer,col_indexer] = value instead\n",
      "\n",
      "See the caveats in the documentation: http://pandas.pydata.org/pandas-docs/stable/indexing.html#indexing-view-versus-copy\n",
      "  df['upm'] = df.apply(lambda x: x.pitcher_race==x.umpire_race, axis=1).apply(int)\n"
     ]
    },
    {
     "name": "stdout",
     "output_type": "stream",
     "text": [
      "CPU times: user 34.1 s, sys: 397 ms, total: 34.5 s\n",
      "Wall time: 33.7 s\n"
     ]
    }
   ],
   "source": [
    "white_umpire = cp_df[cp_df.umpire_race == 'white']\n",
    "%time X_white, y_white = prepare_df(white_umpire)"
   ]
  },
  {
   "cell_type": "code",
   "execution_count": 15,
   "metadata": {},
   "outputs": [
    {
     "name": "stdout",
     "output_type": "stream",
     "text": [
      "Optimization terminated successfully.\n",
      "         Current function value: 0.581129\n",
      "         Iterations 6\n"
     ]
    }
   ],
   "source": [
    "fit_white = sm.Logit(y_white, X_white).fit()"
   ]
  },
  {
   "cell_type": "code",
   "execution_count": 16,
   "metadata": {},
   "outputs": [
    {
     "data": {
      "text/html": [
       "<table class=\"simpletable\">\n",
       "<caption>Logit Regression Results</caption>\n",
       "<tr>\n",
       "  <th>Dep. Variable:</th> <td>strike_given_called</td> <th>  No. Observations:  </th>   <td>1011460</td>  \n",
       "</tr>\n",
       "<tr>\n",
       "  <th>Model:</th>                <td>Logit</td>        <th>  Df Residuals:      </th>   <td>1011437</td>  \n",
       "</tr>\n",
       "<tr>\n",
       "  <th>Method:</th>                <td>MLE</td>         <th>  Df Model:          </th>   <td>    22</td>   \n",
       "</tr>\n",
       "<tr>\n",
       "  <th>Date:</th>           <td>Tue, 09 Jul 2019</td>   <th>  Pseudo R-squ.:     </th>   <td>0.08224</td>  \n",
       "</tr>\n",
       "<tr>\n",
       "  <th>Time:</th>               <td>20:16:29</td>       <th>  Log-Likelihood:    </th> <td>-5.8779e+05</td>\n",
       "</tr>\n",
       "<tr>\n",
       "  <th>converged:</th>            <td>True</td>         <th>  LL-Null:           </th> <td>-6.4046e+05</td>\n",
       "</tr>\n",
       "<tr>\n",
       "  <th> </th>                       <td> </td>          <th>  LLR p-value:       </th>   <td> 0.000</td>   \n",
       "</tr>\n",
       "</table>\n",
       "<table class=\"simpletable\">\n",
       "<tr>\n",
       "        <td></td>          <th>coef</th>     <th>std err</th>      <th>z</th>      <th>P>|z|</th>  <th>[0.025</th>    <th>0.975]</th>  \n",
       "</tr>\n",
       "<tr>\n",
       "  <th>upm</th>          <td>    0.0053</td> <td>    0.005</td> <td>    1.091</td> <td> 0.275</td> <td>   -0.004</td> <td>    0.015</td>\n",
       "</tr>\n",
       "<tr>\n",
       "  <th>home_pitcher</th> <td>    0.0456</td> <td>    0.004</td> <td>   10.181</td> <td> 0.000</td> <td>    0.037</td> <td>    0.054</td>\n",
       "</tr>\n",
       "<tr>\n",
       "  <th>run_diff</th>     <td>    0.0158</td> <td>    0.001</td> <td>   20.676</td> <td> 0.000</td> <td>    0.014</td> <td>    0.017</td>\n",
       "</tr>\n",
       "<tr>\n",
       "  <th>count_0-1</th>    <td>   -1.1127</td> <td>    0.008</td> <td> -147.460</td> <td> 0.000</td> <td>   -1.128</td> <td>   -1.098</td>\n",
       "</tr>\n",
       "<tr>\n",
       "  <th>count_0-2</th>    <td>   -2.2577</td> <td>    0.015</td> <td> -147.383</td> <td> 0.000</td> <td>   -2.288</td> <td>   -2.228</td>\n",
       "</tr>\n",
       "<tr>\n",
       "  <th>count_1-0</th>    <td>   -0.1649</td> <td>    0.007</td> <td>  -23.815</td> <td> 0.000</td> <td>   -0.178</td> <td>   -0.151</td>\n",
       "</tr>\n",
       "<tr>\n",
       "  <th>count_1-1</th>    <td>   -0.9210</td> <td>    0.008</td> <td> -109.326</td> <td> 0.000</td> <td>   -0.938</td> <td>   -0.904</td>\n",
       "</tr>\n",
       "<tr>\n",
       "  <th>count_1-2</th>    <td>   -2.0140</td> <td>    0.013</td> <td> -159.614</td> <td> 0.000</td> <td>   -2.039</td> <td>   -1.989</td>\n",
       "</tr>\n",
       "<tr>\n",
       "  <th>count_2-0</th>    <td>    0.0349</td> <td>    0.011</td> <td>    3.195</td> <td> 0.001</td> <td>    0.013</td> <td>    0.056</td>\n",
       "</tr>\n",
       "<tr>\n",
       "  <th>count_2-1</th>    <td>   -0.7008</td> <td>    0.011</td> <td>  -61.043</td> <td> 0.000</td> <td>   -0.723</td> <td>   -0.678</td>\n",
       "</tr>\n",
       "<tr>\n",
       "  <th>count_2-2</th>    <td>   -1.6175</td> <td>    0.013</td> <td> -124.061</td> <td> 0.000</td> <td>   -1.643</td> <td>   -1.592</td>\n",
       "</tr>\n",
       "<tr>\n",
       "  <th>count_3-0</th>    <td>    0.7688</td> <td>    0.016</td> <td>   48.219</td> <td> 0.000</td> <td>    0.738</td> <td>    0.800</td>\n",
       "</tr>\n",
       "<tr>\n",
       "  <th>count_3-1</th>    <td>   -0.2912</td> <td>    0.016</td> <td>  -18.402</td> <td> 0.000</td> <td>   -0.322</td> <td>   -0.260</td>\n",
       "</tr>\n",
       "<tr>\n",
       "  <th>count_3-2</th>    <td>   -1.2888</td> <td>    0.017</td> <td>  -75.001</td> <td> 0.000</td> <td>   -1.322</td> <td>   -1.255</td>\n",
       "</tr>\n",
       "<tr>\n",
       "  <th>inning_2</th>     <td>    0.0146</td> <td>    0.009</td> <td>    1.595</td> <td> 0.111</td> <td>   -0.003</td> <td>    0.032</td>\n",
       "</tr>\n",
       "<tr>\n",
       "  <th>inning_3</th>     <td>   -0.0288</td> <td>    0.009</td> <td>   -3.145</td> <td> 0.002</td> <td>   -0.047</td> <td>   -0.011</td>\n",
       "</tr>\n",
       "<tr>\n",
       "  <th>inning_4</th>     <td>   -0.1038</td> <td>    0.009</td> <td>  -11.214</td> <td> 0.000</td> <td>   -0.122</td> <td>   -0.086</td>\n",
       "</tr>\n",
       "<tr>\n",
       "  <th>inning_5</th>     <td>   -0.0878</td> <td>    0.009</td> <td>   -9.478</td> <td> 0.000</td> <td>   -0.106</td> <td>   -0.070</td>\n",
       "</tr>\n",
       "<tr>\n",
       "  <th>inning_6</th>     <td>   -0.1408</td> <td>    0.009</td> <td>  -15.165</td> <td> 0.000</td> <td>   -0.159</td> <td>   -0.123</td>\n",
       "</tr>\n",
       "<tr>\n",
       "  <th>inning_7</th>     <td>   -0.1027</td> <td>    0.009</td> <td>  -11.081</td> <td> 0.000</td> <td>   -0.121</td> <td>   -0.085</td>\n",
       "</tr>\n",
       "<tr>\n",
       "  <th>inning_8</th>     <td>   -0.0843</td> <td>    0.009</td> <td>   -9.073</td> <td> 0.000</td> <td>   -0.103</td> <td>   -0.066</td>\n",
       "</tr>\n",
       "<tr>\n",
       "  <th>inning_9+</th>    <td>   -0.0600</td> <td>    0.009</td> <td>   -6.397</td> <td> 0.000</td> <td>   -0.078</td> <td>   -0.042</td>\n",
       "</tr>\n",
       "<tr>\n",
       "  <th>intercept</th>    <td>   -0.1376</td> <td>    0.008</td> <td>  -17.393</td> <td> 0.000</td> <td>   -0.153</td> <td>   -0.122</td>\n",
       "</tr>\n",
       "</table>"
      ],
      "text/plain": [
       "<class 'statsmodels.iolib.summary.Summary'>\n",
       "\"\"\"\n",
       "                            Logit Regression Results                           \n",
       "===============================================================================\n",
       "Dep. Variable:     strike_given_called   No. Observations:              1011460\n",
       "Model:                           Logit   Df Residuals:                  1011437\n",
       "Method:                            MLE   Df Model:                           22\n",
       "Date:                 Tue, 09 Jul 2019   Pseudo R-squ.:                 0.08224\n",
       "Time:                         20:16:29   Log-Likelihood:            -5.8779e+05\n",
       "converged:                        True   LL-Null:                   -6.4046e+05\n",
       "                                         LLR p-value:                     0.000\n",
       "================================================================================\n",
       "                   coef    std err          z      P>|z|      [0.025      0.975]\n",
       "--------------------------------------------------------------------------------\n",
       "upm              0.0053      0.005      1.091      0.275      -0.004       0.015\n",
       "home_pitcher     0.0456      0.004     10.181      0.000       0.037       0.054\n",
       "run_diff         0.0158      0.001     20.676      0.000       0.014       0.017\n",
       "count_0-1       -1.1127      0.008   -147.460      0.000      -1.128      -1.098\n",
       "count_0-2       -2.2577      0.015   -147.383      0.000      -2.288      -2.228\n",
       "count_1-0       -0.1649      0.007    -23.815      0.000      -0.178      -0.151\n",
       "count_1-1       -0.9210      0.008   -109.326      0.000      -0.938      -0.904\n",
       "count_1-2       -2.0140      0.013   -159.614      0.000      -2.039      -1.989\n",
       "count_2-0        0.0349      0.011      3.195      0.001       0.013       0.056\n",
       "count_2-1       -0.7008      0.011    -61.043      0.000      -0.723      -0.678\n",
       "count_2-2       -1.6175      0.013   -124.061      0.000      -1.643      -1.592\n",
       "count_3-0        0.7688      0.016     48.219      0.000       0.738       0.800\n",
       "count_3-1       -0.2912      0.016    -18.402      0.000      -0.322      -0.260\n",
       "count_3-2       -1.2888      0.017    -75.001      0.000      -1.322      -1.255\n",
       "inning_2         0.0146      0.009      1.595      0.111      -0.003       0.032\n",
       "inning_3        -0.0288      0.009     -3.145      0.002      -0.047      -0.011\n",
       "inning_4        -0.1038      0.009    -11.214      0.000      -0.122      -0.086\n",
       "inning_5        -0.0878      0.009     -9.478      0.000      -0.106      -0.070\n",
       "inning_6        -0.1408      0.009    -15.165      0.000      -0.159      -0.123\n",
       "inning_7        -0.1027      0.009    -11.081      0.000      -0.121      -0.085\n",
       "inning_8        -0.0843      0.009     -9.073      0.000      -0.103      -0.066\n",
       "inning_9+       -0.0600      0.009     -6.397      0.000      -0.078      -0.042\n",
       "intercept       -0.1376      0.008    -17.393      0.000      -0.153      -0.122\n",
       "================================================================================\n",
       "\"\"\""
      ]
     },
     "execution_count": 16,
     "metadata": {},
     "output_type": "execute_result"
    }
   ],
   "source": [
    "fit_white.summary()"
   ]
  },
  {
   "cell_type": "code",
   "execution_count": 17,
   "metadata": {},
   "outputs": [
    {
     "data": {
      "text/plain": [
       "0.0011165217354785766"
      ]
     },
     "execution_count": 17,
     "metadata": {},
     "output_type": "execute_result"
    }
   ],
   "source": [
    "# +0.1% effect when all else is held at average\n",
    "upm_effects(fit_white, X_white)"
   ]
  },
  {
   "cell_type": "markdown",
   "metadata": {},
   "source": [
    "### Rank features and examine effect of adding/removing control features"
   ]
  },
  {
   "cell_type": "code",
   "execution_count": 18,
   "metadata": {},
   "outputs": [
    {
     "name": "stdout",
     "output_type": "stream",
     "text": [
      "CPU times: user 39.4 s, sys: 2.5 s, total: 41.9 s\n",
      "Wall time: 34.7 s\n"
     ]
    }
   ],
   "source": [
    "%time rf_white = rank_features(X_white, y_white)"
   ]
  },
  {
   "cell_type": "code",
   "execution_count": 19,
   "metadata": {},
   "outputs": [
    {
     "data": {
      "text/plain": [
       "['count_0-2',\n",
       " 'count_1-2',\n",
       " 'count_2-2',\n",
       " 'count_3-0',\n",
       " 'count_3-2',\n",
       " 'count_0-1',\n",
       " 'count_1-1',\n",
       " 'count_2-1',\n",
       " 'count_3-1',\n",
       " 'count_1-0',\n",
       " 'inning_6',\n",
       " 'inning_4',\n",
       " 'inning_7',\n",
       " 'inning_5',\n",
       " 'inning_8',\n",
       " 'inning_9+',\n",
       " 'home_pitcher',\n",
       " 'inning_3',\n",
       " 'count_2-0',\n",
       " 'run_diff',\n",
       " 'inning_2',\n",
       " 'upm']"
      ]
     },
     "execution_count": 19,
     "metadata": {},
     "output_type": "execute_result"
    }
   ],
   "source": [
    "rf_white"
   ]
  },
  {
   "cell_type": "code",
   "execution_count": 20,
   "metadata": {
    "scrolled": true
   },
   "outputs": [
    {
     "name": "stdout",
     "output_type": "stream",
     "text": [
      "Fitting 22 variables...\n",
      "Optimization terminated successfully.\n",
      "         Current function value: 0.581129\n",
      "         Iterations 6\n",
      "Beta = 0.005284723250301279; p = 0.2754771485067118\n",
      "Fitting 21 variables...\n",
      "Optimization terminated successfully.\n",
      "         Current function value: 0.581130\n",
      "         Iterations 6\n",
      "Beta = 0.0053008685114982; p = 0.27401162039038596\n",
      "Fitting 20 variables...\n",
      "Optimization terminated successfully.\n",
      "         Current function value: 0.581342\n",
      "         Iterations 6\n",
      "Beta = 0.005502913621090046; p = 0.25603127399434567\n",
      "Fitting 19 variables...\n",
      "Optimization terminated successfully.\n",
      "         Current function value: 0.581346\n",
      "         Iterations 6\n",
      "Beta = 0.005462192759870462; p = 0.25956117157570935\n",
      "Fitting 18 variables...\n",
      "Optimization terminated successfully.\n",
      "         Current function value: 0.581356\n",
      "         Iterations 6\n",
      "Beta = 0.005470113657616598; p = 0.25886545946312467\n",
      "Fitting 17 variables...\n",
      "Optimization terminated successfully.\n",
      "         Current function value: 0.581396\n",
      "         Iterations 6\n",
      "Beta = 0.0055203245780305575; p = 0.25449890590857027\n",
      "Fitting 16 variables...\n",
      "Optimization terminated successfully.\n",
      "         Current function value: 0.581406\n",
      "         Iterations 6\n",
      "Beta = 0.005839230191088411; p = 0.2280268584626013\n",
      "Fitting 15 variables...\n",
      "Optimization terminated successfully.\n",
      "         Current function value: 0.581450\n",
      "         Iterations 6\n",
      "Beta = 0.005422447875064175; p = 0.26292185224962117\n",
      "Fitting 14 variables...\n",
      "Optimization terminated successfully.\n",
      "         Current function value: 0.581485\n",
      "         Iterations 6\n",
      "Beta = 0.005295641455416366; p = 0.27422561336327456\n",
      "Fitting 13 variables...\n",
      "Optimization terminated successfully.\n",
      "         Current function value: 0.581527\n",
      "         Iterations 6\n",
      "Beta = 0.004842802755870638; p = 0.31731793826935173\n",
      "Fitting 12 variables...\n",
      "Optimization terminated successfully.\n",
      "         Current function value: 0.581559\n",
      "         Iterations 6\n",
      "Beta = 0.004733219449033712; p = 0.32837375772872157\n",
      "Fitting 11 variables...\n",
      "Optimization terminated successfully.\n",
      "         Current function value: 0.581634\n",
      "         Iterations 6\n",
      "Beta = 0.0044971360343638075; p = 0.35303073467003043\n",
      "Fitting 10 variables...\n",
      "Optimization terminated successfully.\n",
      "         Current function value: 0.581938\n",
      "         Iterations 6\n",
      "Beta = 0.00473607683176816; p = 0.3278590565967404\n",
      "Fitting 9 variables...\n",
      "Optimization terminated successfully.\n",
      "         Current function value: 0.582076\n",
      "         Iterations 6\n",
      "Beta = 0.004651190830945673; p = 0.33652062879676237\n",
      "Fitting 8 variables...\n",
      "Optimization terminated successfully.\n",
      "         Current function value: 0.583875\n",
      "         Iterations 6\n",
      "Beta = 0.004814150075964441; p = 0.31883478321733105\n",
      "Fitting 7 variables...\n",
      "Optimization terminated successfully.\n",
      "         Current function value: 0.589534\n",
      "         Iterations 6\n",
      "Beta = 0.0038160734257952126; p = 0.4264505278816251\n",
      "Fitting 6 variables...\n",
      "Optimization terminated successfully.\n",
      "         Current function value: 0.598610\n",
      "         Iterations 6\n",
      "Beta = 0.0019575474035738215; p = 0.6803914333307015\n",
      "Fitting 5 variables...\n",
      "Optimization terminated successfully.\n",
      "         Current function value: 0.600511\n",
      "         Iterations 6\n",
      "Beta = 0.002708063699662184; p = 0.5680137613371876\n",
      "Fitting 4 variables...\n",
      "Optimization terminated successfully.\n",
      "         Current function value: 0.603105\n",
      "         Iterations 6\n",
      "Beta = 0.0025539293546720638; p = 0.5891097849923683\n",
      "Fitting 3 variables...\n",
      "Optimization terminated successfully.\n",
      "         Current function value: 0.609688\n",
      "         Iterations 6\n",
      "Beta = 0.0023816022216416456; p = 0.6122473901920491\n",
      "Fitting 2 variables...\n",
      "Optimization terminated successfully.\n",
      "         Current function value: 0.622261\n",
      "         Iterations 6\n",
      "Beta = 0.000874480509449312; p = 0.8507496034553814\n",
      "CPU times: user 2min 19s, sys: 26.1 s, total: 2min 45s\n",
      "Wall time: 1min 25s\n"
     ]
    }
   ],
   "source": [
    "# Graph UPM coefficients and p-values against number of features\n",
    "%time nf_white, beta_white, p_white = eliminate_features(X_white, y_white, rf_white)"
   ]
  },
  {
   "cell_type": "code",
   "execution_count": 23,
   "metadata": {},
   "outputs": [
    {
     "data": {
      "image/png": "[encoded data removed]",
      "text/plain": [
       "<Figure size 648x504 with 1 Axes>"
      ]
     },
     "metadata": {
      "needs_background": "light"
     },
     "output_type": "display_data"
    }
   ],
   "source": [
    "plot_beta(beta_white, nf_white, \"UPM Coefficient vs Number of Features when Umpire is White\", \"upm_vs_nf_white_umpire.png\")"
   ]
  },
  {
   "cell_type": "code",
   "execution_count": 24,
   "metadata": {},
   "outputs": [
    {
     "data": {
      "image/png": "[encoded data removed]",
      "text/plain": [
       "<Figure size 648x504 with 1 Axes>"
      ]
     },
     "metadata": {
      "needs_background": "light"
     },
     "output_type": "display_data"
    }
   ],
   "source": [
    "plot_pvalues(p_white, nf_white, \"UPM Significance vs Number of Features when Umpire is White\", \"p_vs_nf_white_umpire.png\")"
   ]
  },
  {
   "cell_type": "markdown",
   "metadata": {},
   "source": [
    "## Analysis of logistic regression when umpire is black\n",
    "* $p = 0.049$\n",
    "* Umpire is 1.4% less likely to call a strike when the pitcher is also black"
   ]
  },
  {
   "cell_type": "code",
   "execution_count": 25,
   "metadata": {},
   "outputs": [
    {
     "name": "stdout",
     "output_type": "stream",
     "text": [
      "CPU times: user 2.41 s, sys: 35.3 ms, total: 2.44 s\n",
      "Wall time: 2.39 s\n"
     ]
    }
   ],
   "source": [
    "black_umpire = cp_df[cp_df.umpire_race == 'black']\n",
    "%time X_black, y_black = prepare_df(black_umpire)"
   ]
  },
  {
   "cell_type": "code",
   "execution_count": 29,
   "metadata": {},
   "outputs": [
    {
     "name": "stdout",
     "output_type": "stream",
     "text": [
      "Optimization terminated successfully.\n",
      "         Current function value: 0.578704\n",
      "         Iterations 6\n"
     ]
    }
   ],
   "source": [
    "fit_black = sm.Logit(y_black, X_black).fit()"
   ]
  },
  {
   "cell_type": "code",
   "execution_count": 30,
   "metadata": {},
   "outputs": [
    {
     "data": {
      "text/html": [
       "<table class=\"simpletable\">\n",
       "<caption>Logit Regression Results</caption>\n",
       "<tr>\n",
       "  <th>Dep. Variable:</th> <td>strike_given_called</td> <th>  No. Observations:  </th>  <td> 70230</td> \n",
       "</tr>\n",
       "<tr>\n",
       "  <th>Model:</th>                <td>Logit</td>        <th>  Df Residuals:      </th>  <td> 70207</td> \n",
       "</tr>\n",
       "<tr>\n",
       "  <th>Method:</th>                <td>MLE</td>         <th>  Df Model:          </th>  <td>    22</td> \n",
       "</tr>\n",
       "<tr>\n",
       "  <th>Date:</th>           <td>Tue, 09 Jul 2019</td>   <th>  Pseudo R-squ.:     </th>  <td>0.08512</td>\n",
       "</tr>\n",
       "<tr>\n",
       "  <th>Time:</th>               <td>20:59:04</td>       <th>  Log-Likelihood:    </th> <td> -40642.</td>\n",
       "</tr>\n",
       "<tr>\n",
       "  <th>converged:</th>            <td>True</td>         <th>  LL-Null:           </th> <td> -44424.</td>\n",
       "</tr>\n",
       "<tr>\n",
       "  <th> </th>                       <td> </td>          <th>  LLR p-value:       </th>  <td> 0.000</td> \n",
       "</tr>\n",
       "</table>\n",
       "<table class=\"simpletable\">\n",
       "<tr>\n",
       "        <td></td>          <th>coef</th>     <th>std err</th>      <th>z</th>      <th>P>|z|</th>  <th>[0.025</th>    <th>0.975]</th>  \n",
       "</tr>\n",
       "<tr>\n",
       "  <th>upm</th>          <td>   -0.0675</td> <td>    0.034</td> <td>   -1.968</td> <td> 0.049</td> <td>   -0.135</td> <td>   -0.000</td>\n",
       "</tr>\n",
       "<tr>\n",
       "  <th>home_pitcher</th> <td>   -0.0046</td> <td>    0.017</td> <td>   -0.268</td> <td> 0.789</td> <td>   -0.038</td> <td>    0.029</td>\n",
       "</tr>\n",
       "<tr>\n",
       "  <th>run_diff</th>     <td>    0.0075</td> <td>    0.003</td> <td>    2.749</td> <td> 0.006</td> <td>    0.002</td> <td>    0.013</td>\n",
       "</tr>\n",
       "<tr>\n",
       "  <th>count_0-1</th>    <td>   -1.1575</td> <td>    0.029</td> <td>  -39.992</td> <td> 0.000</td> <td>   -1.214</td> <td>   -1.101</td>\n",
       "</tr>\n",
       "<tr>\n",
       "  <th>count_0-2</th>    <td>   -2.2820</td> <td>    0.059</td> <td>  -38.712</td> <td> 0.000</td> <td>   -2.397</td> <td>   -2.166</td>\n",
       "</tr>\n",
       "<tr>\n",
       "  <th>count_1-0</th>    <td>   -0.1475</td> <td>    0.026</td> <td>   -5.613</td> <td> 0.000</td> <td>   -0.199</td> <td>   -0.096</td>\n",
       "</tr>\n",
       "<tr>\n",
       "  <th>count_1-1</th>    <td>   -0.9792</td> <td>    0.032</td> <td>  -30.320</td> <td> 0.000</td> <td>   -1.042</td> <td>   -0.916</td>\n",
       "</tr>\n",
       "<tr>\n",
       "  <th>count_1-2</th>    <td>   -2.0222</td> <td>    0.048</td> <td>  -42.087</td> <td> 0.000</td> <td>   -2.116</td> <td>   -1.928</td>\n",
       "</tr>\n",
       "<tr>\n",
       "  <th>count_2-0</th>    <td>    0.0759</td> <td>    0.042</td> <td>    1.820</td> <td> 0.069</td> <td>   -0.006</td> <td>    0.158</td>\n",
       "</tr>\n",
       "<tr>\n",
       "  <th>count_2-1</th>    <td>   -0.7499</td> <td>    0.043</td> <td>  -17.303</td> <td> 0.000</td> <td>   -0.835</td> <td>   -0.665</td>\n",
       "</tr>\n",
       "<tr>\n",
       "  <th>count_2-2</th>    <td>   -1.6533</td> <td>    0.050</td> <td>  -32.788</td> <td> 0.000</td> <td>   -1.752</td> <td>   -1.554</td>\n",
       "</tr>\n",
       "<tr>\n",
       "  <th>count_3-0</th>    <td>    0.8049</td> <td>    0.062</td> <td>   13.037</td> <td> 0.000</td> <td>    0.684</td> <td>    0.926</td>\n",
       "</tr>\n",
       "<tr>\n",
       "  <th>count_3-1</th>    <td>   -0.2210</td> <td>    0.059</td> <td>   -3.766</td> <td> 0.000</td> <td>   -0.336</td> <td>   -0.106</td>\n",
       "</tr>\n",
       "<tr>\n",
       "  <th>count_3-2</th>    <td>   -1.2556</td> <td>    0.064</td> <td>  -19.638</td> <td> 0.000</td> <td>   -1.381</td> <td>   -1.130</td>\n",
       "</tr>\n",
       "<tr>\n",
       "  <th>inning_2</th>     <td>    0.0626</td> <td>    0.035</td> <td>    1.810</td> <td> 0.070</td> <td>   -0.005</td> <td>    0.130</td>\n",
       "</tr>\n",
       "<tr>\n",
       "  <th>inning_3</th>     <td>    0.0556</td> <td>    0.035</td> <td>    1.589</td> <td> 0.112</td> <td>   -0.013</td> <td>    0.124</td>\n",
       "</tr>\n",
       "<tr>\n",
       "  <th>inning_4</th>     <td>   -0.1294</td> <td>    0.035</td> <td>   -3.665</td> <td> 0.000</td> <td>   -0.199</td> <td>   -0.060</td>\n",
       "</tr>\n",
       "<tr>\n",
       "  <th>inning_5</th>     <td>   -0.0103</td> <td>    0.035</td> <td>   -0.292</td> <td> 0.771</td> <td>   -0.079</td> <td>    0.059</td>\n",
       "</tr>\n",
       "<tr>\n",
       "  <th>inning_6</th>     <td>   -0.0585</td> <td>    0.036</td> <td>   -1.640</td> <td> 0.101</td> <td>   -0.128</td> <td>    0.011</td>\n",
       "</tr>\n",
       "<tr>\n",
       "  <th>inning_7</th>     <td>   -0.0761</td> <td>    0.036</td> <td>   -2.142</td> <td> 0.032</td> <td>   -0.146</td> <td>   -0.006</td>\n",
       "</tr>\n",
       "<tr>\n",
       "  <th>inning_8</th>     <td>   -0.0429</td> <td>    0.035</td> <td>   -1.218</td> <td> 0.223</td> <td>   -0.112</td> <td>    0.026</td>\n",
       "</tr>\n",
       "<tr>\n",
       "  <th>inning_9+</th>    <td>   -0.0246</td> <td>    0.036</td> <td>   -0.691</td> <td> 0.489</td> <td>   -0.094</td> <td>    0.045</td>\n",
       "</tr>\n",
       "<tr>\n",
       "  <th>intercept</th>    <td>   -0.1427</td> <td>    0.027</td> <td>   -5.222</td> <td> 0.000</td> <td>   -0.196</td> <td>   -0.089</td>\n",
       "</tr>\n",
       "</table>"
      ],
      "text/plain": [
       "<class 'statsmodels.iolib.summary.Summary'>\n",
       "\"\"\"\n",
       "                            Logit Regression Results                           \n",
       "===============================================================================\n",
       "Dep. Variable:     strike_given_called   No. Observations:                70230\n",
       "Model:                           Logit   Df Residuals:                    70207\n",
       "Method:                            MLE   Df Model:                           22\n",
       "Date:                 Tue, 09 Jul 2019   Pseudo R-squ.:                 0.08512\n",
       "Time:                         20:59:04   Log-Likelihood:                -40642.\n",
       "converged:                        True   LL-Null:                       -44424.\n",
       "                                         LLR p-value:                     0.000\n",
       "================================================================================\n",
       "                   coef    std err          z      P>|z|      [0.025      0.975]\n",
       "--------------------------------------------------------------------------------\n",
       "upm             -0.0675      0.034     -1.968      0.049      -0.135      -0.000\n",
       "home_pitcher    -0.0046      0.017     -0.268      0.789      -0.038       0.029\n",
       "run_diff         0.0075      0.003      2.749      0.006       0.002       0.013\n",
       "count_0-1       -1.1575      0.029    -39.992      0.000      -1.214      -1.101\n",
       "count_0-2       -2.2820      0.059    -38.712      0.000      -2.397      -2.166\n",
       "count_1-0       -0.1475      0.026     -5.613      0.000      -0.199      -0.096\n",
       "count_1-1       -0.9792      0.032    -30.320      0.000      -1.042      -0.916\n",
       "count_1-2       -2.0222      0.048    -42.087      0.000      -2.116      -1.928\n",
       "count_2-0        0.0759      0.042      1.820      0.069      -0.006       0.158\n",
       "count_2-1       -0.7499      0.043    -17.303      0.000      -0.835      -0.665\n",
       "count_2-2       -1.6533      0.050    -32.788      0.000      -1.752      -1.554\n",
       "count_3-0        0.8049      0.062     13.037      0.000       0.684       0.926\n",
       "count_3-1       -0.2210      0.059     -3.766      0.000      -0.336      -0.106\n",
       "count_3-2       -1.2556      0.064    -19.638      0.000      -1.381      -1.130\n",
       "inning_2         0.0626      0.035      1.810      0.070      -0.005       0.130\n",
       "inning_3         0.0556      0.035      1.589      0.112      -0.013       0.124\n",
       "inning_4        -0.1294      0.035     -3.665      0.000      -0.199      -0.060\n",
       "inning_5        -0.0103      0.035     -0.292      0.771      -0.079       0.059\n",
       "inning_6        -0.0585      0.036     -1.640      0.101      -0.128       0.011\n",
       "inning_7        -0.0761      0.036     -2.142      0.032      -0.146      -0.006\n",
       "inning_8        -0.0429      0.035     -1.218      0.223      -0.112       0.026\n",
       "inning_9+       -0.0246      0.036     -0.691      0.489      -0.094       0.045\n",
       "intercept       -0.1427      0.027     -5.222      0.000      -0.196      -0.089\n",
       "================================================================================\n",
       "\"\"\""
      ]
     },
     "execution_count": 30,
     "metadata": {},
     "output_type": "execute_result"
    }
   ],
   "source": [
    "fit_black.summary()"
   ]
  },
  {
   "cell_type": "code",
   "execution_count": 31,
   "metadata": {},
   "outputs": [
    {
     "data": {
      "text/plain": [
       "-0.014269306648078845"
      ]
     },
     "execution_count": 31,
     "metadata": {},
     "output_type": "execute_result"
    }
   ],
   "source": [
    "upm_effects(fit_black, X_black)"
   ]
  },
  {
   "cell_type": "markdown",
   "metadata": {},
   "source": [
    "### Rank features and examine effect of adding/removing control features"
   ]
  },
  {
   "cell_type": "code",
   "execution_count": 32,
   "metadata": {},
   "outputs": [],
   "source": [
    "rf_black = rank_features(X_black, y_black)"
   ]
  },
  {
   "cell_type": "code",
   "execution_count": 33,
   "metadata": {},
   "outputs": [
    {
     "data": {
      "text/plain": [
       "['count_0-2',\n",
       " 'count_1-2',\n",
       " 'count_2-2',\n",
       " 'count_3-2',\n",
       " 'count_0-1',\n",
       " 'count_1-1',\n",
       " 'count_3-0',\n",
       " 'count_2-1',\n",
       " 'count_3-1',\n",
       " 'count_1-0',\n",
       " 'inning_4',\n",
       " 'inning_2',\n",
       " 'inning_3',\n",
       " 'count_2-0',\n",
       " 'upm',\n",
       " 'inning_7',\n",
       " 'inning_6',\n",
       " 'inning_8',\n",
       " 'inning_9+',\n",
       " 'inning_5',\n",
       " 'run_diff',\n",
       " 'home_pitcher']"
      ]
     },
     "execution_count": 33,
     "metadata": {},
     "output_type": "execute_result"
    }
   ],
   "source": [
    "rf_black"
   ]
  },
  {
   "cell_type": "code",
   "execution_count": 34,
   "metadata": {
    "scrolled": true
   },
   "outputs": [
    {
     "name": "stdout",
     "output_type": "stream",
     "text": [
      "Fitting 22 variables...\n",
      "Optimization terminated successfully.\n",
      "         Current function value: 0.578704\n",
      "         Iterations 6\n",
      "Beta = -0.0675343695363255; p = 0.04903395246543318\n",
      "Fitting 21 variables...\n",
      "Optimization terminated successfully.\n",
      "         Current function value: 0.578704\n",
      "         Iterations 6\n",
      "Beta = -0.06737452819173258; p = 0.049538448501249784\n",
      "Fitting 20 variables...\n",
      "Optimization terminated successfully.\n",
      "         Current function value: 0.578759\n",
      "         Iterations 6\n",
      "Beta = -0.06796976317231496; p = 0.0475370954433381\n",
      "Fitting 19 variables...\n",
      "Optimization terminated successfully.\n",
      "         Current function value: 0.578760\n",
      "         Iterations 6\n",
      "Beta = -0.06801613885516661; p = 0.0473829505205933\n",
      "Fitting 18 variables...\n",
      "Optimization terminated successfully.\n",
      "         Current function value: 0.578761\n",
      "         Iterations 6\n",
      "Beta = -0.06935246210914332; p = 0.04235155662626886\n",
      "Fitting 17 variables...\n",
      "Optimization terminated successfully.\n",
      "         Current function value: 0.578771\n",
      "         Iterations 6\n",
      "Beta = -0.06967469507132691; p = 0.041394062734145066\n",
      "Fitting 16 variables...\n",
      "Optimization terminated successfully.\n",
      "         Current function value: 0.578785\n",
      "         Iterations 6\n",
      "Beta = -0.0687669978449669; p = 0.04407843685738287\n",
      "Fitting 15 variables...\n",
      "Optimization terminated successfully.\n",
      "         Current function value: 0.578808\n",
      "         Iterations 6\n",
      "Beta = -0.06955120417292536; p = 0.04169260355647445\n",
      "Fitting 14 variables...\n",
      "Optimization terminated successfully.\n",
      "         Current function value: 0.578833\n",
      "         Iterations 6\n",
      "Beta = -0.06921181174873783; p = 0.04268376675182731\n",
      "Fitting 13 variables...\n",
      "Optimization terminated successfully.\n",
      "         Current function value: 0.578909\n",
      "         Iterations 6\n",
      "Beta = -0.07176766013113378; p = 0.035529831373871855\n",
      "Fitting 12 variables...\n",
      "Optimization terminated successfully.\n",
      "         Current function value: 0.578978\n",
      "         Iterations 6\n",
      "Beta = -0.0742084237183909; p = 0.029659665953379186\n",
      "Fitting 11 variables...\n",
      "Optimization terminated successfully.\n",
      "         Current function value: 0.579116\n",
      "         Iterations 6\n",
      "Beta = -0.06993102112023875; p = 0.040308754759824685\n",
      "Fitting 10 variables...\n",
      "Optimization terminated successfully.\n",
      "         Current function value: 0.579373\n",
      "         Iterations 6\n",
      "Beta = -0.07014916839930177; p = 0.03962782605066273\n",
      "Fitting 9 variables...\n",
      "Optimization terminated successfully.\n",
      "         Current function value: 0.579453\n",
      "         Iterations 6\n",
      "Beta = -0.0704491390670629; p = 0.03877266297094701\n",
      "Fitting 8 variables...\n",
      "Optimization terminated successfully.\n",
      "         Current function value: 0.581610\n",
      "         Iterations 6\n",
      "Beta = -0.07030788902734682; p = 0.03866488444089116\n",
      "Fitting 7 variables...\n",
      "Optimization terminated successfully.\n",
      "         Current function value: 0.583175\n",
      "         Iterations 6\n",
      "Beta = -0.06838907429675761; p = 0.0438118186550686\n",
      "Fitting 6 variables...\n",
      "Optimization terminated successfully.\n",
      "         Current function value: 0.590055\n",
      "         Iterations 6\n",
      "Beta = -0.07082118288621542; p = 0.03536761767688668\n",
      "Fitting 5 variables...\n",
      "Optimization terminated successfully.\n",
      "         Current function value: 0.600447\n",
      "         Iterations 6\n",
      "Beta = -0.0570516489134029; p = 0.0867670096070777\n",
      "Fitting 4 variables...\n",
      "Optimization terminated successfully.\n",
      "         Current function value: 0.602353\n",
      "         Iterations 6\n",
      "Beta = -0.05461578064840105; p = 0.10048573460455058\n",
      "Fitting 3 variables...\n",
      "Optimization terminated successfully.\n",
      "         Current function value: 0.609047\n",
      "         Iterations 6\n",
      "Beta = -0.0550699455700808; p = 0.09558382724648536\n",
      "Fitting 2 variables...\n",
      "Optimization terminated successfully.\n",
      "         Current function value: 0.621592\n",
      "         Iterations 6\n",
      "Beta = -0.05080612626176214; p = 0.12028501162733117\n",
      "CPU times: user 8.23 s, sys: 602 ms, total: 8.83 s\n",
      "Wall time: 4.77 s\n"
     ]
    }
   ],
   "source": [
    "%time nf_black, beta_black, p_black = eliminate_features(X_black, y_black, rf_black)"
   ]
  },
  {
   "cell_type": "code",
   "execution_count": 35,
   "metadata": {},
   "outputs": [
    {
     "data": {
      "image/png": "[encoded data removed]",
      "text/plain": [
       "<Figure size 648x504 with 1 Axes>"
      ]
     },
     "metadata": {
      "needs_background": "light"
     },
     "output_type": "display_data"
    }
   ],
   "source": [
    "plot_beta(beta_black, nf_black, \"UPM Coefficient vs Number of Features when Umpire is Black\", \"upm_vs_nf_black_umpire.png\")"
   ]
  },
  {
   "cell_type": "code",
   "execution_count": 36,
   "metadata": {},
   "outputs": [
    {
     "data": {
      "image/png": "[encoded data removed]",
      "text/plain": [
       "<Figure size 648x504 with 1 Axes>"
      ]
     },
     "metadata": {
      "needs_background": "light"
     },
     "output_type": "display_data"
    }
   ],
   "source": [
    "plot_pvalues(p_black, nf_black, \"UPM Significance vs Number of Features when Umpire is Black\", \"p_vs_nf_black_umpire.png\")"
   ]
  },
  {
   "cell_type": "markdown",
   "metadata": {},
   "source": [
    "## Analysis of logistic regression for hispanic umpire\n",
    "* $p = 0.860$\n",
    "* Nothing remotely significant observed - UPM effect nearly zero."
   ]
  },
  {
   "cell_type": "code",
   "execution_count": 53,
   "metadata": {},
   "outputs": [
    {
     "data": {
      "text/html": [
       "<div>\n",
       "<style scoped>\n",
       "    .dataframe tbody tr th:only-of-type {\n",
       "        vertical-align: middle;\n",
       "    }\n",
       "\n",
       "    .dataframe tbody tr th {\n",
       "        vertical-align: top;\n",
       "    }\n",
       "\n",
       "    .dataframe thead th {\n",
       "        text-align: right;\n",
       "    }\n",
       "</style>\n",
       "<table border=\"1\" class=\"dataframe\">\n",
       "  <thead>\n",
       "    <tr style=\"text-align: right;\">\n",
       "      <th></th>\n",
       "      <th>count</th>\n",
       "      <th>home_pitcher</th>\n",
       "      <th>inning</th>\n",
       "      <th>run_diff</th>\n",
       "      <th>strike_given_called</th>\n",
       "      <th>pitcher_race</th>\n",
       "      <th>umpire_race</th>\n",
       "    </tr>\n",
       "  </thead>\n",
       "  <tbody>\n",
       "    <tr>\n",
       "      <th>2642</th>\n",
       "      <td>0-0</td>\n",
       "      <td>1</td>\n",
       "      <td>1</td>\n",
       "      <td>0</td>\n",
       "      <td>False</td>\n",
       "      <td>white</td>\n",
       "      <td>hispanic</td>\n",
       "    </tr>\n",
       "    <tr>\n",
       "      <th>2643</th>\n",
       "      <td>1-0</td>\n",
       "      <td>1</td>\n",
       "      <td>1</td>\n",
       "      <td>0</td>\n",
       "      <td>True</td>\n",
       "      <td>white</td>\n",
       "      <td>hispanic</td>\n",
       "    </tr>\n",
       "    <tr>\n",
       "      <th>2644</th>\n",
       "      <td>1-1</td>\n",
       "      <td>1</td>\n",
       "      <td>1</td>\n",
       "      <td>0</td>\n",
       "      <td>False</td>\n",
       "      <td>white</td>\n",
       "      <td>hispanic</td>\n",
       "    </tr>\n",
       "    <tr>\n",
       "      <th>2645</th>\n",
       "      <td>0-1</td>\n",
       "      <td>1</td>\n",
       "      <td>1</td>\n",
       "      <td>0</td>\n",
       "      <td>False</td>\n",
       "      <td>white</td>\n",
       "      <td>hispanic</td>\n",
       "    </tr>\n",
       "    <tr>\n",
       "      <th>2646</th>\n",
       "      <td>0-0</td>\n",
       "      <td>1</td>\n",
       "      <td>1</td>\n",
       "      <td>0</td>\n",
       "      <td>False</td>\n",
       "      <td>white</td>\n",
       "      <td>hispanic</td>\n",
       "    </tr>\n",
       "  </tbody>\n",
       "</table>\n",
       "</div>"
      ],
      "text/plain": [
       "     count  home_pitcher  inning  run_diff  strike_given_called pitcher_race  \\\n",
       "2642   0-0             1       1         0                False        white   \n",
       "2643   1-0             1       1         0                 True        white   \n",
       "2644   1-1             1       1         0                False        white   \n",
       "2645   0-1             1       1         0                False        white   \n",
       "2646   0-0             1       1         0                False        white   \n",
       "\n",
       "     umpire_race  \n",
       "2642    hispanic  \n",
       "2643    hispanic  \n",
       "2644    hispanic  \n",
       "2645    hispanic  \n",
       "2646    hispanic  "
      ]
     },
     "execution_count": 53,
     "metadata": {},
     "output_type": "execute_result"
    }
   ],
   "source": [
    "hispanic_umpire = cp_df[cp_df.umpire_race == 'hispanic']\n",
    "hispanic_umpire.head()"
   ]
  },
  {
   "cell_type": "code",
   "execution_count": 54,
   "metadata": {},
   "outputs": [
    {
     "name": "stdout",
     "output_type": "stream",
     "text": [
      "CPU times: user 1.96 s, sys: 27.2 ms, total: 1.99 s\n",
      "Wall time: 2.03 s\n"
     ]
    }
   ],
   "source": [
    "%time X_hispanic, y_hispanic = prepare_df(hispanic_umpire)"
   ]
  },
  {
   "cell_type": "code",
   "execution_count": 55,
   "metadata": {},
   "outputs": [
    {
     "name": "stdout",
     "output_type": "stream",
     "text": [
      "Optimization terminated successfully.\n",
      "         Current function value: 0.576493\n",
      "         Iterations 6\n"
     ]
    }
   ],
   "source": [
    "fit_hispanic = sm.Logit(y_hispanic, X_hispanic).fit()"
   ]
  },
  {
   "cell_type": "code",
   "execution_count": 56,
   "metadata": {},
   "outputs": [
    {
     "data": {
      "text/html": [
       "<table class=\"simpletable\">\n",
       "<caption>Logit Regression Results</caption>\n",
       "<tr>\n",
       "  <th>Dep. Variable:</th> <td>strike_given_called</td> <th>  No. Observations:  </th>  <td> 54806</td> \n",
       "</tr>\n",
       "<tr>\n",
       "  <th>Model:</th>                <td>Logit</td>        <th>  Df Residuals:      </th>  <td> 54783</td> \n",
       "</tr>\n",
       "<tr>\n",
       "  <th>Method:</th>                <td>MLE</td>         <th>  Df Model:          </th>  <td>    22</td> \n",
       "</tr>\n",
       "<tr>\n",
       "  <th>Date:</th>           <td>Tue, 09 Jul 2019</td>   <th>  Pseudo R-squ.:     </th>  <td>0.08525</td>\n",
       "</tr>\n",
       "<tr>\n",
       "  <th>Time:</th>               <td>21:20:28</td>       <th>  Log-Likelihood:    </th> <td> -31595.</td>\n",
       "</tr>\n",
       "<tr>\n",
       "  <th>converged:</th>            <td>True</td>         <th>  LL-Null:           </th> <td> -34540.</td>\n",
       "</tr>\n",
       "<tr>\n",
       "  <th> </th>                       <td> </td>          <th>  LLR p-value:       </th>  <td> 0.000</td> \n",
       "</tr>\n",
       "</table>\n",
       "<table class=\"simpletable\">\n",
       "<tr>\n",
       "        <td></td>          <th>coef</th>     <th>std err</th>      <th>z</th>      <th>P>|z|</th>  <th>[0.025</th>    <th>0.975]</th>  \n",
       "</tr>\n",
       "<tr>\n",
       "  <th>upm</th>          <td>   -0.0042</td> <td>    0.024</td> <td>   -0.177</td> <td> 0.860</td> <td>   -0.051</td> <td>    0.042</td>\n",
       "</tr>\n",
       "<tr>\n",
       "  <th>home_pitcher</th> <td>    0.0860</td> <td>    0.019</td> <td>    4.454</td> <td> 0.000</td> <td>    0.048</td> <td>    0.124</td>\n",
       "</tr>\n",
       "<tr>\n",
       "  <th>run_diff</th>     <td>    0.0138</td> <td>    0.003</td> <td>    4.571</td> <td> 0.000</td> <td>    0.008</td> <td>    0.020</td>\n",
       "</tr>\n",
       "<tr>\n",
       "  <th>count_0-1</th>    <td>   -1.1425</td> <td>    0.033</td> <td>  -34.896</td> <td> 0.000</td> <td>   -1.207</td> <td>   -1.078</td>\n",
       "</tr>\n",
       "<tr>\n",
       "  <th>count_0-2</th>    <td>   -2.2907</td> <td>    0.067</td> <td>  -34.409</td> <td> 0.000</td> <td>   -2.421</td> <td>   -2.160</td>\n",
       "</tr>\n",
       "<tr>\n",
       "  <th>count_1-0</th>    <td>   -0.1749</td> <td>    0.030</td> <td>   -5.858</td> <td> 0.000</td> <td>   -0.233</td> <td>   -0.116</td>\n",
       "</tr>\n",
       "<tr>\n",
       "  <th>count_1-1</th>    <td>   -0.8861</td> <td>    0.036</td> <td>  -24.543</td> <td> 0.000</td> <td>   -0.957</td> <td>   -0.815</td>\n",
       "</tr>\n",
       "<tr>\n",
       "  <th>count_1-2</th>    <td>   -1.9931</td> <td>    0.053</td> <td>  -37.369</td> <td> 0.000</td> <td>   -2.098</td> <td>   -1.889</td>\n",
       "</tr>\n",
       "<tr>\n",
       "  <th>count_2-0</th>    <td>    0.0596</td> <td>    0.047</td> <td>    1.264</td> <td> 0.206</td> <td>   -0.033</td> <td>    0.152</td>\n",
       "</tr>\n",
       "<tr>\n",
       "  <th>count_2-1</th>    <td>   -0.6914</td> <td>    0.050</td> <td>  -13.851</td> <td> 0.000</td> <td>   -0.789</td> <td>   -0.594</td>\n",
       "</tr>\n",
       "<tr>\n",
       "  <th>count_2-2</th>    <td>   -1.7127</td> <td>    0.057</td> <td>  -29.911</td> <td> 0.000</td> <td>   -1.825</td> <td>   -1.600</td>\n",
       "</tr>\n",
       "<tr>\n",
       "  <th>count_3-0</th>    <td>    0.9074</td> <td>    0.070</td> <td>   12.985</td> <td> 0.000</td> <td>    0.770</td> <td>    1.044</td>\n",
       "</tr>\n",
       "<tr>\n",
       "  <th>count_3-1</th>    <td>   -0.3923</td> <td>    0.069</td> <td>   -5.668</td> <td> 0.000</td> <td>   -0.528</td> <td>   -0.257</td>\n",
       "</tr>\n",
       "<tr>\n",
       "  <th>count_3-2</th>    <td>   -1.2339</td> <td>    0.074</td> <td>  -16.569</td> <td> 0.000</td> <td>   -1.380</td> <td>   -1.088</td>\n",
       "</tr>\n",
       "<tr>\n",
       "  <th>inning_2</th>     <td>   -0.0553</td> <td>    0.039</td> <td>   -1.401</td> <td> 0.161</td> <td>   -0.133</td> <td>    0.022</td>\n",
       "</tr>\n",
       "<tr>\n",
       "  <th>inning_3</th>     <td>    0.0617</td> <td>    0.039</td> <td>    1.571</td> <td> 0.116</td> <td>   -0.015</td> <td>    0.139</td>\n",
       "</tr>\n",
       "<tr>\n",
       "  <th>inning_4</th>     <td>   -0.0609</td> <td>    0.040</td> <td>   -1.539</td> <td> 0.124</td> <td>   -0.138</td> <td>    0.017</td>\n",
       "</tr>\n",
       "<tr>\n",
       "  <th>inning_5</th>     <td>   -0.1284</td> <td>    0.040</td> <td>   -3.233</td> <td> 0.001</td> <td>   -0.206</td> <td>   -0.051</td>\n",
       "</tr>\n",
       "<tr>\n",
       "  <th>inning_6</th>     <td>   -0.1735</td> <td>    0.040</td> <td>   -4.311</td> <td> 0.000</td> <td>   -0.252</td> <td>   -0.095</td>\n",
       "</tr>\n",
       "<tr>\n",
       "  <th>inning_7</th>     <td>   -0.0822</td> <td>    0.040</td> <td>   -2.060</td> <td> 0.039</td> <td>   -0.160</td> <td>   -0.004</td>\n",
       "</tr>\n",
       "<tr>\n",
       "  <th>inning_8</th>     <td>   -0.1388</td> <td>    0.040</td> <td>   -3.457</td> <td> 0.001</td> <td>   -0.218</td> <td>   -0.060</td>\n",
       "</tr>\n",
       "<tr>\n",
       "  <th>inning_9+</th>    <td>   -0.0847</td> <td>    0.041</td> <td>   -2.073</td> <td> 0.038</td> <td>   -0.165</td> <td>   -0.005</td>\n",
       "</tr>\n",
       "<tr>\n",
       "  <th>intercept</th>    <td>   -0.1595</td> <td>    0.031</td> <td>   -5.114</td> <td> 0.000</td> <td>   -0.221</td> <td>   -0.098</td>\n",
       "</tr>\n",
       "</table>"
      ],
      "text/plain": [
       "<class 'statsmodels.iolib.summary.Summary'>\n",
       "\"\"\"\n",
       "                            Logit Regression Results                           \n",
       "===============================================================================\n",
       "Dep. Variable:     strike_given_called   No. Observations:                54806\n",
       "Model:                           Logit   Df Residuals:                    54783\n",
       "Method:                            MLE   Df Model:                           22\n",
       "Date:                 Tue, 09 Jul 2019   Pseudo R-squ.:                 0.08525\n",
       "Time:                         21:20:28   Log-Likelihood:                -31595.\n",
       "converged:                        True   LL-Null:                       -34540.\n",
       "                                         LLR p-value:                     0.000\n",
       "================================================================================\n",
       "                   coef    std err          z      P>|z|      [0.025      0.975]\n",
       "--------------------------------------------------------------------------------\n",
       "upm             -0.0042      0.024     -0.177      0.860      -0.051       0.042\n",
       "home_pitcher     0.0860      0.019      4.454      0.000       0.048       0.124\n",
       "run_diff         0.0138      0.003      4.571      0.000       0.008       0.020\n",
       "count_0-1       -1.1425      0.033    -34.896      0.000      -1.207      -1.078\n",
       "count_0-2       -2.2907      0.067    -34.409      0.000      -2.421      -2.160\n",
       "count_1-0       -0.1749      0.030     -5.858      0.000      -0.233      -0.116\n",
       "count_1-1       -0.8861      0.036    -24.543      0.000      -0.957      -0.815\n",
       "count_1-2       -1.9931      0.053    -37.369      0.000      -2.098      -1.889\n",
       "count_2-0        0.0596      0.047      1.264      0.206      -0.033       0.152\n",
       "count_2-1       -0.6914      0.050    -13.851      0.000      -0.789      -0.594\n",
       "count_2-2       -1.7127      0.057    -29.911      0.000      -1.825      -1.600\n",
       "count_3-0        0.9074      0.070     12.985      0.000       0.770       1.044\n",
       "count_3-1       -0.3923      0.069     -5.668      0.000      -0.528      -0.257\n",
       "count_3-2       -1.2339      0.074    -16.569      0.000      -1.380      -1.088\n",
       "inning_2        -0.0553      0.039     -1.401      0.161      -0.133       0.022\n",
       "inning_3         0.0617      0.039      1.571      0.116      -0.015       0.139\n",
       "inning_4        -0.0609      0.040     -1.539      0.124      -0.138       0.017\n",
       "inning_5        -0.1284      0.040     -3.233      0.001      -0.206      -0.051\n",
       "inning_6        -0.1735      0.040     -4.311      0.000      -0.252      -0.095\n",
       "inning_7        -0.0822      0.040     -2.060      0.039      -0.160      -0.004\n",
       "inning_8        -0.1388      0.040     -3.457      0.001      -0.218      -0.060\n",
       "inning_9+       -0.0847      0.041     -2.073      0.038      -0.165      -0.005\n",
       "intercept       -0.1595      0.031     -5.114      0.000      -0.221      -0.098\n",
       "================================================================================\n",
       "\"\"\""
      ]
     },
     "execution_count": 56,
     "metadata": {},
     "output_type": "execute_result"
    }
   ],
   "source": [
    "fit_hispanic.summary()"
   ]
  },
  {
   "cell_type": "code",
   "execution_count": 57,
   "metadata": {},
   "outputs": [
    {
     "data": {
      "text/plain": [
       "-0.0008780771860644173"
      ]
     },
     "execution_count": 57,
     "metadata": {},
     "output_type": "execute_result"
    }
   ],
   "source": [
    "upm_effects(fit_hispanic, X_hispanic)"
   ]
  },
  {
   "cell_type": "markdown",
   "metadata": {},
   "source": [
    "## Rank features and examine effect of adding/removing control features"
   ]
  },
  {
   "cell_type": "code",
   "execution_count": 58,
   "metadata": {},
   "outputs": [],
   "source": [
    "rf_hispanic = rank_features(X_hispanic, y_hispanic)"
   ]
  },
  {
   "cell_type": "code",
   "execution_count": 59,
   "metadata": {},
   "outputs": [
    {
     "data": {
      "text/plain": [
       "['count_0-2',\n",
       " 'count_1-2',\n",
       " 'count_2-2',\n",
       " 'count_3-0',\n",
       " 'count_3-2',\n",
       " 'count_0-1',\n",
       " 'count_1-1',\n",
       " 'count_2-1',\n",
       " 'count_3-1',\n",
       " 'count_1-0',\n",
       " 'inning_3',\n",
       " 'inning_6',\n",
       " 'home_pitcher',\n",
       " 'inning_8',\n",
       " 'inning_5',\n",
       " 'count_2-0',\n",
       " 'inning_7',\n",
       " 'inning_9+',\n",
       " 'inning_4',\n",
       " 'inning_2',\n",
       " 'run_diff',\n",
       " 'upm']"
      ]
     },
     "execution_count": 59,
     "metadata": {},
     "output_type": "execute_result"
    }
   ],
   "source": [
    "rf_hispanic"
   ]
  },
  {
   "cell_type": "code",
   "execution_count": 60,
   "metadata": {
    "scrolled": true
   },
   "outputs": [
    {
     "name": "stdout",
     "output_type": "stream",
     "text": [
      "Fitting 22 variables...\n",
      "Optimization terminated successfully.\n",
      "         Current function value: 0.576493\n",
      "         Iterations 6\n",
      "Beta = -0.0041892206799233975; p = 0.8595409313543707\n",
      "Fitting 21 variables...\n",
      "Optimization terminated successfully.\n",
      "         Current function value: 0.576684\n",
      "         Iterations 6\n",
      "Beta = -0.00392317129230092; p = 0.8683529577985332\n",
      "Fitting 20 variables...\n",
      "Optimization terminated successfully.\n",
      "         Current function value: 0.576701\n",
      "         Iterations 6\n",
      "Beta = -0.00416986417261148; p = 0.8601520526070399\n",
      "Fitting 19 variables...\n",
      "Optimization terminated successfully.\n",
      "         Current function value: 0.576710\n",
      "         Iterations 6\n",
      "Beta = -0.003994959818704232; p = 0.8659561463000154\n",
      "Fitting 18 variables...\n",
      "Optimization terminated successfully.\n",
      "         Current function value: 0.576717\n",
      "         Iterations 6\n",
      "Beta = -0.004289784305280286; p = 0.8561549211229252\n",
      "Fitting 17 variables...\n",
      "Optimization terminated successfully.\n",
      "         Current function value: 0.576731\n",
      "         Iterations 6\n",
      "Beta = -0.003952420767551475; p = 0.8673482053491675\n",
      "Fitting 16 variables...\n",
      "Optimization terminated successfully.\n",
      "         Current function value: 0.576744\n",
      "         Iterations 6\n",
      "Beta = -0.00406663750453583; p = 0.8635493824706814\n",
      "Fitting 15 variables...\n",
      "Optimization terminated successfully.\n",
      "         Current function value: 0.576800\n",
      "         Iterations 6\n",
      "Beta = -0.0041947807937802; p = 0.859280842098665\n",
      "Fitting 14 variables...\n",
      "Optimization terminated successfully.\n",
      "         Current function value: 0.576852\n",
      "         Iterations 6\n",
      "Beta = -0.004206616287978379; p = 0.8588831784330992\n",
      "Fitting 13 variables...\n",
      "Optimization terminated successfully.\n",
      "         Current function value: 0.577024\n",
      "         Iterations 6\n",
      "Beta = -0.005023448670982349; p = 0.8318156704257479\n",
      "Fitting 12 variables...\n",
      "Optimization terminated successfully.\n",
      "         Current function value: 0.577117\n",
      "         Iterations 6\n",
      "Beta = -0.0043314649227527285; p = 0.8546836608990236\n",
      "Fitting 11 variables...\n",
      "Optimization terminated successfully.\n",
      "         Current function value: 0.577336\n",
      "         Iterations 6\n",
      "Beta = -0.004213479552343138; p = 0.8585688099882354\n",
      "Fitting 10 variables...\n",
      "Optimization terminated successfully.\n",
      "         Current function value: 0.577690\n",
      "         Iterations 6\n",
      "Beta = -0.0038769250645827734; p = 0.8697016558282832\n",
      "Fitting 9 variables...\n",
      "Optimization terminated successfully.\n",
      "         Current function value: 0.577960\n",
      "         Iterations 6\n",
      "Beta = -0.003745052243359876; p = 0.8740545333309275\n",
      "Fitting 8 variables...\n",
      "Optimization terminated successfully.\n",
      "         Current function value: 0.579641\n",
      "         Iterations 6\n",
      "Beta = -0.004406919363365852; p = 0.8517409688420821\n",
      "Fitting 7 variables...\n",
      "Optimization terminated successfully.\n",
      "         Current function value: 0.584776\n",
      "         Iterations 6\n",
      "Beta = -0.003977167900690706; p = 0.8652728911434507\n",
      "Fitting 6 variables...\n",
      "Optimization terminated successfully.\n",
      "         Current function value: 0.594281\n",
      "         Iterations 6\n",
      "Beta = -0.002234053224321674; p = 0.9233026004381607\n",
      "Fitting 5 variables...\n",
      "Optimization terminated successfully.\n",
      "         Current function value: 0.595908\n",
      "         Iterations 6\n",
      "Beta = -0.005597672746800507; p = 0.8090326156093606\n",
      "Fitting 4 variables...\n",
      "Optimization terminated successfully.\n",
      "         Current function value: 0.599075\n",
      "         Iterations 6\n",
      "Beta = -0.008404251501292785; p = 0.7157750083117688\n",
      "Fitting 3 variables...\n",
      "Optimization terminated successfully.\n",
      "         Current function value: 0.606587\n",
      "         Iterations 6\n",
      "Beta = -0.011574355684081642; p = 0.6134692012906828\n",
      "Fitting 2 variables...\n",
      "Optimization terminated successfully.\n",
      "         Current function value: 0.619075\n",
      "         Iterations 6\n",
      "Beta = -0.011280404860665736; p = 0.6186949255571326\n",
      "CPU times: user 6.47 s, sys: 490 ms, total: 6.96 s\n",
      "Wall time: 3.83 s\n"
     ]
    }
   ],
   "source": [
    "%time nf_hispanic, beta_hispanic, p_hispanic = eliminate_features(X_hispanic, y_hispanic, rf_hispanic)"
   ]
  },
  {
   "cell_type": "code",
   "execution_count": 61,
   "metadata": {},
   "outputs": [
    {
     "data": {
      "image/png": "[encoded data removed]",
      "text/plain": [
       "<Figure size 648x504 with 1 Axes>"
      ]
     },
     "metadata": {
      "needs_background": "light"
     },
     "output_type": "display_data"
    }
   ],
   "source": [
    "plot_beta(beta_hispanic, nf_hispanic, \"UPM Coefficient vs Number of Features when Umpire is Hispanic\", \"upm_vs_nf_hispanic_umpire.png\")"
   ]
  },
  {
   "cell_type": "code",
   "execution_count": 62,
   "metadata": {},
   "outputs": [
    {
     "data": {
      "image/png": "[encoded data removed]",
      "text/plain": [
       "<Figure size 648x504 with 1 Axes>"
      ]
     },
     "metadata": {
      "needs_background": "light"
     },
     "output_type": "display_data"
    }
   ],
   "source": [
    "plot_pvalues(p_hispanic, nf_hispanic, \"UPM Significance vs Number of Features when Umpire is Hispanic\", \"p_vs_nf_hispanic_umpire.png\")"
   ]
  },
  {
   "cell_type": "markdown",
   "metadata": {},
   "source": [
    "## Analysis of logistic regression when umpire is nonwhite\n",
    "* Here, we lump the races into two categories: white vs nonwhite. We examine the effect of whether or not the umpire and pitcher match on nonwhiteness\n",
    "* $p = 0.088$\n",
    "* Observed effect is that a nonwhite umpire is 0.5% less likely to call a strike when the pitcher is also not white, when all else is held at its mean."
   ]
  },
  {
   "cell_type": "code",
   "execution_count": 37,
   "metadata": {},
   "outputs": [
    {
     "data": {
      "text/html": [
       "<div>\n",
       "<style scoped>\n",
       "    .dataframe tbody tr th:only-of-type {\n",
       "        vertical-align: middle;\n",
       "    }\n",
       "\n",
       "    .dataframe tbody tr th {\n",
       "        vertical-align: top;\n",
       "    }\n",
       "\n",
       "    .dataframe thead th {\n",
       "        text-align: right;\n",
       "    }\n",
       "</style>\n",
       "<table border=\"1\" class=\"dataframe\">\n",
       "  <thead>\n",
       "    <tr style=\"text-align: right;\">\n",
       "      <th></th>\n",
       "      <th>count</th>\n",
       "      <th>home_pitcher</th>\n",
       "      <th>inning</th>\n",
       "      <th>run_diff</th>\n",
       "      <th>strike_given_called</th>\n",
       "      <th>pitcher_race</th>\n",
       "      <th>umpire_race</th>\n",
       "    </tr>\n",
       "  </thead>\n",
       "  <tbody>\n",
       "    <tr>\n",
       "      <th>2642</th>\n",
       "      <td>0-0</td>\n",
       "      <td>1</td>\n",
       "      <td>1</td>\n",
       "      <td>0</td>\n",
       "      <td>False</td>\n",
       "      <td>white</td>\n",
       "      <td>nonwhite</td>\n",
       "    </tr>\n",
       "    <tr>\n",
       "      <th>2643</th>\n",
       "      <td>1-0</td>\n",
       "      <td>1</td>\n",
       "      <td>1</td>\n",
       "      <td>0</td>\n",
       "      <td>True</td>\n",
       "      <td>white</td>\n",
       "      <td>nonwhite</td>\n",
       "    </tr>\n",
       "    <tr>\n",
       "      <th>2644</th>\n",
       "      <td>1-1</td>\n",
       "      <td>1</td>\n",
       "      <td>1</td>\n",
       "      <td>0</td>\n",
       "      <td>False</td>\n",
       "      <td>white</td>\n",
       "      <td>nonwhite</td>\n",
       "    </tr>\n",
       "    <tr>\n",
       "      <th>2645</th>\n",
       "      <td>0-1</td>\n",
       "      <td>1</td>\n",
       "      <td>1</td>\n",
       "      <td>0</td>\n",
       "      <td>False</td>\n",
       "      <td>white</td>\n",
       "      <td>nonwhite</td>\n",
       "    </tr>\n",
       "    <tr>\n",
       "      <th>2646</th>\n",
       "      <td>0-0</td>\n",
       "      <td>1</td>\n",
       "      <td>1</td>\n",
       "      <td>0</td>\n",
       "      <td>False</td>\n",
       "      <td>white</td>\n",
       "      <td>nonwhite</td>\n",
       "    </tr>\n",
       "  </tbody>\n",
       "</table>\n",
       "</div>"
      ],
      "text/plain": [
       "     count  home_pitcher  inning  run_diff  strike_given_called pitcher_race  \\\n",
       "2642   0-0             1       1         0                False        white   \n",
       "2643   1-0             1       1         0                 True        white   \n",
       "2644   1-1             1       1         0                False        white   \n",
       "2645   0-1             1       1         0                False        white   \n",
       "2646   0-0             1       1         0                False        white   \n",
       "\n",
       "     umpire_race  \n",
       "2642    nonwhite  \n",
       "2643    nonwhite  \n",
       "2644    nonwhite  \n",
       "2645    nonwhite  \n",
       "2646    nonwhite  "
      ]
     },
     "execution_count": 37,
     "metadata": {},
     "output_type": "execute_result"
    }
   ],
   "source": [
    "w_nw_df = cp_df.copy()\n",
    "w_nw_df.umpire_race = w_nw_df.umpire_race.apply(white_or_not)\n",
    "w_nw_df.pitcher_race = w_nw_df.pitcher_race.apply(white_or_not)\n",
    "nonwhite_umpire = w_nw_df[w_nw_df.umpire_race == 'nonwhite']\n",
    "nonwhite_umpire.head()"
   ]
  },
  {
   "cell_type": "code",
   "execution_count": 38,
   "metadata": {},
   "outputs": [
    {
     "name": "stdout",
     "output_type": "stream",
     "text": [
      "CPU times: user 4.55 s, sys: 49.1 ms, total: 4.6 s\n",
      "Wall time: 4.32 s\n"
     ]
    }
   ],
   "source": [
    "%time X_nonwhite, y_nonwhite = prepare_df(nonwhite_umpire)"
   ]
  },
  {
   "cell_type": "code",
   "execution_count": 39,
   "metadata": {},
   "outputs": [
    {
     "name": "stdout",
     "output_type": "stream",
     "text": [
      "Optimization terminated successfully.\n",
      "         Current function value: 0.577946\n",
      "         Iterations 6\n"
     ]
    }
   ],
   "source": [
    "fit_nonwhite = sm.Logit(y_nonwhite, X_nonwhite).fit()"
   ]
  },
  {
   "cell_type": "code",
   "execution_count": 40,
   "metadata": {},
   "outputs": [
    {
     "data": {
      "text/html": [
       "<table class=\"simpletable\">\n",
       "<caption>Logit Regression Results</caption>\n",
       "<tr>\n",
       "  <th>Dep. Variable:</th> <td>strike_given_called</td> <th>  No. Observations:  </th>  <td>125036</td> \n",
       "</tr>\n",
       "<tr>\n",
       "  <th>Model:</th>                <td>Logit</td>        <th>  Df Residuals:      </th>  <td>125013</td> \n",
       "</tr>\n",
       "<tr>\n",
       "  <th>Method:</th>                <td>MLE</td>         <th>  Df Model:          </th>  <td>    22</td> \n",
       "</tr>\n",
       "<tr>\n",
       "  <th>Date:</th>           <td>Tue, 09 Jul 2019</td>   <th>  Pseudo R-squ.:     </th>  <td>0.08485</td>\n",
       "</tr>\n",
       "<tr>\n",
       "  <th>Time:</th>               <td>21:07:51</td>       <th>  Log-Likelihood:    </th> <td> -72264.</td>\n",
       "</tr>\n",
       "<tr>\n",
       "  <th>converged:</th>            <td>True</td>         <th>  LL-Null:           </th> <td> -78964.</td>\n",
       "</tr>\n",
       "<tr>\n",
       "  <th> </th>                       <td> </td>          <th>  LLR p-value:       </th>  <td> 0.000</td> \n",
       "</tr>\n",
       "</table>\n",
       "<table class=\"simpletable\">\n",
       "<tr>\n",
       "        <td></td>          <th>coef</th>     <th>std err</th>      <th>z</th>      <th>P>|z|</th>  <th>[0.025</th>    <th>0.975]</th>  \n",
       "</tr>\n",
       "<tr>\n",
       "  <th>upm</th>          <td>   -0.0237</td> <td>    0.014</td> <td>   -1.708</td> <td> 0.088</td> <td>   -0.051</td> <td>    0.004</td>\n",
       "</tr>\n",
       "<tr>\n",
       "  <th>home_pitcher</th> <td>    0.0361</td> <td>    0.013</td> <td>    2.827</td> <td> 0.005</td> <td>    0.011</td> <td>    0.061</td>\n",
       "</tr>\n",
       "<tr>\n",
       "  <th>run_diff</th>     <td>    0.0106</td> <td>    0.002</td> <td>    5.250</td> <td> 0.000</td> <td>    0.007</td> <td>    0.015</td>\n",
       "</tr>\n",
       "<tr>\n",
       "  <th>count_0-1</th>    <td>   -1.1499</td> <td>    0.022</td> <td>  -53.039</td> <td> 0.000</td> <td>   -1.192</td> <td>   -1.107</td>\n",
       "</tr>\n",
       "<tr>\n",
       "  <th>count_0-2</th>    <td>   -2.2840</td> <td>    0.044</td> <td>  -51.758</td> <td> 0.000</td> <td>   -2.370</td> <td>   -2.197</td>\n",
       "</tr>\n",
       "<tr>\n",
       "  <th>count_1-0</th>    <td>   -0.1603</td> <td>    0.020</td> <td>   -8.129</td> <td> 0.000</td> <td>   -0.199</td> <td>   -0.122</td>\n",
       "</tr>\n",
       "<tr>\n",
       "  <th>count_1-1</th>    <td>   -0.9375</td> <td>    0.024</td> <td>  -38.962</td> <td> 0.000</td> <td>   -0.985</td> <td>   -0.890</td>\n",
       "</tr>\n",
       "<tr>\n",
       "  <th>count_1-2</th>    <td>   -2.0080</td> <td>    0.036</td> <td>  -56.258</td> <td> 0.000</td> <td>   -2.078</td> <td>   -1.938</td>\n",
       "</tr>\n",
       "<tr>\n",
       "  <th>count_2-0</th>    <td>    0.0661</td> <td>    0.031</td> <td>    2.119</td> <td> 0.034</td> <td>    0.005</td> <td>    0.127</td>\n",
       "</tr>\n",
       "<tr>\n",
       "  <th>count_2-1</th>    <td>   -0.7251</td> <td>    0.033</td> <td>  -22.163</td> <td> 0.000</td> <td>   -0.789</td> <td>   -0.661</td>\n",
       "</tr>\n",
       "<tr>\n",
       "  <th>count_2-2</th>    <td>   -1.6792</td> <td>    0.038</td> <td>  -44.383</td> <td> 0.000</td> <td>   -1.753</td> <td>   -1.605</td>\n",
       "</tr>\n",
       "<tr>\n",
       "  <th>count_3-0</th>    <td>    0.8446</td> <td>    0.046</td> <td>   18.268</td> <td> 0.000</td> <td>    0.754</td> <td>    0.935</td>\n",
       "</tr>\n",
       "<tr>\n",
       "  <th>count_3-1</th>    <td>   -0.2953</td> <td>    0.045</td> <td>   -6.607</td> <td> 0.000</td> <td>   -0.383</td> <td>   -0.208</td>\n",
       "</tr>\n",
       "<tr>\n",
       "  <th>count_3-2</th>    <td>   -1.2457</td> <td>    0.049</td> <td>  -25.685</td> <td> 0.000</td> <td>   -1.341</td> <td>   -1.151</td>\n",
       "</tr>\n",
       "<tr>\n",
       "  <th>inning_2</th>     <td>    0.0111</td> <td>    0.026</td> <td>    0.427</td> <td> 0.669</td> <td>   -0.040</td> <td>    0.062</td>\n",
       "</tr>\n",
       "<tr>\n",
       "  <th>inning_3</th>     <td>    0.0577</td> <td>    0.026</td> <td>    2.210</td> <td> 0.027</td> <td>    0.007</td> <td>    0.109</td>\n",
       "</tr>\n",
       "<tr>\n",
       "  <th>inning_4</th>     <td>   -0.0992</td> <td>    0.026</td> <td>   -3.765</td> <td> 0.000</td> <td>   -0.151</td> <td>   -0.048</td>\n",
       "</tr>\n",
       "<tr>\n",
       "  <th>inning_5</th>     <td>   -0.0627</td> <td>    0.026</td> <td>   -2.378</td> <td> 0.017</td> <td>   -0.114</td> <td>   -0.011</td>\n",
       "</tr>\n",
       "<tr>\n",
       "  <th>inning_6</th>     <td>   -0.1098</td> <td>    0.027</td> <td>   -4.114</td> <td> 0.000</td> <td>   -0.162</td> <td>   -0.057</td>\n",
       "</tr>\n",
       "<tr>\n",
       "  <th>inning_7</th>     <td>   -0.0809</td> <td>    0.027</td> <td>   -3.050</td> <td> 0.002</td> <td>   -0.133</td> <td>   -0.029</td>\n",
       "</tr>\n",
       "<tr>\n",
       "  <th>inning_8</th>     <td>   -0.0862</td> <td>    0.026</td> <td>   -3.257</td> <td> 0.001</td> <td>   -0.138</td> <td>   -0.034</td>\n",
       "</tr>\n",
       "<tr>\n",
       "  <th>inning_9+</th>    <td>   -0.0522</td> <td>    0.027</td> <td>   -1.950</td> <td> 0.051</td> <td>   -0.105</td> <td>    0.000</td>\n",
       "</tr>\n",
       "<tr>\n",
       "  <th>intercept</th>    <td>   -0.1455</td> <td>    0.021</td> <td>   -6.988</td> <td> 0.000</td> <td>   -0.186</td> <td>   -0.105</td>\n",
       "</tr>\n",
       "</table>"
      ],
      "text/plain": [
       "<class 'statsmodels.iolib.summary.Summary'>\n",
       "\"\"\"\n",
       "                            Logit Regression Results                           \n",
       "===============================================================================\n",
       "Dep. Variable:     strike_given_called   No. Observations:               125036\n",
       "Model:                           Logit   Df Residuals:                   125013\n",
       "Method:                            MLE   Df Model:                           22\n",
       "Date:                 Tue, 09 Jul 2019   Pseudo R-squ.:                 0.08485\n",
       "Time:                         21:07:51   Log-Likelihood:                -72264.\n",
       "converged:                        True   LL-Null:                       -78964.\n",
       "                                         LLR p-value:                     0.000\n",
       "================================================================================\n",
       "                   coef    std err          z      P>|z|      [0.025      0.975]\n",
       "--------------------------------------------------------------------------------\n",
       "upm             -0.0237      0.014     -1.708      0.088      -0.051       0.004\n",
       "home_pitcher     0.0361      0.013      2.827      0.005       0.011       0.061\n",
       "run_diff         0.0106      0.002      5.250      0.000       0.007       0.015\n",
       "count_0-1       -1.1499      0.022    -53.039      0.000      -1.192      -1.107\n",
       "count_0-2       -2.2840      0.044    -51.758      0.000      -2.370      -2.197\n",
       "count_1-0       -0.1603      0.020     -8.129      0.000      -0.199      -0.122\n",
       "count_1-1       -0.9375      0.024    -38.962      0.000      -0.985      -0.890\n",
       "count_1-2       -2.0080      0.036    -56.258      0.000      -2.078      -1.938\n",
       "count_2-0        0.0661      0.031      2.119      0.034       0.005       0.127\n",
       "count_2-1       -0.7251      0.033    -22.163      0.000      -0.789      -0.661\n",
       "count_2-2       -1.6792      0.038    -44.383      0.000      -1.753      -1.605\n",
       "count_3-0        0.8446      0.046     18.268      0.000       0.754       0.935\n",
       "count_3-1       -0.2953      0.045     -6.607      0.000      -0.383      -0.208\n",
       "count_3-2       -1.2457      0.049    -25.685      0.000      -1.341      -1.151\n",
       "inning_2         0.0111      0.026      0.427      0.669      -0.040       0.062\n",
       "inning_3         0.0577      0.026      2.210      0.027       0.007       0.109\n",
       "inning_4        -0.0992      0.026     -3.765      0.000      -0.151      -0.048\n",
       "inning_5        -0.0627      0.026     -2.378      0.017      -0.114      -0.011\n",
       "inning_6        -0.1098      0.027     -4.114      0.000      -0.162      -0.057\n",
       "inning_7        -0.0809      0.027     -3.050      0.002      -0.133      -0.029\n",
       "inning_8        -0.0862      0.026     -3.257      0.001      -0.138      -0.034\n",
       "inning_9+       -0.0522      0.027     -1.950      0.051      -0.105       0.000\n",
       "intercept       -0.1455      0.021     -6.988      0.000      -0.186      -0.105\n",
       "================================================================================\n",
       "\"\"\""
      ]
     },
     "execution_count": 40,
     "metadata": {},
     "output_type": "execute_result"
    }
   ],
   "source": [
    "fit_nonwhite.summary()"
   ]
  },
  {
   "cell_type": "code",
   "execution_count": 41,
   "metadata": {},
   "outputs": [
    {
     "data": {
      "text/plain": [
       "-0.005006611028762808"
      ]
     },
     "execution_count": 41,
     "metadata": {},
     "output_type": "execute_result"
    }
   ],
   "source": [
    "upm_effects(fit_nonwhite, X_nonwhite)"
   ]
  },
  {
   "cell_type": "markdown",
   "metadata": {},
   "source": [
    "### Rank features and examine effect of adding/removing control features"
   ]
  },
  {
   "cell_type": "code",
   "execution_count": 42,
   "metadata": {},
   "outputs": [],
   "source": [
    "rf_nonwhite = rank_features(X_nonwhite, y_nonwhite)"
   ]
  },
  {
   "cell_type": "code",
   "execution_count": 43,
   "metadata": {},
   "outputs": [
    {
     "data": {
      "text/plain": [
       "['count_0-2',\n",
       " 'count_1-2',\n",
       " 'count_2-2',\n",
       " 'count_3-0',\n",
       " 'count_3-2',\n",
       " 'count_0-1',\n",
       " 'count_1-1',\n",
       " 'count_2-1',\n",
       " 'count_3-1',\n",
       " 'count_1-0',\n",
       " 'inning_3',\n",
       " 'count_2-0',\n",
       " 'inning_6',\n",
       " 'inning_4',\n",
       " 'inning_8',\n",
       " 'inning_7',\n",
       " 'inning_5',\n",
       " 'inning_9+',\n",
       " 'home_pitcher',\n",
       " 'upm',\n",
       " 'inning_2',\n",
       " 'run_diff']"
      ]
     },
     "execution_count": 43,
     "metadata": {},
     "output_type": "execute_result"
    }
   ],
   "source": [
    "rf_nonwhite"
   ]
  },
  {
   "cell_type": "code",
   "execution_count": 44,
   "metadata": {
    "scrolled": true
   },
   "outputs": [
    {
     "name": "stdout",
     "output_type": "stream",
     "text": [
      "Fitting 22 variables...\n",
      "Optimization terminated successfully.\n",
      "         Current function value: 0.577946\n",
      "         Iterations 6\n",
      "Beta = -0.02373526488655271; p = 0.08765412973912415\n",
      "Fitting 21 variables...\n",
      "Optimization terminated successfully.\n",
      "         Current function value: 0.578056\n",
      "         Iterations 6\n",
      "Beta = -0.02326483514238061; p = 0.09407965954696025\n",
      "Fitting 20 variables...\n",
      "Optimization terminated successfully.\n",
      "         Current function value: 0.578057\n",
      "         Iterations 6\n",
      "Beta = -0.023234616969380357; p = 0.09450340107791404\n",
      "Fitting 19 variables...\n",
      "Optimization terminated successfully.\n",
      "         Current function value: 0.578083\n",
      "         Iterations 6\n",
      "Beta = -0.023469910223820813; p = 0.09119590195145472\n",
      "Fitting 18 variables...\n",
      "Optimization terminated successfully.\n",
      "         Current function value: 0.578096\n",
      "         Iterations 6\n",
      "Beta = -0.024278045098361355; p = 0.08043126992485021\n",
      "Fitting 17 variables...\n",
      "Optimization terminated successfully.\n",
      "         Current function value: 0.578121\n",
      "         Iterations 6\n",
      "Beta = -0.023896019908758174; p = 0.08527979856251315\n",
      "Fitting 16 variables...\n",
      "Optimization terminated successfully.\n",
      "         Current function value: 0.578152\n",
      "         Iterations 6\n",
      "Beta = -0.02332423380065907; p = 0.09297753962585599\n",
      "Fitting 15 variables...\n",
      "Optimization terminated successfully.\n",
      "         Current function value: 0.578178\n",
      "         Iterations 6\n",
      "Beta = -0.02327509941838629; p = 0.09365982501404385\n",
      "Fitting 14 variables...\n",
      "Optimization terminated successfully.\n",
      "         Current function value: 0.578209\n",
      "         Iterations 6\n",
      "Beta = -0.022859614613052578; p = 0.09963309168569179\n",
      "Fitting 13 variables...\n",
      "Optimization terminated successfully.\n",
      "         Current function value: 0.578243\n",
      "         Iterations 6\n",
      "Beta = -0.02259421077763191; p = 0.10360548074031402\n",
      "Fitting 12 variables...\n",
      "Optimization terminated successfully.\n",
      "         Current function value: 0.578260\n",
      "         Iterations 6\n",
      "Beta = -0.02254775262496751; p = 0.10430888465742813\n",
      "Fitting 11 variables...\n",
      "Optimization terminated successfully.\n",
      "         Current function value: 0.578393\n",
      "         Iterations 6\n",
      "Beta = -0.02311057884987377; p = 0.09588860651922182\n",
      "Fitting 10 variables...\n",
      "Optimization terminated successfully.\n",
      "         Current function value: 0.578691\n",
      "         Iterations 6\n",
      "Beta = -0.023051326050121595; p = 0.09661870340586\n",
      "Fitting 9 variables...\n",
      "Optimization terminated successfully.\n",
      "         Current function value: 0.578839\n",
      "         Iterations 6\n",
      "Beta = -0.022995430390783667; p = 0.09736825074958923\n",
      "Fitting 8 variables...\n",
      "Optimization terminated successfully.\n",
      "         Current function value: 0.580782\n",
      "         Iterations 6\n",
      "Beta = -0.022317749208616056; p = 0.10682833961630438\n",
      "Fitting 7 variables...\n",
      "Optimization terminated successfully.\n",
      "         Current function value: 0.586641\n",
      "         Iterations 6\n",
      "Beta = -0.02187127917154396; p = 0.11162460128378561\n",
      "Fitting 6 variables...\n",
      "Optimization terminated successfully.\n",
      "         Current function value: 0.596301\n",
      "         Iterations 6\n",
      "Beta = -0.018121487389878992; p = 0.1829457266078678\n",
      "Fitting 5 variables...\n",
      "Optimization terminated successfully.\n",
      "         Current function value: 0.598022\n",
      "         Iterations 6\n",
      "Beta = -0.018647440328853102; p = 0.16980585635924572\n",
      "Fitting 4 variables...\n",
      "Optimization terminated successfully.\n",
      "         Current function value: 0.600925\n",
      "         Iterations 6\n",
      "Beta = -0.01838946912732268; p = 0.1743070696898128\n",
      "Fitting 3 variables...\n",
      "Optimization terminated successfully.\n",
      "         Current function value: 0.607976\n",
      "         Iterations 6\n",
      "Beta = -0.01921389098679961; p = 0.15301113015681195\n",
      "Fitting 2 variables...\n",
      "Optimization terminated successfully.\n",
      "         Current function value: 0.620497\n",
      "         Iterations 6\n",
      "Beta = -0.017910539313728265; p = 0.1781041540483269\n",
      "CPU times: user 14.2 s, sys: 1.05 s, total: 15.3 s\n",
      "Wall time: 8.02 s\n"
     ]
    }
   ],
   "source": [
    "%time nf_nonwhite, beta_nonwhite, p_nonwhite = eliminate_features(X_nonwhite, y_nonwhite, rf_nonwhite)"
   ]
  },
  {
   "cell_type": "code",
   "execution_count": 45,
   "metadata": {},
   "outputs": [
    {
     "data": {
      "image/png": "[encoded data removed]",
      "text/plain": [
       "<Figure size 648x504 with 1 Axes>"
      ]
     },
     "metadata": {
      "needs_background": "light"
     },
     "output_type": "display_data"
    }
   ],
   "source": [
    "plot_beta(beta_nonwhite, nf_nonwhite, \"UPM Coefficient vs Number of Features when Umpire is Nonwhite\", \"upm_vs_nf_nonwhite_umpire.png\")"
   ]
  },
  {
   "cell_type": "code",
   "execution_count": 46,
   "metadata": {},
   "outputs": [
    {
     "data": {
      "image/png": "[encoded data removed]",
      "text/plain": [
       "<Figure size 648x504 with 1 Axes>"
      ]
     },
     "metadata": {
      "needs_background": "light"
     },
     "output_type": "display_data"
    }
   ],
   "source": [
    "plot_pvalues(p_nonwhite, nf_nonwhite, \"UPM Significance vs Number of Features when Umpire is Nonwhite\", \"p_vs_nf_nonwhite_umpire.png\")"
   ]
  },
  {
   "cell_type": "code",
   "execution_count": null,
   "metadata": {},
   "outputs": [],
   "source": []
  }
 ],
 "metadata": {
  "kernelspec": {
   "display_name": "Python 3",
   "language": "python",
   "name": "python3"
  },
  "language_info": {
   "codemirror_mode": {
    "name": "ipython",
    "version": 3
   },
   "file_extension": ".py",
   "mimetype": "text/x-python",
   "name": "python",
   "nbconvert_exporter": "python",
   "pygments_lexer": "ipython3",
   "version": "3.7.1"
  }
 },
 "nbformat": 4,
 "nbformat_minor": 2
}
