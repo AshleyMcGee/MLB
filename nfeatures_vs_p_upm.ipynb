{
 "cells": [
  {
   "cell_type": "code",
   "execution_count": 1,
   "metadata": {},
   "outputs": [],
   "source": [
    "import pandas as pd\n",
    "import numpy as np\n",
    "\n",
    "# Tools for recursive feature selection\n",
    "from sklearn.linear_model import LogisticRegression\n",
    "from sklearn.feature_selection import RFE\n",
    "\n",
    "# Tools for fitting logistic regression and getting p-values\n",
    "import statsmodels.api as sm\n",
    "\n",
    "# For plotting\n",
    "import matplotlib.pyplot as plt\n",
    "\n",
    "# Our local, useful function for preparing the merged dataframe for modeling\n",
    "from baseball_utils import prepare_df"
   ]
  },
  {
   "cell_type": "markdown",
   "metadata": {},
   "source": [
    "## Use recursive feature selection to rank the features"
   ]
  },
  {
   "cell_type": "code",
   "execution_count": 2,
   "metadata": {},
   "outputs": [],
   "source": [
    "# Load the dataframe\n",
    "cp_df = pd.read_csv(\"cp_merged.csv\")"
   ]
  },
  {
   "cell_type": "code",
   "execution_count": 3,
   "metadata": {},
   "outputs": [
    {
     "name": "stderr",
     "output_type": "stream",
     "text": [
      "/Users/robertair2019/Desktop/upm/baseball_utils.py:15: SettingWithCopyWarning: \n",
      "A value is trying to be set on a copy of a slice from a DataFrame.\n",
      "Try using .loc[row_indexer,col_indexer] = value instead\n",
      "\n",
      "See the caveats in the documentation: http://pandas.pydata.org/pandas-docs/stable/indexing.html#indexing-view-versus-copy\n",
      "  df['strike_given_called'] = df['strike_given_called'].apply(int)\n",
      "/Users/robertair2019/Desktop/upm/baseball_utils.py:19: SettingWithCopyWarning: \n",
      "A value is trying to be set on a copy of a slice from a DataFrame.\n",
      "Try using .loc[row_indexer,col_indexer] = value instead\n",
      "\n",
      "See the caveats in the documentation: http://pandas.pydata.org/pandas-docs/stable/indexing.html#indexing-view-versus-copy\n",
      "  df['upm'] = df.apply(lambda x: x.pitcher_race==x.umpire_race, axis=1).apply(int)\n"
     ]
    },
    {
     "name": "stdout",
     "output_type": "stream",
     "text": [
      "CPU times: user 37.1 s, sys: 408 ms, total: 37.5 s\n",
      "Wall time: 36.9 s\n"
     ]
    }
   ],
   "source": [
    "%time X, y = prepare_df(cp_df)"
   ]
  },
  {
   "cell_type": "code",
   "execution_count": 17,
   "metadata": {},
   "outputs": [
    {
     "name": "stdout",
     "output_type": "stream",
     "text": [
      "CPU times: user 44.6 s, sys: 3.29 s, total: 47.9 s\n",
      "Wall time: 39.9 s\n"
     ]
    }
   ],
   "source": [
    "%time rfe = RFE(LogisticRegression(solver=\"liblinear\"),1).fit(X, y)"
   ]
  },
  {
   "cell_type": "code",
   "execution_count": 19,
   "metadata": {},
   "outputs": [
    {
     "name": "stdout",
     "output_type": "stream",
     "text": [
      "[23 18 21  6  1 10  7  2 19  8  3  4  9  5 22 20 12 14 11 13 15 17 16]\n"
     ]
    }
   ],
   "source": [
    "# The ranking position of the ith feature\n",
    "print(rfe.ranking_)"
   ]
  },
  {
   "cell_type": "code",
   "execution_count": 32,
   "metadata": {},
   "outputs": [
    {
     "name": "stdout",
     "output_type": "stream",
     "text": [
      "Index(['upm', 'home_pitcher', 'run_diff', 'count_0-1', 'count_0-2',\n",
      "       'count_1-0', 'count_1-1', 'count_1-2', 'count_2-0', 'count_2-1',\n",
      "       'count_2-2', 'count_3-0', 'count_3-1', 'count_3-2', 'inning_2',\n",
      "       'inning_3', 'inning_4', 'inning_5', 'inning_6', 'inning_7', 'inning_8',\n",
      "       'inning_9+', 'intercept'],\n",
      "      dtype='object')\n"
     ]
    }
   ],
   "source": [
    "# The features themselves\n",
    "print(X.columns)"
   ]
  },
  {
   "cell_type": "markdown",
   "metadata": {},
   "source": [
    "## Here we have ranked the features in order of significance:\n",
    "* Notice that UPM appears lowest in the order of significance.\n",
    "* This does not necessarily indicate that there is no effect, but rather, that the effect is subtle. In order to illustrate the importance of the control variables, we eliminate the non-UPM features one by one from the model, in order of increasing significance, and compare the UPM coefficient and corresponding p-value to the number of model features."
   ]
  },
  {
   "cell_type": "code",
   "execution_count": 53,
   "metadata": {},
   "outputs": [],
   "source": [
    "ranked_features = [X.columns.tolist()[np.where(rfe.ranking_ == i)[0][0]] for i in range(1,len(X.columns)+1)]"
   ]
  },
  {
   "cell_type": "code",
   "execution_count": 54,
   "metadata": {},
   "outputs": [],
   "source": [
    "ranked_features.remove('intercept')"
   ]
  },
  {
   "cell_type": "code",
   "execution_count": 55,
   "metadata": {
    "scrolled": true
   },
   "outputs": [
    {
     "name": "stdout",
     "output_type": "stream",
     "text": [
      "1. count_0-2\n",
      "2. count_1-2\n",
      "3. count_2-2\n",
      "4. count_3-0\n",
      "5. count_3-2\n",
      "6. count_0-1\n",
      "7. count_1-1\n",
      "8. count_2-1\n",
      "9. count_3-1\n",
      "10. count_1-0\n",
      "11. inning_6\n",
      "12. inning_4\n",
      "13. inning_7\n",
      "14. inning_5\n",
      "15. inning_8\n",
      "16. inning_9+\n",
      "17. home_pitcher\n",
      "18. count_2-0\n",
      "19. inning_3\n",
      "20. run_diff\n",
      "21. inning_2\n",
      "22. upm\n"
     ]
    }
   ],
   "source": [
    "for i, f in enumerate(ranked_features):\n",
    "    print(f\"{i+1}. {f}\")"
   ]
  },
  {
   "cell_type": "markdown",
   "metadata": {},
   "source": [
    "## We eliminate the features one-by-one and calculate UPM coefficients and p-values for the corresponding models"
   ]
  },
  {
   "cell_type": "code",
   "execution_count": 58,
   "metadata": {},
   "outputs": [],
   "source": [
    "# Get the ranked features\n",
    "rf = ranked_features[:-1]\n",
    "\n",
    "# Initialize the p-values\n",
    "p = []\n",
    "\n",
    "# Initialize the coefficients\n",
    "beta = []\n",
    "\n",
    "# Initialize the list of number-of-features\n",
    "nfeatures = []"
   ]
  },
  {
   "cell_type": "code",
   "execution_count": 59,
   "metadata": {},
   "outputs": [
    {
     "name": "stdout",
     "output_type": "stream",
     "text": [
      "Fitting 22 variables...\n",
      "Optimization terminated successfully.\n",
      "         Current function value: 0.580795\n",
      "         Iterations 6\n",
      "Beta = 0.0051387482643888574; p = 0.23900622040607855\n",
      "Fitting 21 variables...\n",
      "Optimization terminated successfully.\n",
      "         Current function value: 0.580797\n",
      "         Iterations 6\n",
      "Beta = 0.005152675106252487; p = 0.2377343267982288\n",
      "Fitting 20 variables...\n",
      "Optimization terminated successfully.\n",
      "         Current function value: 0.580995\n",
      "         Iterations 6\n",
      "Beta = 0.005331898719088635; p = 0.2217071971083846\n",
      "Fitting 19 variables...\n",
      "Optimization terminated successfully.\n",
      "         Current function value: 0.581000\n",
      "         Iterations 6\n",
      "Beta = 0.0053208986178373986; p = 0.22265898791676864\n",
      "Fitting 18 variables...\n",
      "Optimization terminated successfully.\n",
      "         Current function value: 0.581006\n",
      "         Iterations 6\n",
      "Beta = 0.005289272828990819; p = 0.2254160157908779\n",
      "Fitting 17 variables...\n",
      "Optimization terminated successfully.\n",
      "         Current function value: 0.581044\n",
      "         Iterations 6\n",
      "Beta = 0.005298972805549763; p = 0.22454761130069922\n",
      "Fitting 16 variables...\n",
      "Optimization terminated successfully.\n",
      "         Current function value: 0.581056\n",
      "         Iterations 6\n",
      "Beta = 0.005505392090815585; p = 0.20698360240201108\n",
      "Fitting 15 variables...\n",
      "Optimization terminated successfully.\n",
      "         Current function value: 0.581103\n",
      "         Iterations 6\n",
      "Beta = 0.005158066962339109; p = 0.23705261121804322\n",
      "Fitting 14 variables...\n",
      "Optimization terminated successfully.\n",
      "         Current function value: 0.581137\n",
      "         Iterations 6\n",
      "Beta = 0.005091582723623313; p = 0.2431324159874857\n",
      "Fitting 13 variables...\n",
      "Optimization terminated successfully.\n",
      "         Current function value: 0.581178\n",
      "         Iterations 6\n",
      "Beta = 0.0046944228380368744; p = 0.2818180498188174\n",
      "Fitting 12 variables...\n",
      "Optimization terminated successfully.\n",
      "         Current function value: 0.581212\n",
      "         Iterations 6\n",
      "Beta = 0.004663816556705156; p = 0.2849500934868445\n",
      "Fitting 11 variables...\n",
      "Optimization terminated successfully.\n",
      "         Current function value: 0.581284\n",
      "         Iterations 6\n",
      "Beta = 0.004436956928535786; p = 0.30899125963824015\n",
      "Fitting 10 variables...\n",
      "Optimization terminated successfully.\n",
      "         Current function value: 0.581587\n",
      "         Iterations 6\n",
      "Beta = 0.004633703041717222; p = 0.2878504007391891\n",
      "Fitting 9 variables...\n",
      "Optimization terminated successfully.\n",
      "         Current function value: 0.581726\n",
      "         Iterations 6\n",
      "Beta = 0.0045885401048239806; p = 0.2924924047538022\n",
      "Fitting 8 variables...\n",
      "Optimization terminated successfully.\n",
      "         Current function value: 0.583541\n",
      "         Iterations 6\n",
      "Beta = 0.00477422903055852; p = 0.2723687835236751\n",
      "Fitting 7 variables...\n",
      "Optimization terminated successfully.\n",
      "         Current function value: 0.589221\n",
      "         Iterations 6\n",
      "Beta = 0.003938069578800144; p = 0.3621641882243887\n",
      "Fitting 6 variables...\n",
      "Optimization terminated successfully.\n",
      "         Current function value: 0.598360\n",
      "         Iterations 6\n",
      "Beta = 0.0026332890950457404; p = 0.5383485770800843\n",
      "Fitting 5 variables...\n",
      "Optimization terminated successfully.\n",
      "         Current function value: 0.600242\n",
      "         Iterations 6\n",
      "Beta = 0.003135072518891824; p = 0.4629634385800454\n",
      "Fitting 4 variables...\n",
      "Optimization terminated successfully.\n",
      "         Current function value: 0.602868\n",
      "         Iterations 6\n",
      "Beta = 0.0030640823035650616; p = 0.47178870038200404\n",
      "Fitting 3 variables...\n",
      "Optimization terminated successfully.\n",
      "         Current function value: 0.609502\n",
      "         Iterations 6\n",
      "Beta = 0.002826516164181513; p = 0.5041269794316179\n",
      "Fitting 2 variables...\n",
      "Optimization terminated successfully.\n",
      "         Current function value: 0.622069\n",
      "         Iterations 6\n",
      "Beta = 0.0018370791300488635; p = 0.6606869122821312\n"
     ]
    }
   ],
   "source": [
    "while (rf):\n",
    "    nfeatures.append(len(rf)+1)\n",
    "    print(f\"Fitting {nfeatures[-1]} variables...\")\n",
    "    fit = sm.Logit(y,X[['upm', 'intercept'] + rf]).fit()\n",
    "    beta.append(fit.params[0])\n",
    "    p.append(fit.pvalues[0])\n",
    "    print(f\"Beta = {beta[-1]}; p = {p[-1]}\")\n",
    "    rf = rf[:-1]"
   ]
  },
  {
   "cell_type": "code",
   "execution_count": 77,
   "metadata": {},
   "outputs": [
    {
     "data": {
      "image/png": "[encoded data removed]",
      "text/plain": [
       "<Figure size 648x504 with 1 Axes>"
      ]
     },
     "metadata": {
      "needs_background": "light"
     },
     "output_type": "display_data"
    }
   ],
   "source": [
    "plt.figure(figsize=(9,7))\n",
    "plt.plot(nfeatures, beta)\n",
    "plt.xlabel(\"Number of features\")\n",
    "plt.ylabel(\"UPM Coefficient\")\n",
    "plt.xticks(nfeatures)\n",
    "plt.title(\"UPM Coefficient vs Number of Features\")\n",
    "plt.savefig(\"upm_vs_nfeatures_all.png\")\n",
    "plt.show()"
   ]
  },
  {
   "cell_type": "code",
   "execution_count": 78,
   "metadata": {},
   "outputs": [
    {
     "data": {
      "image/png": "[encoded data removed]",
      "text/plain": [
       "<Figure size 648x504 with 1 Axes>"
      ]
     },
     "metadata": {
      "needs_background": "light"
     },
     "output_type": "display_data"
    }
   ],
   "source": [
    "plt.figure(figsize=(9,7))\n",
    "plt.plot(nfeatures, p)\n",
    "plt.xlabel(\"Number of features\")\n",
    "plt.ylabel(\"UPM p-value\")\n",
    "plt.title(\"UPM p-value vs Number of Features\")\n",
    "plt.xticks(nfeatures)\n",
    "plt.savefig(\"pval_vs_nfeatures_all.png\")"
   ]
  },
  {
   "cell_type": "code",
   "execution_count": null,
   "metadata": {},
   "outputs": [],
   "source": []
  }
 ],
 "metadata": {
  "kernelspec": {
   "display_name": "Python 3",
   "language": "python",
   "name": "python3"
  },
  "language_info": {
   "codemirror_mode": {
    "name": "ipython",
    "version": 3
   },
   "file_extension": ".py",
   "mimetype": "text/x-python",
   "name": "python",
   "nbconvert_exporter": "python",
   "pygments_lexer": "ipython3",
   "version": "3.7.1"
  }
 },
 "nbformat": 4,
 "nbformat_minor": 2
}
