{
 "cells": [
  {
   "cell_type": "code",
   "execution_count": 1,
   "metadata": {},
   "outputs": [],
   "source": [
    "import pandas as pd\n",
    "import numpy as np\n",
    "from sklearn import preprocessing\n",
    "import matplotlib.pyplot as plt \n",
    "plt.rc(\"font\", size=14)\n",
    "from sklearn.linear_model import LogisticRegression\n",
    "from sklearn.model_selection import train_test_split\n",
    "import seaborn as sns\n",
    "sns.set(style=\"white\")\n",
    "sns.set(style=\"whitegrid\", color_codes=True)\n",
    "\n",
    "from imblearn.over_sampling import SMOTE\n",
    "from sklearn.feature_selection import RFE\n",
    "\n",
    "import statsmodels.api as sm\n",
    "\n",
    "from sklearn.metrics import classification_report"
   ]
  },
  {
   "cell_type": "code",
   "execution_count": 2,
   "metadata": {
    "scrolled": false
   },
   "outputs": [
    {
     "name": "stdout",
     "output_type": "stream",
     "text": [
      "(1136496, 23)\n"
     ]
    },
    {
     "data": {
      "text/html": [
       "<div>\n",
       "<style scoped>\n",
       "    .dataframe tbody tr th:only-of-type {\n",
       "        vertical-align: middle;\n",
       "    }\n",
       "\n",
       "    .dataframe tbody tr th {\n",
       "        vertical-align: top;\n",
       "    }\n",
       "\n",
       "    .dataframe thead th {\n",
       "        text-align: right;\n",
       "    }\n",
       "</style>\n",
       "<table border=\"1\" class=\"dataframe\">\n",
       "  <thead>\n",
       "    <tr style=\"text-align: right;\">\n",
       "      <th></th>\n",
       "      <th>strike_given_called</th>\n",
       "      <th>upm</th>\n",
       "      <th>home_pitcher</th>\n",
       "      <th>run_diff</th>\n",
       "      <th>count_0-1</th>\n",
       "      <th>count_0-2</th>\n",
       "      <th>count_1-0</th>\n",
       "      <th>count_1-1</th>\n",
       "      <th>count_1-2</th>\n",
       "      <th>count_2-0</th>\n",
       "      <th>...</th>\n",
       "      <th>count_3-1</th>\n",
       "      <th>count_3-2</th>\n",
       "      <th>inning_2</th>\n",
       "      <th>inning_3</th>\n",
       "      <th>inning_4</th>\n",
       "      <th>inning_5</th>\n",
       "      <th>inning_6</th>\n",
       "      <th>inning_7</th>\n",
       "      <th>inning_8</th>\n",
       "      <th>inning_9</th>\n",
       "    </tr>\n",
       "  </thead>\n",
       "  <tbody>\n",
       "    <tr>\n",
       "      <th>0</th>\n",
       "      <td>1</td>\n",
       "      <td>1</td>\n",
       "      <td>1</td>\n",
       "      <td>0</td>\n",
       "      <td>0</td>\n",
       "      <td>0</td>\n",
       "      <td>0</td>\n",
       "      <td>0</td>\n",
       "      <td>0</td>\n",
       "      <td>0</td>\n",
       "      <td>...</td>\n",
       "      <td>0</td>\n",
       "      <td>0</td>\n",
       "      <td>0</td>\n",
       "      <td>0</td>\n",
       "      <td>0</td>\n",
       "      <td>0</td>\n",
       "      <td>0</td>\n",
       "      <td>0</td>\n",
       "      <td>0</td>\n",
       "      <td>0</td>\n",
       "    </tr>\n",
       "    <tr>\n",
       "      <th>1</th>\n",
       "      <td>0</td>\n",
       "      <td>1</td>\n",
       "      <td>1</td>\n",
       "      <td>0</td>\n",
       "      <td>0</td>\n",
       "      <td>0</td>\n",
       "      <td>0</td>\n",
       "      <td>0</td>\n",
       "      <td>0</td>\n",
       "      <td>0</td>\n",
       "      <td>...</td>\n",
       "      <td>0</td>\n",
       "      <td>0</td>\n",
       "      <td>0</td>\n",
       "      <td>0</td>\n",
       "      <td>0</td>\n",
       "      <td>0</td>\n",
       "      <td>0</td>\n",
       "      <td>0</td>\n",
       "      <td>0</td>\n",
       "      <td>0</td>\n",
       "    </tr>\n",
       "    <tr>\n",
       "      <th>2</th>\n",
       "      <td>1</td>\n",
       "      <td>1</td>\n",
       "      <td>1</td>\n",
       "      <td>0</td>\n",
       "      <td>0</td>\n",
       "      <td>0</td>\n",
       "      <td>0</td>\n",
       "      <td>1</td>\n",
       "      <td>0</td>\n",
       "      <td>0</td>\n",
       "      <td>...</td>\n",
       "      <td>0</td>\n",
       "      <td>0</td>\n",
       "      <td>0</td>\n",
       "      <td>0</td>\n",
       "      <td>0</td>\n",
       "      <td>0</td>\n",
       "      <td>0</td>\n",
       "      <td>0</td>\n",
       "      <td>0</td>\n",
       "      <td>0</td>\n",
       "    </tr>\n",
       "    <tr>\n",
       "      <th>3</th>\n",
       "      <td>0</td>\n",
       "      <td>1</td>\n",
       "      <td>1</td>\n",
       "      <td>0</td>\n",
       "      <td>0</td>\n",
       "      <td>0</td>\n",
       "      <td>0</td>\n",
       "      <td>0</td>\n",
       "      <td>1</td>\n",
       "      <td>0</td>\n",
       "      <td>...</td>\n",
       "      <td>0</td>\n",
       "      <td>0</td>\n",
       "      <td>0</td>\n",
       "      <td>0</td>\n",
       "      <td>0</td>\n",
       "      <td>0</td>\n",
       "      <td>0</td>\n",
       "      <td>0</td>\n",
       "      <td>0</td>\n",
       "      <td>0</td>\n",
       "    </tr>\n",
       "    <tr>\n",
       "      <th>4</th>\n",
       "      <td>0</td>\n",
       "      <td>1</td>\n",
       "      <td>1</td>\n",
       "      <td>0</td>\n",
       "      <td>0</td>\n",
       "      <td>0</td>\n",
       "      <td>0</td>\n",
       "      <td>0</td>\n",
       "      <td>0</td>\n",
       "      <td>0</td>\n",
       "      <td>...</td>\n",
       "      <td>0</td>\n",
       "      <td>0</td>\n",
       "      <td>0</td>\n",
       "      <td>0</td>\n",
       "      <td>0</td>\n",
       "      <td>0</td>\n",
       "      <td>0</td>\n",
       "      <td>0</td>\n",
       "      <td>0</td>\n",
       "      <td>0</td>\n",
       "    </tr>\n",
       "  </tbody>\n",
       "</table>\n",
       "<p>5 rows × 23 columns</p>\n",
       "</div>"
      ],
      "text/plain": [
       "   strike_given_called  upm  home_pitcher  run_diff  count_0-1  count_0-2  \\\n",
       "0                    1    1             1         0          0          0   \n",
       "1                    0    1             1         0          0          0   \n",
       "2                    1    1             1         0          0          0   \n",
       "3                    0    1             1         0          0          0   \n",
       "4                    0    1             1         0          0          0   \n",
       "\n",
       "   count_1-0  count_1-1  count_1-2  count_2-0    ...     count_3-1  count_3-2  \\\n",
       "0          0          0          0          0    ...             0          0   \n",
       "1          0          0          0          0    ...             0          0   \n",
       "2          0          1          0          0    ...             0          0   \n",
       "3          0          0          1          0    ...             0          0   \n",
       "4          0          0          0          0    ...             0          0   \n",
       "\n",
       "   inning_2  inning_3  inning_4  inning_5  inning_6  inning_7  inning_8  \\\n",
       "0         0         0         0         0         0         0         0   \n",
       "1         0         0         0         0         0         0         0   \n",
       "2         0         0         0         0         0         0         0   \n",
       "3         0         0         0         0         0         0         0   \n",
       "4         0         0         0         0         0         0         0   \n",
       "\n",
       "   inning_9  \n",
       "0         0  \n",
       "1         0  \n",
       "2         0  \n",
       "3         0  \n",
       "4         0  \n",
       "\n",
       "[5 rows x 23 columns]"
      ]
     },
     "execution_count": 2,
     "metadata": {},
     "output_type": "execute_result"
    }
   ],
   "source": [
    "xy_df = pd.read_csv('xy.csv')\n",
    "print(xy_df.shape)\n",
    "xy_df.head()"
   ]
  },
  {
   "cell_type": "code",
   "execution_count": 3,
   "metadata": {
    "scrolled": true
   },
   "outputs": [
    {
     "name": "stdout",
     "output_type": "stream",
     "text": [
      "(1136501, 7)\n",
      "(1136496, 7)\n"
     ]
    },
    {
     "data": {
      "text/html": [
       "<div>\n",
       "<style scoped>\n",
       "    .dataframe tbody tr th:only-of-type {\n",
       "        vertical-align: middle;\n",
       "    }\n",
       "\n",
       "    .dataframe tbody tr th {\n",
       "        vertical-align: top;\n",
       "    }\n",
       "\n",
       "    .dataframe thead th {\n",
       "        text-align: right;\n",
       "    }\n",
       "</style>\n",
       "<table border=\"1\" class=\"dataframe\">\n",
       "  <thead>\n",
       "    <tr style=\"text-align: right;\">\n",
       "      <th></th>\n",
       "      <th>count</th>\n",
       "      <th>home_pitcher</th>\n",
       "      <th>inning</th>\n",
       "      <th>run_diff</th>\n",
       "      <th>strike_given_called</th>\n",
       "      <th>pitcher_race</th>\n",
       "      <th>umpire_race</th>\n",
       "    </tr>\n",
       "  </thead>\n",
       "  <tbody>\n",
       "    <tr>\n",
       "      <th>0</th>\n",
       "      <td>0-0</td>\n",
       "      <td>1</td>\n",
       "      <td>1</td>\n",
       "      <td>0</td>\n",
       "      <td>True</td>\n",
       "      <td>white</td>\n",
       "      <td>white</td>\n",
       "    </tr>\n",
       "    <tr>\n",
       "      <th>1</th>\n",
       "      <td>0-0</td>\n",
       "      <td>1</td>\n",
       "      <td>1</td>\n",
       "      <td>0</td>\n",
       "      <td>False</td>\n",
       "      <td>white</td>\n",
       "      <td>white</td>\n",
       "    </tr>\n",
       "    <tr>\n",
       "      <th>2</th>\n",
       "      <td>1-1</td>\n",
       "      <td>1</td>\n",
       "      <td>1</td>\n",
       "      <td>0</td>\n",
       "      <td>True</td>\n",
       "      <td>white</td>\n",
       "      <td>white</td>\n",
       "    </tr>\n",
       "    <tr>\n",
       "      <th>3</th>\n",
       "      <td>1-2</td>\n",
       "      <td>1</td>\n",
       "      <td>1</td>\n",
       "      <td>0</td>\n",
       "      <td>False</td>\n",
       "      <td>white</td>\n",
       "      <td>white</td>\n",
       "    </tr>\n",
       "    <tr>\n",
       "      <th>4</th>\n",
       "      <td>0-0</td>\n",
       "      <td>1</td>\n",
       "      <td>1</td>\n",
       "      <td>0</td>\n",
       "      <td>False</td>\n",
       "      <td>white</td>\n",
       "      <td>white</td>\n",
       "    </tr>\n",
       "  </tbody>\n",
       "</table>\n",
       "</div>"
      ],
      "text/plain": [
       "  count  home_pitcher  inning  run_diff  strike_given_called pitcher_race  \\\n",
       "0   0-0             1       1         0                 True        white   \n",
       "1   0-0             1       1         0                False        white   \n",
       "2   1-1             1       1         0                 True        white   \n",
       "3   1-2             1       1         0                False        white   \n",
       "4   0-0             1       1         0                False        white   \n",
       "\n",
       "  umpire_race  \n",
       "0       white  \n",
       "1       white  \n",
       "2       white  \n",
       "3       white  \n",
       "4       white  "
      ]
     },
     "execution_count": 3,
     "metadata": {},
     "output_type": "execute_result"
    }
   ],
   "source": [
    "cp_merged_df = pd.read_csv('cp_merged.csv')\n",
    "print(cp_merged_df.shape)\n",
    "cp_merged_df = cp_merged_df[(cp_merged_df['count'] != '4-2') & (cp_merged_df['count'] != '4-1')]\n",
    "print(cp_merged_df.shape)\n",
    "cp_merged_df.head()"
   ]
  },
  {
   "cell_type": "markdown",
   "metadata": {},
   "source": [
    "# Data Exploration"
   ]
  },
  {
   "cell_type": "code",
   "execution_count": 4,
   "metadata": {
    "scrolled": true
   },
   "outputs": [
    {
     "data": {
      "text/plain": [
       "0    763303\n",
       "1    373193\n",
       "Name: strike_given_called, dtype: int64"
      ]
     },
     "execution_count": 4,
     "metadata": {},
     "output_type": "execute_result"
    }
   ],
   "source": [
    "xy_df['strike_given_called'].value_counts()"
   ]
  },
  {
   "cell_type": "code",
   "execution_count": 28,
   "metadata": {
    "scrolled": true
   },
   "outputs": [
    {
     "data": {
      "image/png": "[encoded data removed]",
      "text/plain": [
       "<Figure size 432x288 with 1 Axes>"
      ]
     },
     "metadata": {
      "needs_background": "light"
     },
     "output_type": "display_data"
    }
   ],
   "source": [
    "sns.countplot(x='strike_given_called', data=xy_df, palette='hls')\n",
    "plt.savefig('strike_count', bbox_inches='tight')\n",
    "plt.show()"
   ]
  },
  {
   "cell_type": "markdown",
   "metadata": {},
   "source": [
    "### Observations:\n",
    "- Ratio of strike and ball calls is imbalanced. Rebalancing is necessary."
   ]
  },
  {
   "cell_type": "code",
   "execution_count": 31,
   "metadata": {
    "scrolled": false
   },
   "outputs": [
    {
     "data": {
      "image/png": "[encoded data removed]",
      "text/plain": [
       "<Figure size 432x288 with 1 Axes>"
      ]
     },
     "metadata": {
      "needs_background": "light"
     },
     "output_type": "display_data"
    }
   ],
   "source": [
    "sns.countplot(x='upm', data=xy_df, palette='hls')\n",
    "plt.savefig('ump_count', bbox_inches='tight')\n",
    "plt.show()"
   ]
  },
  {
   "cell_type": "markdown",
   "metadata": {},
   "source": [
    "### Observations:\n",
    "- The umpire and pitcher are more likely to be the same race than not."
   ]
  },
  {
   "cell_type": "code",
   "execution_count": 29,
   "metadata": {
    "scrolled": true
   },
   "outputs": [
    {
     "data": {
      "image/png": "[encoded data removed]",
      "text/plain": [
       "<Figure size 432x288 with 1 Axes>"
      ]
     },
     "metadata": {
      "needs_background": "light"
     },
     "output_type": "display_data"
    }
   ],
   "source": [
    "sns.countplot(x='pitcher_race', data=cp_merged_df, palette='hls')\n",
    "plt.savefig('pitcher_race_count', bbox_inches='tight')\n",
    "plt.show()"
   ]
  },
  {
   "cell_type": "code",
   "execution_count": 30,
   "metadata": {},
   "outputs": [
    {
     "data": {
      "image/png": "[encoded data removed]",
      "text/plain": [
       "<Figure size 432x288 with 1 Axes>"
      ]
     },
     "metadata": {
      "needs_background": "light"
     },
     "output_type": "display_data"
    }
   ],
   "source": [
    "sns.countplot(x='umpire_race', data=cp_merged_df, palette='hls')\n",
    "plt.savefig('umpire_race_count', bbox_inches='tight')\n",
    "plt.show()"
   ]
  },
  {
   "cell_type": "code",
   "execution_count": 9,
   "metadata": {
    "scrolled": false
   },
   "outputs": [
    {
     "data": {
      "image/png": "[encoded data removed]",
      "text/plain": [
       "<Figure size 432x288 with 1 Axes>"
      ]
     },
     "metadata": {
      "needs_background": "light"
     },
     "output_type": "display_data"
    }
   ],
   "source": [
    "sns.countplot(x='home_pitcher', data=xy_df, palette='hls')\n",
    "plt.savefig('home_count', bbox_inches='tight')\n",
    "plt.show()"
   ]
  },
  {
   "cell_type": "code",
   "execution_count": 10,
   "metadata": {
    "scrolled": false
   },
   "outputs": [
    {
     "data": {
      "image/png": "[encoded data removed]",
      "text/plain": [
       "<Figure size 432x288 with 1 Axes>"
      ]
     },
     "metadata": {
      "needs_background": "light"
     },
     "output_type": "display_data"
    }
   ],
   "source": [
    "xy_df.run_diff.hist()\n",
    "plt.title('Histogram of Run Diff')\n",
    "plt.xlabel('Run Diff')\n",
    "plt.ylabel('Frequency')\n",
    "plt.savefig('rundiff_hist', bbox_inches='tight')"
   ]
  },
  {
   "cell_type": "code",
   "execution_count": 11,
   "metadata": {
    "scrolled": false
   },
   "outputs": [
    {
     "data": {
      "text/html": [
       "<div>\n",
       "<style scoped>\n",
       "    .dataframe tbody tr th:only-of-type {\n",
       "        vertical-align: middle;\n",
       "    }\n",
       "\n",
       "    .dataframe tbody tr th {\n",
       "        vertical-align: top;\n",
       "    }\n",
       "\n",
       "    .dataframe thead th {\n",
       "        text-align: right;\n",
       "    }\n",
       "</style>\n",
       "<table border=\"1\" class=\"dataframe\">\n",
       "  <thead>\n",
       "    <tr style=\"text-align: right;\">\n",
       "      <th></th>\n",
       "      <th>upm</th>\n",
       "      <th>home_pitcher</th>\n",
       "      <th>run_diff</th>\n",
       "      <th>count_0-1</th>\n",
       "      <th>count_0-2</th>\n",
       "      <th>count_1-0</th>\n",
       "      <th>count_1-1</th>\n",
       "      <th>count_1-2</th>\n",
       "      <th>count_2-0</th>\n",
       "      <th>count_2-1</th>\n",
       "      <th>...</th>\n",
       "      <th>count_3-1</th>\n",
       "      <th>count_3-2</th>\n",
       "      <th>inning_2</th>\n",
       "      <th>inning_3</th>\n",
       "      <th>inning_4</th>\n",
       "      <th>inning_5</th>\n",
       "      <th>inning_6</th>\n",
       "      <th>inning_7</th>\n",
       "      <th>inning_8</th>\n",
       "      <th>inning_9</th>\n",
       "    </tr>\n",
       "    <tr>\n",
       "      <th>strike_given_called</th>\n",
       "      <th></th>\n",
       "      <th></th>\n",
       "      <th></th>\n",
       "      <th></th>\n",
       "      <th></th>\n",
       "      <th></th>\n",
       "      <th></th>\n",
       "      <th></th>\n",
       "      <th></th>\n",
       "      <th></th>\n",
       "      <th></th>\n",
       "      <th></th>\n",
       "      <th></th>\n",
       "      <th></th>\n",
       "      <th></th>\n",
       "      <th></th>\n",
       "      <th></th>\n",
       "      <th></th>\n",
       "      <th></th>\n",
       "      <th></th>\n",
       "      <th></th>\n",
       "    </tr>\n",
       "  </thead>\n",
       "  <tbody>\n",
       "    <tr>\n",
       "      <th>0</th>\n",
       "      <td>0.634439</td>\n",
       "      <td>0.504966</td>\n",
       "      <td>0.029290</td>\n",
       "      <td>0.148959</td>\n",
       "      <td>0.081443</td>\n",
       "      <td>0.096568</td>\n",
       "      <td>0.098484</td>\n",
       "      <td>0.098644</td>\n",
       "      <td>0.029300</td>\n",
       "      <td>0.041669</td>\n",
       "      <td>...</td>\n",
       "      <td>0.016040</td>\n",
       "      <td>0.027558</td>\n",
       "      <td>0.110779</td>\n",
       "      <td>0.110044</td>\n",
       "      <td>0.111865</td>\n",
       "      <td>0.109773</td>\n",
       "      <td>0.112033</td>\n",
       "      <td>0.111325</td>\n",
       "      <td>0.109895</td>\n",
       "      <td>0.105822</td>\n",
       "    </tr>\n",
       "    <tr>\n",
       "      <th>1</th>\n",
       "      <td>0.634771</td>\n",
       "      <td>0.511548</td>\n",
       "      <td>0.140201</td>\n",
       "      <td>0.083898</td>\n",
       "      <td>0.014625</td>\n",
       "      <td>0.140547</td>\n",
       "      <td>0.067236</td>\n",
       "      <td>0.022677</td>\n",
       "      <td>0.052179</td>\n",
       "      <td>0.035360</td>\n",
       "      <td>...</td>\n",
       "      <td>0.020523</td>\n",
       "      <td>0.013098</td>\n",
       "      <td>0.117770</td>\n",
       "      <td>0.115487</td>\n",
       "      <td>0.107609</td>\n",
       "      <td>0.107958</td>\n",
       "      <td>0.104897</td>\n",
       "      <td>0.106979</td>\n",
       "      <td>0.106626</td>\n",
       "      <td>0.106749</td>\n",
       "    </tr>\n",
       "  </tbody>\n",
       "</table>\n",
       "<p>2 rows × 22 columns</p>\n",
       "</div>"
      ],
      "text/plain": [
       "                          upm  home_pitcher  run_diff  count_0-1  count_0-2  \\\n",
       "strike_given_called                                                           \n",
       "0                    0.634439      0.504966  0.029290   0.148959   0.081443   \n",
       "1                    0.634771      0.511548  0.140201   0.083898   0.014625   \n",
       "\n",
       "                     count_1-0  count_1-1  count_1-2  count_2-0  count_2-1  \\\n",
       "strike_given_called                                                          \n",
       "0                     0.096568   0.098484   0.098644   0.029300   0.041669   \n",
       "1                     0.140547   0.067236   0.022677   0.052179   0.035360   \n",
       "\n",
       "                       ...     count_3-1  count_3-2  inning_2  inning_3  \\\n",
       "strike_given_called    ...                                                \n",
       "0                      ...      0.016040   0.027558  0.110779  0.110044   \n",
       "1                      ...      0.020523   0.013098  0.117770  0.115487   \n",
       "\n",
       "                     inning_4  inning_5  inning_6  inning_7  inning_8  \\\n",
       "strike_given_called                                                     \n",
       "0                    0.111865  0.109773  0.112033  0.111325  0.109895   \n",
       "1                    0.107609  0.107958  0.104897  0.106979  0.106626   \n",
       "\n",
       "                     inning_9  \n",
       "strike_given_called            \n",
       "0                    0.105822  \n",
       "1                    0.106749  \n",
       "\n",
       "[2 rows x 22 columns]"
      ]
     },
     "execution_count": 11,
     "metadata": {},
     "output_type": "execute_result"
    }
   ],
   "source": [
    "xy_df.groupby('strike_given_called').mean()"
   ]
  },
  {
   "cell_type": "markdown",
   "metadata": {},
   "source": [
    "### Observations:\n",
    "- The percentage of pitches thrown by the home team that are called strikes is higher than that of pitches thrown by the away team. Pitchers playing at home receive more strike calls.\n",
    "- The average run differential of pitches called strike is higher than that of pitches called ball. Pitches called strike are more likely to be thrown by the team in the lead."
   ]
  },
  {
   "cell_type": "code",
   "execution_count": 12,
   "metadata": {},
   "outputs": [
    {
     "data": {
      "text/plain": [
       "strike_given_called    0.328372\n",
       "upm                    0.634548\n",
       "home_pitcher           0.507127\n",
       "run_diff               0.065710\n",
       "count_0-1              0.127595\n",
       "count_0-2              0.059502\n",
       "count_1-0              0.111010\n",
       "count_1-1              0.088223\n",
       "count_1-2              0.073698\n",
       "count_2-0              0.036813\n",
       "count_2-1              0.039597\n",
       "count_2-2              0.050884\n",
       "count_3-0              0.017720\n",
       "count_3-1              0.017512\n",
       "count_3-2              0.022810\n",
       "inning_2               0.113075\n",
       "inning_3               0.111831\n",
       "inning_4               0.110468\n",
       "inning_5               0.109177\n",
       "inning_6               0.109690\n",
       "inning_7               0.109898\n",
       "inning_8               0.108821\n",
       "inning_9               0.106126\n",
       "dtype: float64"
      ]
     },
     "execution_count": 12,
     "metadata": {},
     "output_type": "execute_result"
    }
   ],
   "source": [
    "xy_df.mean()"
   ]
  },
  {
   "cell_type": "code",
   "execution_count": 13,
   "metadata": {
    "scrolled": true
   },
   "outputs": [
    {
     "data": {
      "text/html": [
       "<div>\n",
       "<style scoped>\n",
       "    .dataframe tbody tr th:only-of-type {\n",
       "        vertical-align: middle;\n",
       "    }\n",
       "\n",
       "    .dataframe tbody tr th {\n",
       "        vertical-align: top;\n",
       "    }\n",
       "\n",
       "    .dataframe thead th {\n",
       "        text-align: right;\n",
       "    }\n",
       "</style>\n",
       "<table border=\"1\" class=\"dataframe\">\n",
       "  <thead>\n",
       "    <tr style=\"text-align: right;\">\n",
       "      <th></th>\n",
       "      <th>strike_given_called</th>\n",
       "      <th>home_pitcher</th>\n",
       "      <th>run_diff</th>\n",
       "      <th>count_0-1</th>\n",
       "      <th>count_0-2</th>\n",
       "      <th>count_1-0</th>\n",
       "      <th>count_1-1</th>\n",
       "      <th>count_1-2</th>\n",
       "      <th>count_2-0</th>\n",
       "      <th>count_2-1</th>\n",
       "      <th>...</th>\n",
       "      <th>count_3-1</th>\n",
       "      <th>count_3-2</th>\n",
       "      <th>inning_2</th>\n",
       "      <th>inning_3</th>\n",
       "      <th>inning_4</th>\n",
       "      <th>inning_5</th>\n",
       "      <th>inning_6</th>\n",
       "      <th>inning_7</th>\n",
       "      <th>inning_8</th>\n",
       "      <th>inning_9</th>\n",
       "    </tr>\n",
       "    <tr>\n",
       "      <th>upm</th>\n",
       "      <th></th>\n",
       "      <th></th>\n",
       "      <th></th>\n",
       "      <th></th>\n",
       "      <th></th>\n",
       "      <th></th>\n",
       "      <th></th>\n",
       "      <th></th>\n",
       "      <th></th>\n",
       "      <th></th>\n",
       "      <th></th>\n",
       "      <th></th>\n",
       "      <th></th>\n",
       "      <th></th>\n",
       "      <th></th>\n",
       "      <th></th>\n",
       "      <th></th>\n",
       "      <th></th>\n",
       "      <th></th>\n",
       "      <th></th>\n",
       "      <th></th>\n",
       "    </tr>\n",
       "  </thead>\n",
       "  <tbody>\n",
       "    <tr>\n",
       "      <th>0</th>\n",
       "      <td>0.328171</td>\n",
       "      <td>0.507855</td>\n",
       "      <td>0.063804</td>\n",
       "      <td>0.126816</td>\n",
       "      <td>0.059304</td>\n",
       "      <td>0.111898</td>\n",
       "      <td>0.087833</td>\n",
       "      <td>0.073230</td>\n",
       "      <td>0.037283</td>\n",
       "      <td>0.039874</td>\n",
       "      <td>...</td>\n",
       "      <td>0.017465</td>\n",
       "      <td>0.023186</td>\n",
       "      <td>0.113359</td>\n",
       "      <td>0.112288</td>\n",
       "      <td>0.110323</td>\n",
       "      <td>0.109560</td>\n",
       "      <td>0.107985</td>\n",
       "      <td>0.106500</td>\n",
       "      <td>0.106598</td>\n",
       "      <td>0.111163</td>\n",
       "    </tr>\n",
       "    <tr>\n",
       "      <th>1</th>\n",
       "      <td>0.328487</td>\n",
       "      <td>0.506708</td>\n",
       "      <td>0.066808</td>\n",
       "      <td>0.128044</td>\n",
       "      <td>0.059616</td>\n",
       "      <td>0.110498</td>\n",
       "      <td>0.088448</td>\n",
       "      <td>0.073968</td>\n",
       "      <td>0.036542</td>\n",
       "      <td>0.039438</td>\n",
       "      <td>...</td>\n",
       "      <td>0.017538</td>\n",
       "      <td>0.022593</td>\n",
       "      <td>0.112911</td>\n",
       "      <td>0.111569</td>\n",
       "      <td>0.110551</td>\n",
       "      <td>0.108956</td>\n",
       "      <td>0.110672</td>\n",
       "      <td>0.111856</td>\n",
       "      <td>0.110102</td>\n",
       "      <td>0.103225</td>\n",
       "    </tr>\n",
       "  </tbody>\n",
       "</table>\n",
       "<p>2 rows × 22 columns</p>\n",
       "</div>"
      ],
      "text/plain": [
       "     strike_given_called  home_pitcher  run_diff  count_0-1  count_0-2  \\\n",
       "upm                                                                      \n",
       "0               0.328171      0.507855  0.063804   0.126816   0.059304   \n",
       "1               0.328487      0.506708  0.066808   0.128044   0.059616   \n",
       "\n",
       "     count_1-0  count_1-1  count_1-2  count_2-0  count_2-1    ...     \\\n",
       "upm                                                           ...      \n",
       "0     0.111898   0.087833   0.073230   0.037283   0.039874    ...      \n",
       "1     0.110498   0.088448   0.073968   0.036542   0.039438    ...      \n",
       "\n",
       "     count_3-1  count_3-2  inning_2  inning_3  inning_4  inning_5  inning_6  \\\n",
       "upm                                                                           \n",
       "0     0.017465   0.023186  0.113359  0.112288  0.110323  0.109560  0.107985   \n",
       "1     0.017538   0.022593  0.112911  0.111569  0.110551  0.108956  0.110672   \n",
       "\n",
       "     inning_7  inning_8  inning_9  \n",
       "upm                                \n",
       "0    0.106500  0.106598  0.111163  \n",
       "1    0.111856  0.110102  0.103225  \n",
       "\n",
       "[2 rows x 22 columns]"
      ]
     },
     "execution_count": 13,
     "metadata": {},
     "output_type": "execute_result"
    }
   ],
   "source": [
    "xy_df.groupby('upm').mean()"
   ]
  },
  {
   "cell_type": "markdown",
   "metadata": {},
   "source": [
    "### Observations:\n",
    "- The percentage of strike calls is slightly higher when the umpire and pitcher are the same race.\n",
    "- Home pitchers are slightly more likely to have an umpire of a different race.\n",
    "- The average run differential of pitches called by an umpire of the same race is higher than that of pitches called by an umpire of a different race. On average, the team whose current pitcher is the same race as the umpire is more likely to be in the lead."
   ]
  },
  {
   "cell_type": "code",
   "execution_count": 14,
   "metadata": {
    "scrolled": false
   },
   "outputs": [
    {
     "data": {
      "text/html": [
       "<div>\n",
       "<style scoped>\n",
       "    .dataframe tbody tr th:only-of-type {\n",
       "        vertical-align: middle;\n",
       "    }\n",
       "\n",
       "    .dataframe tbody tr th {\n",
       "        vertical-align: top;\n",
       "    }\n",
       "\n",
       "    .dataframe thead th {\n",
       "        text-align: right;\n",
       "    }\n",
       "</style>\n",
       "<table border=\"1\" class=\"dataframe\">\n",
       "  <thead>\n",
       "    <tr style=\"text-align: right;\">\n",
       "      <th></th>\n",
       "      <th>strike_given_called</th>\n",
       "      <th>upm</th>\n",
       "      <th>run_diff</th>\n",
       "      <th>count_0-1</th>\n",
       "      <th>count_0-2</th>\n",
       "      <th>count_1-0</th>\n",
       "      <th>count_1-1</th>\n",
       "      <th>count_1-2</th>\n",
       "      <th>count_2-0</th>\n",
       "      <th>count_2-1</th>\n",
       "      <th>...</th>\n",
       "      <th>count_3-1</th>\n",
       "      <th>count_3-2</th>\n",
       "      <th>inning_2</th>\n",
       "      <th>inning_3</th>\n",
       "      <th>inning_4</th>\n",
       "      <th>inning_5</th>\n",
       "      <th>inning_6</th>\n",
       "      <th>inning_7</th>\n",
       "      <th>inning_8</th>\n",
       "      <th>inning_9</th>\n",
       "    </tr>\n",
       "    <tr>\n",
       "      <th>home_pitcher</th>\n",
       "      <th></th>\n",
       "      <th></th>\n",
       "      <th></th>\n",
       "      <th></th>\n",
       "      <th></th>\n",
       "      <th></th>\n",
       "      <th></th>\n",
       "      <th></th>\n",
       "      <th></th>\n",
       "      <th></th>\n",
       "      <th></th>\n",
       "      <th></th>\n",
       "      <th></th>\n",
       "      <th></th>\n",
       "      <th></th>\n",
       "      <th></th>\n",
       "      <th></th>\n",
       "      <th></th>\n",
       "      <th></th>\n",
       "      <th></th>\n",
       "      <th></th>\n",
       "    </tr>\n",
       "  </thead>\n",
       "  <tbody>\n",
       "    <tr>\n",
       "      <th>0</th>\n",
       "      <td>0.325426</td>\n",
       "      <td>0.635088</td>\n",
       "      <td>0.209509</td>\n",
       "      <td>0.126349</td>\n",
       "      <td>0.058045</td>\n",
       "      <td>0.112435</td>\n",
       "      <td>0.088295</td>\n",
       "      <td>0.072759</td>\n",
       "      <td>0.037967</td>\n",
       "      <td>0.039938</td>\n",
       "      <td>...</td>\n",
       "      <td>0.018049</td>\n",
       "      <td>0.022948</td>\n",
       "      <td>0.115586</td>\n",
       "      <td>0.114116</td>\n",
       "      <td>0.113690</td>\n",
       "      <td>0.111176</td>\n",
       "      <td>0.112954</td>\n",
       "      <td>0.112533</td>\n",
       "      <td>0.111112</td>\n",
       "      <td>0.082389</td>\n",
       "    </tr>\n",
       "    <tr>\n",
       "      <th>1</th>\n",
       "      <td>0.331234</td>\n",
       "      <td>0.634023</td>\n",
       "      <td>-0.074047</td>\n",
       "      <td>0.128806</td>\n",
       "      <td>0.060918</td>\n",
       "      <td>0.109625</td>\n",
       "      <td>0.088153</td>\n",
       "      <td>0.074611</td>\n",
       "      <td>0.035692</td>\n",
       "      <td>0.039266</td>\n",
       "      <td>...</td>\n",
       "      <td>0.016990</td>\n",
       "      <td>0.022676</td>\n",
       "      <td>0.110635</td>\n",
       "      <td>0.109611</td>\n",
       "      <td>0.107336</td>\n",
       "      <td>0.107234</td>\n",
       "      <td>0.106517</td>\n",
       "      <td>0.107338</td>\n",
       "      <td>0.106595</td>\n",
       "      <td>0.129196</td>\n",
       "    </tr>\n",
       "  </tbody>\n",
       "</table>\n",
       "<p>2 rows × 22 columns</p>\n",
       "</div>"
      ],
      "text/plain": [
       "              strike_given_called       upm  run_diff  count_0-1  count_0-2  \\\n",
       "home_pitcher                                                                  \n",
       "0                        0.325426  0.635088  0.209509   0.126349   0.058045   \n",
       "1                        0.331234  0.634023 -0.074047   0.128806   0.060918   \n",
       "\n",
       "              count_1-0  count_1-1  count_1-2  count_2-0  count_2-1    ...     \\\n",
       "home_pitcher                                                           ...      \n",
       "0              0.112435   0.088295   0.072759   0.037967   0.039938    ...      \n",
       "1              0.109625   0.088153   0.074611   0.035692   0.039266    ...      \n",
       "\n",
       "              count_3-1  count_3-2  inning_2  inning_3  inning_4  inning_5  \\\n",
       "home_pitcher                                                                 \n",
       "0              0.018049   0.022948  0.115586  0.114116  0.113690  0.111176   \n",
       "1              0.016990   0.022676  0.110635  0.109611  0.107336  0.107234   \n",
       "\n",
       "              inning_6  inning_7  inning_8  inning_9  \n",
       "home_pitcher                                          \n",
       "0             0.112954  0.112533  0.111112  0.082389  \n",
       "1             0.106517  0.107338  0.106595  0.129196  \n",
       "\n",
       "[2 rows x 22 columns]"
      ]
     },
     "execution_count": 14,
     "metadata": {},
     "output_type": "execute_result"
    }
   ],
   "source": [
    "xy_df.groupby('home_pitcher').mean()"
   ]
  },
  {
   "cell_type": "markdown",
   "metadata": {},
   "source": [
    "### Observations:\n",
    "- Home pitchers are more likely to receive strike calls.\n",
    "- Home pitchers are more likely to be on the team behind. This is affected by the fact that the home team always pitches in the top of the inning; the away team has had more at-bats than the home team."
   ]
  },
  {
   "cell_type": "code",
   "execution_count": 15,
   "metadata": {
    "scrolled": false
   },
   "outputs": [
    {
     "data": {
      "text/html": [
       "<div>\n",
       "<style scoped>\n",
       "    .dataframe tbody tr th:only-of-type {\n",
       "        vertical-align: middle;\n",
       "    }\n",
       "\n",
       "    .dataframe tbody tr th {\n",
       "        vertical-align: top;\n",
       "    }\n",
       "\n",
       "    .dataframe thead th {\n",
       "        text-align: right;\n",
       "    }\n",
       "</style>\n",
       "<table border=\"1\" class=\"dataframe\">\n",
       "  <thead>\n",
       "    <tr style=\"text-align: right;\">\n",
       "      <th></th>\n",
       "      <th>strike_given_called</th>\n",
       "      <th>upm</th>\n",
       "      <th>home_pitcher</th>\n",
       "      <th>run_diff</th>\n",
       "      <th>count_0-1</th>\n",
       "      <th>count_0-2</th>\n",
       "      <th>count_1-0</th>\n",
       "      <th>count_1-1</th>\n",
       "      <th>count_1-2</th>\n",
       "      <th>count_2-0</th>\n",
       "      <th>...</th>\n",
       "      <th>count_3-0</th>\n",
       "      <th>count_3-1</th>\n",
       "      <th>inning_2</th>\n",
       "      <th>inning_3</th>\n",
       "      <th>inning_4</th>\n",
       "      <th>inning_5</th>\n",
       "      <th>inning_6</th>\n",
       "      <th>inning_7</th>\n",
       "      <th>inning_8</th>\n",
       "      <th>inning_9</th>\n",
       "    </tr>\n",
       "    <tr>\n",
       "      <th>count_3-2</th>\n",
       "      <th></th>\n",
       "      <th></th>\n",
       "      <th></th>\n",
       "      <th></th>\n",
       "      <th></th>\n",
       "      <th></th>\n",
       "      <th></th>\n",
       "      <th></th>\n",
       "      <th></th>\n",
       "      <th></th>\n",
       "      <th></th>\n",
       "      <th></th>\n",
       "      <th></th>\n",
       "      <th></th>\n",
       "      <th></th>\n",
       "      <th></th>\n",
       "      <th></th>\n",
       "      <th></th>\n",
       "      <th></th>\n",
       "      <th></th>\n",
       "      <th></th>\n",
       "    </tr>\n",
       "  </thead>\n",
       "  <tbody>\n",
       "    <tr>\n",
       "      <th>0</th>\n",
       "      <td>0.331635</td>\n",
       "      <td>0.634689</td>\n",
       "      <td>0.507197</td>\n",
       "      <td>0.067044</td>\n",
       "      <td>0.130573</td>\n",
       "      <td>0.060891</td>\n",
       "      <td>0.113601</td>\n",
       "      <td>0.090282</td>\n",
       "      <td>0.075419</td>\n",
       "      <td>0.037672</td>\n",
       "      <td>...</td>\n",
       "      <td>0.018134</td>\n",
       "      <td>0.01792</td>\n",
       "      <td>0.113170</td>\n",
       "      <td>0.111979</td>\n",
       "      <td>0.110455</td>\n",
       "      <td>0.109242</td>\n",
       "      <td>0.109717</td>\n",
       "      <td>0.109829</td>\n",
       "      <td>0.108689</td>\n",
       "      <td>0.106028</td>\n",
       "    </tr>\n",
       "    <tr>\n",
       "      <th>1</th>\n",
       "      <td>0.188558</td>\n",
       "      <td>0.628515</td>\n",
       "      <td>0.504147</td>\n",
       "      <td>0.008564</td>\n",
       "      <td>0.000000</td>\n",
       "      <td>0.000000</td>\n",
       "      <td>0.000000</td>\n",
       "      <td>0.000000</td>\n",
       "      <td>0.000000</td>\n",
       "      <td>0.000000</td>\n",
       "      <td>...</td>\n",
       "      <td>0.000000</td>\n",
       "      <td>0.00000</td>\n",
       "      <td>0.109015</td>\n",
       "      <td>0.105505</td>\n",
       "      <td>0.111021</td>\n",
       "      <td>0.106392</td>\n",
       "      <td>0.108514</td>\n",
       "      <td>0.112873</td>\n",
       "      <td>0.114493</td>\n",
       "      <td>0.110327</td>\n",
       "    </tr>\n",
       "  </tbody>\n",
       "</table>\n",
       "<p>2 rows × 22 columns</p>\n",
       "</div>"
      ],
      "text/plain": [
       "           strike_given_called       upm  home_pitcher  run_diff  count_0-1  \\\n",
       "count_3-2                                                                     \n",
       "0                     0.331635  0.634689      0.507197  0.067044   0.130573   \n",
       "1                     0.188558  0.628515      0.504147  0.008564   0.000000   \n",
       "\n",
       "           count_0-2  count_1-0  count_1-1  count_1-2  count_2-0    ...     \\\n",
       "count_3-2                                                           ...      \n",
       "0           0.060891   0.113601   0.090282   0.075419   0.037672    ...      \n",
       "1           0.000000   0.000000   0.000000   0.000000   0.000000    ...      \n",
       "\n",
       "           count_3-0  count_3-1  inning_2  inning_3  inning_4  inning_5  \\\n",
       "count_3-2                                                                 \n",
       "0           0.018134    0.01792  0.113170  0.111979  0.110455  0.109242   \n",
       "1           0.000000    0.00000  0.109015  0.105505  0.111021  0.106392   \n",
       "\n",
       "           inning_6  inning_7  inning_8  inning_9  \n",
       "count_3-2                                          \n",
       "0          0.109717  0.109829  0.108689  0.106028  \n",
       "1          0.108514  0.112873  0.114493  0.110327  \n",
       "\n",
       "[2 rows x 22 columns]"
      ]
     },
     "execution_count": 15,
     "metadata": {},
     "output_type": "execute_result"
    }
   ],
   "source": [
    "xy_df.groupby('count_3-2').mean()"
   ]
  },
  {
   "cell_type": "code",
   "execution_count": 16,
   "metadata": {},
   "outputs": [
    {
     "data": {
      "text/html": [
       "<div>\n",
       "<style scoped>\n",
       "    .dataframe tbody tr th:only-of-type {\n",
       "        vertical-align: middle;\n",
       "    }\n",
       "\n",
       "    .dataframe tbody tr th {\n",
       "        vertical-align: top;\n",
       "    }\n",
       "\n",
       "    .dataframe thead th {\n",
       "        text-align: right;\n",
       "    }\n",
       "</style>\n",
       "<table border=\"1\" class=\"dataframe\">\n",
       "  <thead>\n",
       "    <tr style=\"text-align: right;\">\n",
       "      <th></th>\n",
       "      <th>strike_given_called</th>\n",
       "      <th>upm</th>\n",
       "      <th>home_pitcher</th>\n",
       "      <th>run_diff</th>\n",
       "      <th>count_0-1</th>\n",
       "      <th>count_0-2</th>\n",
       "      <th>count_1-0</th>\n",
       "      <th>count_1-1</th>\n",
       "      <th>count_1-2</th>\n",
       "      <th>count_2-0</th>\n",
       "      <th>...</th>\n",
       "      <th>count_3-0</th>\n",
       "      <th>count_3-2</th>\n",
       "      <th>inning_2</th>\n",
       "      <th>inning_3</th>\n",
       "      <th>inning_4</th>\n",
       "      <th>inning_5</th>\n",
       "      <th>inning_6</th>\n",
       "      <th>inning_7</th>\n",
       "      <th>inning_8</th>\n",
       "      <th>inning_9</th>\n",
       "    </tr>\n",
       "    <tr>\n",
       "      <th>count_3-1</th>\n",
       "      <th></th>\n",
       "      <th></th>\n",
       "      <th></th>\n",
       "      <th></th>\n",
       "      <th></th>\n",
       "      <th></th>\n",
       "      <th></th>\n",
       "      <th></th>\n",
       "      <th></th>\n",
       "      <th></th>\n",
       "      <th></th>\n",
       "      <th></th>\n",
       "      <th></th>\n",
       "      <th></th>\n",
       "      <th></th>\n",
       "      <th></th>\n",
       "      <th></th>\n",
       "      <th></th>\n",
       "      <th></th>\n",
       "      <th></th>\n",
       "      <th></th>\n",
       "    </tr>\n",
       "  </thead>\n",
       "  <tbody>\n",
       "    <tr>\n",
       "      <th>0</th>\n",
       "      <td>0.327365</td>\n",
       "      <td>0.634531</td>\n",
       "      <td>0.507397</td>\n",
       "      <td>0.067773</td>\n",
       "      <td>0.129869</td>\n",
       "      <td>0.060563</td>\n",
       "      <td>0.112988</td>\n",
       "      <td>0.089795</td>\n",
       "      <td>0.075012</td>\n",
       "      <td>0.037469</td>\n",
       "      <td>...</td>\n",
       "      <td>0.018036</td>\n",
       "      <td>0.023216</td>\n",
       "      <td>0.113251</td>\n",
       "      <td>0.111877</td>\n",
       "      <td>0.110542</td>\n",
       "      <td>0.109140</td>\n",
       "      <td>0.109674</td>\n",
       "      <td>0.109898</td>\n",
       "      <td>0.108815</td>\n",
       "      <td>0.106052</td>\n",
       "    </tr>\n",
       "    <tr>\n",
       "      <th>1</th>\n",
       "      <td>0.384836</td>\n",
       "      <td>0.635514</td>\n",
       "      <td>0.492011</td>\n",
       "      <td>-0.050045</td>\n",
       "      <td>0.000000</td>\n",
       "      <td>0.000000</td>\n",
       "      <td>0.000000</td>\n",
       "      <td>0.000000</td>\n",
       "      <td>0.000000</td>\n",
       "      <td>0.000000</td>\n",
       "      <td>...</td>\n",
       "      <td>0.000000</td>\n",
       "      <td>0.000000</td>\n",
       "      <td>0.103206</td>\n",
       "      <td>0.109285</td>\n",
       "      <td>0.106271</td>\n",
       "      <td>0.111245</td>\n",
       "      <td>0.110592</td>\n",
       "      <td>0.109888</td>\n",
       "      <td>0.109185</td>\n",
       "      <td>0.110290</td>\n",
       "    </tr>\n",
       "  </tbody>\n",
       "</table>\n",
       "<p>2 rows × 22 columns</p>\n",
       "</div>"
      ],
      "text/plain": [
       "           strike_given_called       upm  home_pitcher  run_diff  count_0-1  \\\n",
       "count_3-1                                                                     \n",
       "0                     0.327365  0.634531      0.507397  0.067773   0.129869   \n",
       "1                     0.384836  0.635514      0.492011 -0.050045   0.000000   \n",
       "\n",
       "           count_0-2  count_1-0  count_1-1  count_1-2  count_2-0    ...     \\\n",
       "count_3-1                                                           ...      \n",
       "0           0.060563   0.112988   0.089795   0.075012   0.037469    ...      \n",
       "1           0.000000   0.000000   0.000000   0.000000   0.000000    ...      \n",
       "\n",
       "           count_3-0  count_3-2  inning_2  inning_3  inning_4  inning_5  \\\n",
       "count_3-1                                                                 \n",
       "0           0.018036   0.023216  0.113251  0.111877  0.110542  0.109140   \n",
       "1           0.000000   0.000000  0.103206  0.109285  0.106271  0.111245   \n",
       "\n",
       "           inning_6  inning_7  inning_8  inning_9  \n",
       "count_3-1                                          \n",
       "0          0.109674  0.109898  0.108815  0.106052  \n",
       "1          0.110592  0.109888  0.109185  0.110290  \n",
       "\n",
       "[2 rows x 22 columns]"
      ]
     },
     "execution_count": 16,
     "metadata": {},
     "output_type": "execute_result"
    }
   ],
   "source": [
    "xy_df.groupby('count_3-1').mean()"
   ]
  },
  {
   "cell_type": "code",
   "execution_count": 17,
   "metadata": {
    "scrolled": false
   },
   "outputs": [
    {
     "data": {
      "text/html": [
       "<div>\n",
       "<style scoped>\n",
       "    .dataframe tbody tr th:only-of-type {\n",
       "        vertical-align: middle;\n",
       "    }\n",
       "\n",
       "    .dataframe tbody tr th {\n",
       "        vertical-align: top;\n",
       "    }\n",
       "\n",
       "    .dataframe thead th {\n",
       "        text-align: right;\n",
       "    }\n",
       "</style>\n",
       "<table border=\"1\" class=\"dataframe\">\n",
       "  <thead>\n",
       "    <tr style=\"text-align: right;\">\n",
       "      <th></th>\n",
       "      <th>strike_given_called</th>\n",
       "      <th>upm</th>\n",
       "      <th>home_pitcher</th>\n",
       "      <th>run_diff</th>\n",
       "      <th>count_0-1</th>\n",
       "      <th>count_0-2</th>\n",
       "      <th>count_1-0</th>\n",
       "      <th>count_1-1</th>\n",
       "      <th>count_1-2</th>\n",
       "      <th>count_2-0</th>\n",
       "      <th>...</th>\n",
       "      <th>count_3-0</th>\n",
       "      <th>count_3-1</th>\n",
       "      <th>count_3-2</th>\n",
       "      <th>inning_2</th>\n",
       "      <th>inning_3</th>\n",
       "      <th>inning_4</th>\n",
       "      <th>inning_5</th>\n",
       "      <th>inning_6</th>\n",
       "      <th>inning_7</th>\n",
       "      <th>inning_8</th>\n",
       "    </tr>\n",
       "    <tr>\n",
       "      <th>inning_9</th>\n",
       "      <th></th>\n",
       "      <th></th>\n",
       "      <th></th>\n",
       "      <th></th>\n",
       "      <th></th>\n",
       "      <th></th>\n",
       "      <th></th>\n",
       "      <th></th>\n",
       "      <th></th>\n",
       "      <th></th>\n",
       "      <th></th>\n",
       "      <th></th>\n",
       "      <th></th>\n",
       "      <th></th>\n",
       "      <th></th>\n",
       "      <th></th>\n",
       "      <th></th>\n",
       "      <th></th>\n",
       "      <th></th>\n",
       "      <th></th>\n",
       "      <th></th>\n",
       "    </tr>\n",
       "  </thead>\n",
       "  <tbody>\n",
       "    <tr>\n",
       "      <th>0</th>\n",
       "      <td>0.328143</td>\n",
       "      <td>0.636607</td>\n",
       "      <td>0.494039</td>\n",
       "      <td>-0.033848</td>\n",
       "      <td>0.127737</td>\n",
       "      <td>0.059067</td>\n",
       "      <td>0.111175</td>\n",
       "      <td>0.088406</td>\n",
       "      <td>0.073350</td>\n",
       "      <td>0.036774</td>\n",
       "      <td>...</td>\n",
       "      <td>0.017738</td>\n",
       "      <td>0.017430</td>\n",
       "      <td>0.022702</td>\n",
       "      <td>0.1265</td>\n",
       "      <td>0.125109</td>\n",
       "      <td>0.123583</td>\n",
       "      <td>0.122139</td>\n",
       "      <td>0.122713</td>\n",
       "      <td>0.122946</td>\n",
       "      <td>0.121741</td>\n",
       "    </tr>\n",
       "    <tr>\n",
       "      <th>1</th>\n",
       "      <td>0.330299</td>\n",
       "      <td>0.617202</td>\n",
       "      <td>0.617368</td>\n",
       "      <td>0.904263</td>\n",
       "      <td>0.126397</td>\n",
       "      <td>0.063170</td>\n",
       "      <td>0.109616</td>\n",
       "      <td>0.086683</td>\n",
       "      <td>0.076634</td>\n",
       "      <td>0.037144</td>\n",
       "      <td>...</td>\n",
       "      <td>0.017569</td>\n",
       "      <td>0.018199</td>\n",
       "      <td>0.023712</td>\n",
       "      <td>0.0000</td>\n",
       "      <td>0.000000</td>\n",
       "      <td>0.000000</td>\n",
       "      <td>0.000000</td>\n",
       "      <td>0.000000</td>\n",
       "      <td>0.000000</td>\n",
       "      <td>0.000000</td>\n",
       "    </tr>\n",
       "  </tbody>\n",
       "</table>\n",
       "<p>2 rows × 22 columns</p>\n",
       "</div>"
      ],
      "text/plain": [
       "          strike_given_called       upm  home_pitcher  run_diff  count_0-1  \\\n",
       "inning_9                                                                     \n",
       "0                    0.328143  0.636607      0.494039 -0.033848   0.127737   \n",
       "1                    0.330299  0.617202      0.617368  0.904263   0.126397   \n",
       "\n",
       "          count_0-2  count_1-0  count_1-1  count_1-2  count_2-0    ...     \\\n",
       "inning_9                                                           ...      \n",
       "0          0.059067   0.111175   0.088406   0.073350   0.036774    ...      \n",
       "1          0.063170   0.109616   0.086683   0.076634   0.037144    ...      \n",
       "\n",
       "          count_3-0  count_3-1  count_3-2  inning_2  inning_3  inning_4  \\\n",
       "inning_9                                                                  \n",
       "0          0.017738   0.017430   0.022702    0.1265  0.125109  0.123583   \n",
       "1          0.017569   0.018199   0.023712    0.0000  0.000000  0.000000   \n",
       "\n",
       "          inning_5  inning_6  inning_7  inning_8  \n",
       "inning_9                                          \n",
       "0         0.122139  0.122713  0.122946  0.121741  \n",
       "1         0.000000  0.000000  0.000000  0.000000  \n",
       "\n",
       "[2 rows x 22 columns]"
      ]
     },
     "execution_count": 17,
     "metadata": {},
     "output_type": "execute_result"
    }
   ],
   "source": [
    "xy_df.groupby('inning_9').mean()"
   ]
  },
  {
   "cell_type": "code",
   "execution_count": 18,
   "metadata": {},
   "outputs": [
    {
     "data": {
      "text/html": [
       "<div>\n",
       "<style scoped>\n",
       "    .dataframe tbody tr th:only-of-type {\n",
       "        vertical-align: middle;\n",
       "    }\n",
       "\n",
       "    .dataframe tbody tr th {\n",
       "        vertical-align: top;\n",
       "    }\n",
       "\n",
       "    .dataframe thead th {\n",
       "        text-align: right;\n",
       "    }\n",
       "</style>\n",
       "<table border=\"1\" class=\"dataframe\">\n",
       "  <thead>\n",
       "    <tr style=\"text-align: right;\">\n",
       "      <th></th>\n",
       "      <th>strike_given_called</th>\n",
       "      <th>upm</th>\n",
       "      <th>home_pitcher</th>\n",
       "      <th>run_diff</th>\n",
       "      <th>count_0-1</th>\n",
       "      <th>count_0-2</th>\n",
       "      <th>count_1-0</th>\n",
       "      <th>count_1-1</th>\n",
       "      <th>count_1-2</th>\n",
       "      <th>count_2-0</th>\n",
       "      <th>...</th>\n",
       "      <th>count_3-0</th>\n",
       "      <th>count_3-1</th>\n",
       "      <th>count_3-2</th>\n",
       "      <th>inning_3</th>\n",
       "      <th>inning_4</th>\n",
       "      <th>inning_5</th>\n",
       "      <th>inning_6</th>\n",
       "      <th>inning_7</th>\n",
       "      <th>inning_8</th>\n",
       "      <th>inning_9</th>\n",
       "    </tr>\n",
       "    <tr>\n",
       "      <th>inning_2</th>\n",
       "      <th></th>\n",
       "      <th></th>\n",
       "      <th></th>\n",
       "      <th></th>\n",
       "      <th></th>\n",
       "      <th></th>\n",
       "      <th></th>\n",
       "      <th></th>\n",
       "      <th></th>\n",
       "      <th></th>\n",
       "      <th></th>\n",
       "      <th></th>\n",
       "      <th></th>\n",
       "      <th></th>\n",
       "      <th></th>\n",
       "      <th></th>\n",
       "      <th></th>\n",
       "      <th></th>\n",
       "      <th></th>\n",
       "      <th></th>\n",
       "      <th></th>\n",
       "    </tr>\n",
       "  </thead>\n",
       "  <tbody>\n",
       "    <tr>\n",
       "      <th>0</th>\n",
       "      <td>0.326633</td>\n",
       "      <td>0.634665</td>\n",
       "      <td>0.508522</td>\n",
       "      <td>0.075236</td>\n",
       "      <td>0.127157</td>\n",
       "      <td>0.059423</td>\n",
       "      <td>0.111429</td>\n",
       "      <td>0.088201</td>\n",
       "      <td>0.073540</td>\n",
       "      <td>0.037203</td>\n",
       "      <td>...</td>\n",
       "      <td>0.017908</td>\n",
       "      <td>0.017707</td>\n",
       "      <td>0.022914</td>\n",
       "      <td>0.126089</td>\n",
       "      <td>0.124551</td>\n",
       "      <td>0.123096</td>\n",
       "      <td>0.123674</td>\n",
       "      <td>0.123909</td>\n",
       "      <td>0.122695</td>\n",
       "      <td>0.119656</td>\n",
       "    </tr>\n",
       "    <tr>\n",
       "      <th>1</th>\n",
       "      <td>0.342007</td>\n",
       "      <td>0.633629</td>\n",
       "      <td>0.496183</td>\n",
       "      <td>-0.009011</td>\n",
       "      <td>0.131026</td>\n",
       "      <td>0.060120</td>\n",
       "      <td>0.107720</td>\n",
       "      <td>0.088398</td>\n",
       "      <td>0.074944</td>\n",
       "      <td>0.033756</td>\n",
       "      <td>...</td>\n",
       "      <td>0.016248</td>\n",
       "      <td>0.015983</td>\n",
       "      <td>0.021991</td>\n",
       "      <td>0.000000</td>\n",
       "      <td>0.000000</td>\n",
       "      <td>0.000000</td>\n",
       "      <td>0.000000</td>\n",
       "      <td>0.000000</td>\n",
       "      <td>0.000000</td>\n",
       "      <td>0.000000</td>\n",
       "    </tr>\n",
       "  </tbody>\n",
       "</table>\n",
       "<p>2 rows × 22 columns</p>\n",
       "</div>"
      ],
      "text/plain": [
       "          strike_given_called       upm  home_pitcher  run_diff  count_0-1  \\\n",
       "inning_2                                                                     \n",
       "0                    0.326633  0.634665      0.508522  0.075236   0.127157   \n",
       "1                    0.342007  0.633629      0.496183 -0.009011   0.131026   \n",
       "\n",
       "          count_0-2  count_1-0  count_1-1  count_1-2  count_2-0    ...     \\\n",
       "inning_2                                                           ...      \n",
       "0          0.059423   0.111429   0.088201   0.073540   0.037203    ...      \n",
       "1          0.060120   0.107720   0.088398   0.074944   0.033756    ...      \n",
       "\n",
       "          count_3-0  count_3-1  count_3-2  inning_3  inning_4  inning_5  \\\n",
       "inning_2                                                                  \n",
       "0          0.017908   0.017707   0.022914  0.126089  0.124551  0.123096   \n",
       "1          0.016248   0.015983   0.021991  0.000000  0.000000  0.000000   \n",
       "\n",
       "          inning_6  inning_7  inning_8  inning_9  \n",
       "inning_2                                          \n",
       "0         0.123674  0.123909  0.122695  0.119656  \n",
       "1         0.000000  0.000000  0.000000  0.000000  \n",
       "\n",
       "[2 rows x 22 columns]"
      ]
     },
     "execution_count": 18,
     "metadata": {},
     "output_type": "execute_result"
    }
   ],
   "source": [
    "xy_df.groupby('inning_2').mean()"
   ]
  },
  {
   "cell_type": "markdown",
   "metadata": {},
   "source": [
    "## Race vs Strike Calls"
   ]
  },
  {
   "cell_type": "code",
   "execution_count": 19,
   "metadata": {},
   "outputs": [
    {
     "data": {
      "text/plain": [
       "Text(0, 0.5, 'Frequency of Strike Call')"
      ]
     },
     "execution_count": 19,
     "metadata": {},
     "output_type": "execute_result"
    },
    {
     "data": {
      "image/png": "[encoded data removed]",
      "text/plain": [
       "<Figure size 432x288 with 1 Axes>"
      ]
     },
     "metadata": {
      "needs_background": "light"
     },
     "output_type": "display_data"
    }
   ],
   "source": [
    "%matplotlib inline\n",
    "pd.crosstab(xy_df.upm,xy_df.strike_given_called).plot(kind='bar')\n",
    "plt.title('Strike Call Frequency for Ump & Pitcher Races')\n",
    "plt.xlabel('Same Ump & Pitcher Race')\n",
    "plt.ylabel('Frequency of Strike Call')"
   ]
  },
  {
   "cell_type": "code",
   "execution_count": 32,
   "metadata": {},
   "outputs": [
    {
     "data": {
      "image/png": "[encoded data removed]",
      "text/plain": [
       "<Figure size 432x288 with 1 Axes>"
      ]
     },
     "metadata": {
      "needs_background": "light"
     },
     "output_type": "display_data"
    }
   ],
   "source": [
    "table=pd.crosstab(xy_df.upm,xy_df.strike_given_called)\n",
    "table.div(table.sum(1).astype(float), axis=0).plot(kind='bar', stacked=True)\n",
    "plt.title('Stacked Bar Chart of Race vs Strikes Called')\n",
    "plt.xlabel('Same Ump & Pitcher')\n",
    "plt.ylabel('Proportion of Called Pitches')\n",
    "plt.savefig('proportion_calls', bbox_inches='tight')"
   ]
  },
  {
   "cell_type": "markdown",
   "metadata": {},
   "source": [
    "### Observations\n",
    "- Whether the umpire and pitcher are the same race does not seem like a strong predictor for called strikes based on the visualization."
   ]
  },
  {
   "cell_type": "markdown",
   "metadata": {},
   "source": [
    "## Home/Away vs Strike Calls"
   ]
  },
  {
   "cell_type": "code",
   "execution_count": 21,
   "metadata": {},
   "outputs": [
    {
     "data": {
      "text/plain": [
       "Text(0, 0.5, 'Frequency of Strike Call')"
      ]
     },
     "execution_count": 21,
     "metadata": {},
     "output_type": "execute_result"
    },
    {
     "data": {
      "image/png": "[encoded data removed]",
      "text/plain": [
       "<Figure size 432x288 with 1 Axes>"
      ]
     },
     "metadata": {
      "needs_background": "light"
     },
     "output_type": "display_data"
    }
   ],
   "source": [
    "%matplotlib inline\n",
    "pd.crosstab(xy_df.home_pitcher,xy_df.strike_given_called).plot(kind='bar')\n",
    "plt.title('Strike Call Frequency for Home/Away')\n",
    "plt.xlabel('Pitching at Home')\n",
    "plt.ylabel('Frequency of Strike Call')"
   ]
  },
  {
   "cell_type": "code",
   "execution_count": 22,
   "metadata": {
    "scrolled": true
   },
   "outputs": [
    {
     "data": {
      "text/plain": [
       "Text(0, 0.5, 'Proportion of Called Pitches')"
      ]
     },
     "execution_count": 22,
     "metadata": {},
     "output_type": "execute_result"
    },
    {
     "data": {
      "image/png": "[encoded data removed]",
      "text/plain": [
       "<Figure size 432x288 with 1 Axes>"
      ]
     },
     "metadata": {
      "needs_background": "light"
     },
     "output_type": "display_data"
    }
   ],
   "source": [
    "table=pd.crosstab(xy_df.home_pitcher,xy_df.strike_given_called)\n",
    "table.div(table.sum(1).astype(float), axis=0).plot(kind='bar', stacked=True)\n",
    "plt.title('Stacked Bar Chart of Home/Away vs Strikes Called')\n",
    "plt.xlabel('Pitching at Home')\n",
    "plt.ylabel('Proportion of Called Pitches')"
   ]
  },
  {
   "cell_type": "markdown",
   "metadata": {},
   "source": [
    "### Observations\n",
    "- Whether the pitcher is at home or not does not seem like a strong predictor for called strikes based on the visualization."
   ]
  },
  {
   "cell_type": "markdown",
   "metadata": {},
   "source": [
    "# Over-sampling Using SMOTE\n",
    "To balance the training data."
   ]
  },
  {
   "cell_type": "code",
   "execution_count": null,
   "metadata": {},
   "outputs": [],
   "source": [
    "X = xy_df.loc[:, xy_df.columns != 'strike_given_called']\n",
    "y = xy_df.loc[:, xy_df.columns == 'strike_given_called']\n",
    "# from imblearn.over_sampling import SMOTE\n",
    "os = SMOTE(random_state=0)\n",
    "X_train, X_test, y_train, y_test = train_test_split(X, y, test_size=0.3, random_state=0)\n",
    "columns = X_train.columns\n",
    "os_data_X,os_data_y=os.fit_sample(X_train, y_train)\n",
    "os_data_X = pd.DataFrame(data=os_data_X,columns=columns )\n",
    "os_data_y= pd.DataFrame(data=os_data_y,columns=['strike_given_called'])\n",
    "# we can Check the numbers of our data\n",
    "print(\"length of oversampled data is \",len(os_data_X))\n",
    "print(\"Number of ball calls in oversampled data\",len(os_data_y[os_data_y['strike_given_called']==0]))\n",
    "print(\"Number of strike calls\",len(os_data_y[os_data_y['strike_given_called']==1]))\n",
    "print(\"Proportion of ball calls data in oversampled data is \",len(os_data_y[os_data_y['strike_given_called']==0])/len(os_data_X))\n",
    "print(\"Proportion of strike calls data in oversampled data is \",len(os_data_y[os_data_y['strike_given_called']==1])/len(os_data_X))"
   ]
  },
  {
   "cell_type": "markdown",
   "metadata": {},
   "source": [
    "# Recursive Feature Elimination\n",
    "Repeatedly construct a model and choose either the best or worst performing feature, setting the feature aside and then repeating the process with the rest of the features.\n",
    "\n",
    "In this case, 5 features are choosen."
   ]
  },
  {
   "cell_type": "code",
   "execution_count": null,
   "metadata": {
    "scrolled": false
   },
   "outputs": [],
   "source": [
    "xy_df_vars=xy_df.columns.values.tolist()\n",
    "y=['strike_given_called']\n",
    "X=[i for i in xy_df_vars if i not in y]\n",
    "# from sklearn.feature_selection import RFE\n",
    "# from sklearn.linear_model import LogisticRegression\n",
    "logreg = LogisticRegression(fit_intercept=True)\n",
    "rfe = RFE(logreg, 5)\n",
    "rfe = rfe.fit(os_data_X, os_data_y.values.ravel())\n",
    "print(rfe.support_)\n",
    "print(rfe.ranking_)"
   ]
  },
  {
   "cell_type": "code",
   "execution_count": null,
   "metadata": {},
   "outputs": [],
   "source": []
  },
  {
   "cell_type": "markdown",
   "metadata": {},
   "source": [
    "### Observations\n",
    "The RFE has helped us select the following features:\n",
    "'count_0-1', 'count_0-2', 'count_1-2', 'count_2-2', 'count_3-2'.\n",
    "\n",
    "These counts may be significant because a 0-2 count is uncommon suggesting that the umpire is more likely to call a ball on a 0-1 count. The other counts are terminal counts.\n",
    "\n",
    "'upm' was determined not to be a high performing feature and removed. However, we can keep it to test our hypothesis."
   ]
  },
  {
   "cell_type": "code",
   "execution_count": null,
   "metadata": {},
   "outputs": [],
   "source": [
    "cols=['upm', 'count_0-1', 'count_0-2', 'count_1-2', 'count_2-2', 'count_3-2'] \n",
    "X=os_data_X[cols]\n",
    "y=os_data_y['strike_given_called']"
   ]
  },
  {
   "cell_type": "markdown",
   "metadata": {},
   "source": [
    "# Implementing the model"
   ]
  },
  {
   "cell_type": "code",
   "execution_count": null,
   "metadata": {},
   "outputs": [],
   "source": [
    "# import statsmodels.api as sm\n",
    "X = sm.add_constant(X)\n",
    "\n",
    "logit_model=sm.Logit(y,X)\n",
    "result=logit_model.fit()\n",
    "print(result.summary2())"
   ]
  },
  {
   "cell_type": "markdown",
   "metadata": {},
   "source": [
    "# Logistic Regression Model Fitting"
   ]
  },
  {
   "cell_type": "code",
   "execution_count": null,
   "metadata": {},
   "outputs": [],
   "source": [
    "# from sklearn.linear_model import LogisticRegression\n",
    "# from sklearn import metrics\n",
    "X_train, X_test, y_train, y_test = train_test_split(X, y, test_size=0.3, random_state=0)\n",
    "logreg = LogisticRegression()\n",
    "logreg.fit(X_train, y_train)"
   ]
  },
  {
   "cell_type": "markdown",
   "metadata": {},
   "source": [
    "### Predicting the test set results and calculating the accuracy"
   ]
  },
  {
   "cell_type": "code",
   "execution_count": null,
   "metadata": {},
   "outputs": [],
   "source": [
    "y_pred = logreg.predict(X_test)\n",
    "print('Accuracy of logistic regression classifier on test set: {:.2f}'.format(logreg.score(X_test, y_test)))"
   ]
  },
  {
   "cell_type": "code",
   "execution_count": null,
   "metadata": {},
   "outputs": [],
   "source": [
    "# from sklearn.metrics import classification_report\n",
    "print(classification_report(y_test, y_pred))"
   ]
  },
  {
   "cell_type": "code",
   "execution_count": null,
   "metadata": {},
   "outputs": [],
   "source": []
  }
 ],
 "metadata": {
  "kernelspec": {
   "display_name": "Python 3",
   "language": "python",
   "name": "python3"
  },
  "language_info": {
   "codemirror_mode": {
    "name": "ipython",
    "version": 3
   },
   "file_extension": ".py",
   "mimetype": "text/x-python",
   "name": "python",
   "nbconvert_exporter": "python",
   "pygments_lexer": "ipython3",
   "version": "3.7.1"
  }
 },
 "nbformat": 4,
 "nbformat_minor": 2
}
