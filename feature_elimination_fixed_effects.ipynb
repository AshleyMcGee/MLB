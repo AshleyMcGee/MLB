{
 "cells": [
  {
   "cell_type": "code",
   "execution_count": 8,
   "metadata": {},
   "outputs": [],
   "source": [
    "import pandas as pd\n",
    "import numpy as np\n",
    "\n",
    "# Tools for recursive feature selection\n",
    "from sklearn.linear_model import LogisticRegression\n",
    "from sklearn.feature_selection import RFE\n",
    "\n",
    "# Tools for fitting logistic regression and getting p-values\n",
    "import statsmodels.api as sm\n",
    "\n",
    "# For plotting\n",
    "import matplotlib.pyplot as plt\n",
    "\n",
    "# Our local, useful functions\n",
    "from baseball_utils import *"
   ]
  },
  {
   "cell_type": "code",
   "execution_count": 2,
   "metadata": {},
   "outputs": [],
   "source": [
    "# Load dataframe\n",
    "cp_df = pd.read_csv(\"cp_merged.csv\")"
   ]
  },
  {
   "cell_type": "markdown",
   "metadata": {},
   "source": [
    "## Feature elimination effects for white umpire"
   ]
  },
  {
   "cell_type": "code",
   "execution_count": 3,
   "metadata": {},
   "outputs": [],
   "source": [
    "white_umpires = cp_df[cp_df.umpire_race == 'white']"
   ]
  },
  {
   "cell_type": "code",
   "execution_count": 4,
   "metadata": {},
   "outputs": [
    {
     "name": "stderr",
     "output_type": "stream",
     "text": [
      "/Users/robertair2019/Desktop/upm/baseball_utils.py:26: SettingWithCopyWarning: \n",
      "A value is trying to be set on a copy of a slice from a DataFrame.\n",
      "Try using .loc[row_indexer,col_indexer] = value instead\n",
      "\n",
      "See the caveats in the documentation: http://pandas.pydata.org/pandas-docs/stable/indexing.html#indexing-view-versus-copy\n",
      "  df['strike_given_called'] = df['strike_given_called'].apply(int)\n",
      "/Users/robertair2019/Desktop/upm/baseball_utils.py:30: SettingWithCopyWarning: \n",
      "A value is trying to be set on a copy of a slice from a DataFrame.\n",
      "Try using .loc[row_indexer,col_indexer] = value instead\n",
      "\n",
      "See the caveats in the documentation: http://pandas.pydata.org/pandas-docs/stable/indexing.html#indexing-view-versus-copy\n",
      "  df['upm'] = df.apply(lambda x: x.pitcher_race==x.umpire_race, axis=1).apply(int)\n"
     ]
    },
    {
     "name": "stdout",
     "output_type": "stream",
     "text": [
      "CPU times: user 32.5 s, sys: 335 ms, total: 32.8 s\n",
      "Wall time: 32.2 s\n"
     ]
    }
   ],
   "source": [
    "%time X, y = prepare_df(white_umpires)"
   ]
  },
  {
   "cell_type": "code",
   "execution_count": 5,
   "metadata": {},
   "outputs": [],
   "source": [
    "ranked_features = rank_features(X, y)"
   ]
  },
  {
   "cell_type": "code",
   "execution_count": 6,
   "metadata": {},
   "outputs": [
    {
     "data": {
      "text/plain": [
       "['count_0-2',\n",
       " 'count_1-2',\n",
       " 'count_2-2',\n",
       " 'count_3-0',\n",
       " 'count_3-2',\n",
       " 'count_0-1',\n",
       " 'count_1-1',\n",
       " 'count_2-1',\n",
       " 'count_3-1',\n",
       " 'count_1-0',\n",
       " 'inning_6',\n",
       " 'inning_4',\n",
       " 'inning_7',\n",
       " 'inning_5',\n",
       " 'inning_8',\n",
       " 'inning_9+',\n",
       " 'home_pitcher',\n",
       " 'inning_3',\n",
       " 'count_2-0',\n",
       " 'run_diff',\n",
       " 'inning_2',\n",
       " 'upm']"
      ]
     },
     "execution_count": 6,
     "metadata": {},
     "output_type": "execute_result"
    }
   ],
   "source": [
    "ranked_features"
   ]
  },
  {
   "cell_type": "code",
   "execution_count": 11,
   "metadata": {
    "scrolled": true
   },
   "outputs": [
    {
     "name": "stdout",
     "output_type": "stream",
     "text": [
      "Fitting 22 variables...\n",
      "Optimization terminated successfully.\n",
      "         Current function value: 0.581129\n",
      "         Iterations 6\n",
      "Beta = 0.005284723250301279; p = 0.2754771485067118\n",
      "Fitting 21 variables...\n",
      "Optimization terminated successfully.\n",
      "         Current function value: 0.581130\n",
      "         Iterations 6\n",
      "Beta = 0.0053008685114982; p = 0.27401162039038596\n",
      "Fitting 20 variables...\n",
      "Optimization terminated successfully.\n",
      "         Current function value: 0.581342\n",
      "         Iterations 6\n",
      "Beta = 0.005502913621090046; p = 0.25603127399434567\n",
      "Fitting 19 variables...\n",
      "Optimization terminated successfully.\n",
      "         Current function value: 0.581346\n",
      "         Iterations 6\n",
      "Beta = 0.005462192759870462; p = 0.25956117157570935\n",
      "Fitting 18 variables...\n",
      "Optimization terminated successfully.\n",
      "         Current function value: 0.581356\n",
      "         Iterations 6\n",
      "Beta = 0.005470113657616598; p = 0.25886545946312467\n",
      "Fitting 17 variables...\n",
      "Optimization terminated successfully.\n",
      "         Current function value: 0.581396\n",
      "         Iterations 6\n",
      "Beta = 0.0055203245780305575; p = 0.25449890590857027\n",
      "Fitting 16 variables...\n",
      "Optimization terminated successfully.\n",
      "         Current function value: 0.581406\n",
      "         Iterations 6\n",
      "Beta = 0.005839230191088411; p = 0.2280268584626013\n",
      "Fitting 15 variables...\n",
      "Optimization terminated successfully.\n",
      "         Current function value: 0.581450\n",
      "         Iterations 6\n",
      "Beta = 0.005422447875064175; p = 0.26292185224962117\n",
      "Fitting 14 variables...\n",
      "Optimization terminated successfully.\n",
      "         Current function value: 0.581485\n",
      "         Iterations 6\n",
      "Beta = 0.005295641455416366; p = 0.27422561336327456\n",
      "Fitting 13 variables...\n",
      "Optimization terminated successfully.\n",
      "         Current function value: 0.581527\n",
      "         Iterations 6\n",
      "Beta = 0.004842802755870638; p = 0.31731793826935173\n",
      "Fitting 12 variables...\n",
      "Optimization terminated successfully.\n",
      "         Current function value: 0.581559\n",
      "         Iterations 6\n",
      "Beta = 0.004733219449033712; p = 0.32837375772872157\n",
      "Fitting 11 variables...\n",
      "Optimization terminated successfully.\n",
      "         Current function value: 0.581634\n",
      "         Iterations 6\n",
      "Beta = 0.0044971360343638075; p = 0.35303073467003043\n",
      "Fitting 10 variables...\n",
      "Optimization terminated successfully.\n",
      "         Current function value: 0.581938\n",
      "         Iterations 6\n",
      "Beta = 0.00473607683176816; p = 0.3278590565967404\n",
      "Fitting 9 variables...\n",
      "Optimization terminated successfully.\n",
      "         Current function value: 0.582076\n",
      "         Iterations 6\n",
      "Beta = 0.004651190830945673; p = 0.33652062879676237\n",
      "Fitting 8 variables...\n",
      "Optimization terminated successfully.\n",
      "         Current function value: 0.583875\n",
      "         Iterations 6\n",
      "Beta = 0.004814150075964441; p = 0.31883478321733105\n",
      "Fitting 7 variables...\n",
      "Optimization terminated successfully.\n",
      "         Current function value: 0.589534\n",
      "         Iterations 6\n",
      "Beta = 0.0038160734257952126; p = 0.4264505278816251\n",
      "Fitting 6 variables...\n",
      "Optimization terminated successfully.\n",
      "         Current function value: 0.598610\n",
      "         Iterations 6\n",
      "Beta = 0.0019575474035738215; p = 0.6803914333307015\n",
      "Fitting 5 variables...\n",
      "Optimization terminated successfully.\n",
      "         Current function value: 0.600511\n",
      "         Iterations 6\n",
      "Beta = 0.002708063699662184; p = 0.5680137613371876\n",
      "Fitting 4 variables...\n",
      "Optimization terminated successfully.\n",
      "         Current function value: 0.603105\n",
      "         Iterations 6\n",
      "Beta = 0.0025539293546720638; p = 0.5891097849923683\n",
      "Fitting 3 variables...\n",
      "Optimization terminated successfully.\n",
      "         Current function value: 0.609688\n",
      "         Iterations 6\n",
      "Beta = 0.0023816022216416456; p = 0.6122473901920491\n",
      "Fitting 2 variables...\n",
      "Optimization terminated successfully.\n",
      "         Current function value: 0.622261\n",
      "         Iterations 6\n",
      "Beta = 0.000874480509449312; p = 0.8507496034553814\n"
     ]
    }
   ],
   "source": [
    "n_features, beta, p = eliminate_features(X, y, ranked_features)"
   ]
  },
  {
   "cell_type": "code",
   "execution_count": 46,
   "metadata": {},
   "outputs": [],
   "source": [
    "def plot_beta(beta, n_features, title, outfile):\n",
    "    plt.figure(figsize=(9,7))\n",
    "    plt.ylim(min(min(beta), 0), max(0,max(beta)))\n",
    "    plt.plot(n_features, beta)\n",
    "    plt.xlabel(\"Number of features\")\n",
    "    plt.ylabel(\"UPM Coefficient\")\n",
    "    plt.xticks(n_features)\n",
    "    plt.title(title)\n",
    "    plt.savefig(outfile)\n",
    "    plt.show()"
   ]
  },
  {
   "cell_type": "code",
   "execution_count": 19,
   "metadata": {
    "scrolled": true
   },
   "outputs": [
    {
     "data": {
      "image/png": "[encoded data removed]",
      "text/plain": [
       "<Figure size 648x504 with 1 Axes>"
      ]
     },
     "metadata": {
      "needs_background": "light"
     },
     "output_type": "display_data"
    }
   ],
   "source": [
    "plot_beta(beta, n_features, \"UPM Coefficient vs N. Features when Umpire is White\", \"upm_vs_n_white_umpire.png\")"
   ]
  },
  {
   "cell_type": "code",
   "execution_count": 32,
   "metadata": {},
   "outputs": [],
   "source": [
    "def plot_pvalues (p, n_features, title, outfile):\n",
    "    plt.figure(figsize=(9,7))\n",
    "    plt.ylim(0,1)\n",
    "    plt.plot(n_features, p)\n",
    "    plt.xlabel(\"Number of features\")\n",
    "    plt.ylabel(\"UPM p-value\")\n",
    "    plt.title(title)\n",
    "    plt.xticks(n_features)\n",
    "    plt.savefig(outfile)"
   ]
  },
  {
   "cell_type": "code",
   "execution_count": 33,
   "metadata": {},
   "outputs": [
    {
     "data": {
      "image/png": "[encoded data removed]",
      "text/plain": [
       "<Figure size 648x504 with 1 Axes>"
      ]
     },
     "metadata": {
      "needs_background": "light"
     },
     "output_type": "display_data"
    }
   ],
   "source": [
    "plot_pvalues(p, n_features, \"p-value vs. N. Features when Umpire is White\", \"p_vs_n_white_umpire.png\")"
   ]
  },
  {
   "cell_type": "code",
   "execution_count": 15,
   "metadata": {},
   "outputs": [
    {
     "data": {
      "text/plain": [
       "0.005284723250301279"
      ]
     },
     "execution_count": 15,
     "metadata": {},
     "output_type": "execute_result"
    }
   ],
   "source": [
    "beta_white = beta[0]\n",
    "beta_white"
   ]
  },
  {
   "cell_type": "code",
   "execution_count": 16,
   "metadata": {
    "scrolled": true
   },
   "outputs": [
    {
     "data": {
      "text/plain": [
       "0.2754771485067118"
      ]
     },
     "execution_count": 16,
     "metadata": {},
     "output_type": "execute_result"
    }
   ],
   "source": [
    "p_white = p[0]\n",
    "p_white"
   ]
  },
  {
   "cell_type": "markdown",
   "metadata": {},
   "source": [
    "## Feature elimination effects for black umpire"
   ]
  },
  {
   "cell_type": "code",
   "execution_count": 17,
   "metadata": {},
   "outputs": [],
   "source": [
    "black_umpires = cp_df[cp_df.umpire_race == 'black']"
   ]
  },
  {
   "cell_type": "code",
   "execution_count": 34,
   "metadata": {},
   "outputs": [
    {
     "name": "stdout",
     "output_type": "stream",
     "text": [
      "CPU times: user 2.33 s, sys: 36.2 ms, total: 2.36 s\n",
      "Wall time: 2.32 s\n"
     ]
    }
   ],
   "source": [
    "%time X_black, y_black = prepare_df(black_umpires)"
   ]
  },
  {
   "cell_type": "code",
   "execution_count": 35,
   "metadata": {},
   "outputs": [
    {
     "name": "stdout",
     "output_type": "stream",
     "text": [
      "CPU times: user 2.11 s, sys: 65.3 ms, total: 2.18 s\n",
      "Wall time: 2.2 s\n"
     ]
    }
   ],
   "source": [
    "%time ranked_features = rank_features(X_black, y_black)"
   ]
  },
  {
   "cell_type": "code",
   "execution_count": 36,
   "metadata": {},
   "outputs": [
    {
     "data": {
      "text/plain": [
       "['count_0-2',\n",
       " 'count_1-2',\n",
       " 'count_2-2',\n",
       " 'count_3-2',\n",
       " 'count_0-1',\n",
       " 'count_1-1',\n",
       " 'count_3-0',\n",
       " 'count_2-1',\n",
       " 'count_3-1',\n",
       " 'count_1-0',\n",
       " 'inning_4',\n",
       " 'inning_2',\n",
       " 'inning_3',\n",
       " 'count_2-0',\n",
       " 'upm',\n",
       " 'inning_7',\n",
       " 'inning_6',\n",
       " 'inning_8',\n",
       " 'inning_9+',\n",
       " 'inning_5',\n",
       " 'run_diff',\n",
       " 'home_pitcher']"
      ]
     },
     "execution_count": 36,
     "metadata": {},
     "output_type": "execute_result"
    }
   ],
   "source": [
    "ranked_features"
   ]
  },
  {
   "cell_type": "code",
   "execution_count": 37,
   "metadata": {
    "scrolled": true
   },
   "outputs": [
    {
     "name": "stdout",
     "output_type": "stream",
     "text": [
      "Fitting 22 variables...\n",
      "Optimization terminated successfully.\n",
      "         Current function value: 0.578704\n",
      "         Iterations 6\n",
      "Beta = -0.0675343695363255; p = 0.04903395246543318\n",
      "Fitting 21 variables...\n",
      "Optimization terminated successfully.\n",
      "         Current function value: 0.578704\n",
      "         Iterations 6\n",
      "Beta = -0.06737452819173258; p = 0.049538448501249784\n",
      "Fitting 20 variables...\n",
      "Optimization terminated successfully.\n",
      "         Current function value: 0.578759\n",
      "         Iterations 6\n",
      "Beta = -0.06796976317231496; p = 0.0475370954433381\n",
      "Fitting 19 variables...\n",
      "Optimization terminated successfully.\n",
      "         Current function value: 0.578760\n",
      "         Iterations 6\n",
      "Beta = -0.06801613885516661; p = 0.0473829505205933\n",
      "Fitting 18 variables...\n",
      "Optimization terminated successfully.\n",
      "         Current function value: 0.578761\n",
      "         Iterations 6\n",
      "Beta = -0.06935246210914332; p = 0.04235155662626886\n",
      "Fitting 17 variables...\n",
      "Optimization terminated successfully.\n",
      "         Current function value: 0.578771\n",
      "         Iterations 6\n",
      "Beta = -0.06967469507132691; p = 0.041394062734145066\n",
      "Fitting 16 variables...\n",
      "Optimization terminated successfully.\n",
      "         Current function value: 0.578785\n",
      "         Iterations 6\n",
      "Beta = -0.0687669978449669; p = 0.04407843685738287\n",
      "Fitting 15 variables...\n",
      "Optimization terminated successfully.\n",
      "         Current function value: 0.578808\n",
      "         Iterations 6\n",
      "Beta = -0.06955120417292536; p = 0.04169260355647445\n",
      "Fitting 14 variables...\n",
      "Optimization terminated successfully.\n",
      "         Current function value: 0.578833\n",
      "         Iterations 6\n",
      "Beta = -0.06921181174873783; p = 0.04268376675182731\n",
      "Fitting 13 variables...\n",
      "Optimization terminated successfully.\n",
      "         Current function value: 0.578909\n",
      "         Iterations 6\n",
      "Beta = -0.07176766013113378; p = 0.035529831373871855\n",
      "Fitting 12 variables...\n",
      "Optimization terminated successfully.\n",
      "         Current function value: 0.578978\n",
      "         Iterations 6\n",
      "Beta = -0.0742084237183909; p = 0.029659665953379186\n",
      "Fitting 11 variables...\n",
      "Optimization terminated successfully.\n",
      "         Current function value: 0.579116\n",
      "         Iterations 6\n",
      "Beta = -0.06993102112023875; p = 0.040308754759824685\n",
      "Fitting 10 variables...\n",
      "Optimization terminated successfully.\n",
      "         Current function value: 0.579373\n",
      "         Iterations 6\n",
      "Beta = -0.07014916839930177; p = 0.03962782605066273\n",
      "Fitting 9 variables...\n",
      "Optimization terminated successfully.\n",
      "         Current function value: 0.579453\n",
      "         Iterations 6\n",
      "Beta = -0.0704491390670629; p = 0.03877266297094701\n",
      "Fitting 8 variables...\n",
      "Optimization terminated successfully.\n",
      "         Current function value: 0.581610\n",
      "         Iterations 6\n",
      "Beta = -0.07030788902734682; p = 0.03866488444089116\n",
      "Fitting 7 variables...\n",
      "Optimization terminated successfully.\n",
      "         Current function value: 0.583175\n",
      "         Iterations 6\n",
      "Beta = -0.06838907429675761; p = 0.0438118186550686\n",
      "Fitting 6 variables...\n",
      "Optimization terminated successfully.\n",
      "         Current function value: 0.590055\n",
      "         Iterations 6\n",
      "Beta = -0.07082118288621542; p = 0.03536761767688668\n",
      "Fitting 5 variables...\n",
      "Optimization terminated successfully.\n",
      "         Current function value: 0.600447\n",
      "         Iterations 6\n",
      "Beta = -0.0570516489134029; p = 0.0867670096070777\n",
      "Fitting 4 variables...\n",
      "Optimization terminated successfully.\n",
      "         Current function value: 0.602353\n",
      "         Iterations 6\n",
      "Beta = -0.05461578064840105; p = 0.10048573460455058\n",
      "Fitting 3 variables...\n",
      "Optimization terminated successfully.\n",
      "         Current function value: 0.609047\n",
      "         Iterations 6\n",
      "Beta = -0.0550699455700808; p = 0.09558382724648536\n",
      "Fitting 2 variables...\n",
      "Optimization terminated successfully.\n",
      "         Current function value: 0.621592\n",
      "         Iterations 6\n",
      "Beta = -0.05080612626176214; p = 0.12028501162733117\n",
      "CPU times: user 8.09 s, sys: 623 ms, total: 8.71 s\n",
      "Wall time: 4.61 s\n"
     ]
    }
   ],
   "source": [
    "%time n_features, beta, p = eliminate_features(X_black, y_black, ranked_features)"
   ]
  },
  {
   "cell_type": "code",
   "execution_count": 47,
   "metadata": {},
   "outputs": [
    {
     "data": {
      "image/png": "[encoded data removed]",
      "text/plain": [
       "<Figure size 648x504 with 1 Axes>"
      ]
     },
     "metadata": {
      "needs_background": "light"
     },
     "output_type": "display_data"
    }
   ],
   "source": [
    "plot_beta(beta, n_features, \"UPM vs N. Features when Umpire is Black\", \"upm_vs_n_black_umpire.png\")"
   ]
  },
  {
   "cell_type": "code",
   "execution_count": 45,
   "metadata": {},
   "outputs": [
    {
     "data": {
      "image/png": "[encoded data removed]",
      "text/plain": [
       "<Figure size 648x504 with 1 Axes>"
      ]
     },
     "metadata": {
      "needs_background": "light"
     },
     "output_type": "display_data"
    }
   ],
   "source": [
    "plot_pvalues(p, n_features, \"p-values vs N. Features when Umpire is Black\", \"p_vs_n_black_umpire.png\")"
   ]
  },
  {
   "cell_type": "code",
   "execution_count": 48,
   "metadata": {},
   "outputs": [],
   "source": [
    "beta_black = beta[0]"
   ]
  },
  {
   "cell_type": "code",
   "execution_count": 49,
   "metadata": {},
   "outputs": [],
   "source": [
    "p_black = p[0]"
   ]
  },
  {
   "cell_type": "markdown",
   "metadata": {},
   "source": [
    "## Feature elimination effects for hispanic umpire"
   ]
  },
  {
   "cell_type": "code",
   "execution_count": 50,
   "metadata": {},
   "outputs": [],
   "source": [
    "hispanic_umpire = cp_df[cp_df.umpire_race == 'hispanic']"
   ]
  },
  {
   "cell_type": "code",
   "execution_count": 51,
   "metadata": {},
   "outputs": [
    {
     "name": "stdout",
     "output_type": "stream",
     "text": [
      "CPU times: user 1.76 s, sys: 19.4 ms, total: 1.78 s\n",
      "Wall time: 1.8 s\n"
     ]
    }
   ],
   "source": [
    "%time X_hispanic, y_hispanic = prepare_df(hispanic_umpire)"
   ]
  },
  {
   "cell_type": "code",
   "execution_count": 52,
   "metadata": {},
   "outputs": [
    {
     "name": "stdout",
     "output_type": "stream",
     "text": [
      "CPU times: user 1.76 s, sys: 61.1 ms, total: 1.82 s\n",
      "Wall time: 1.84 s\n"
     ]
    }
   ],
   "source": [
    "%time ranked_features = rank_features(X_hispanic, y_hispanic)"
   ]
  },
  {
   "cell_type": "code",
   "execution_count": 53,
   "metadata": {
    "scrolled": true
   },
   "outputs": [
    {
     "name": "stdout",
     "output_type": "stream",
     "text": [
      "Fitting 22 variables...\n",
      "Optimization terminated successfully.\n",
      "         Current function value: 0.576493\n",
      "         Iterations 6\n",
      "Beta = -0.0041892206799233975; p = 0.8595409313543707\n",
      "Fitting 21 variables...\n",
      "Optimization terminated successfully.\n",
      "         Current function value: 0.576684\n",
      "         Iterations 6\n",
      "Beta = -0.00392317129230092; p = 0.8683529577985332\n",
      "Fitting 20 variables...\n",
      "Optimization terminated successfully.\n",
      "         Current function value: 0.576701\n",
      "         Iterations 6\n",
      "Beta = -0.00416986417261148; p = 0.8601520526070399\n",
      "Fitting 19 variables...\n",
      "Optimization terminated successfully.\n",
      "         Current function value: 0.576710\n",
      "         Iterations 6\n",
      "Beta = -0.003994959818704232; p = 0.8659561463000154\n",
      "Fitting 18 variables...\n",
      "Optimization terminated successfully.\n",
      "         Current function value: 0.576717\n",
      "         Iterations 6\n",
      "Beta = -0.004289784305280286; p = 0.8561549211229252\n",
      "Fitting 17 variables...\n",
      "Optimization terminated successfully.\n",
      "         Current function value: 0.576731\n",
      "         Iterations 6\n",
      "Beta = -0.003952420767551475; p = 0.8673482053491675\n",
      "Fitting 16 variables...\n",
      "Optimization terminated successfully.\n",
      "         Current function value: 0.576744\n",
      "         Iterations 6\n",
      "Beta = -0.00406663750453583; p = 0.8635493824706814\n",
      "Fitting 15 variables...\n",
      "Optimization terminated successfully.\n",
      "         Current function value: 0.576800\n",
      "         Iterations 6\n",
      "Beta = -0.0041947807937802; p = 0.859280842098665\n",
      "Fitting 14 variables...\n",
      "Optimization terminated successfully.\n",
      "         Current function value: 0.576852\n",
      "         Iterations 6\n",
      "Beta = -0.004206616287978379; p = 0.8588831784330992\n",
      "Fitting 13 variables...\n",
      "Optimization terminated successfully.\n",
      "         Current function value: 0.577024\n",
      "         Iterations 6\n",
      "Beta = -0.005023448670982349; p = 0.8318156704257479\n",
      "Fitting 12 variables...\n",
      "Optimization terminated successfully.\n",
      "         Current function value: 0.577117\n",
      "         Iterations 6\n",
      "Beta = -0.0043314649227527285; p = 0.8546836608990236\n",
      "Fitting 11 variables...\n",
      "Optimization terminated successfully.\n",
      "         Current function value: 0.577336\n",
      "         Iterations 6\n",
      "Beta = -0.004213479552343138; p = 0.8585688099882354\n",
      "Fitting 10 variables...\n",
      "Optimization terminated successfully.\n",
      "         Current function value: 0.577690\n",
      "         Iterations 6\n",
      "Beta = -0.0038769250645827734; p = 0.8697016558282832\n",
      "Fitting 9 variables...\n",
      "Optimization terminated successfully.\n",
      "         Current function value: 0.577960\n",
      "         Iterations 6\n",
      "Beta = -0.003745052243359876; p = 0.8740545333309275\n",
      "Fitting 8 variables...\n",
      "Optimization terminated successfully.\n",
      "         Current function value: 0.579641\n",
      "         Iterations 6\n",
      "Beta = -0.004406919363365852; p = 0.8517409688420821\n",
      "Fitting 7 variables...\n",
      "Optimization terminated successfully.\n",
      "         Current function value: 0.584776\n",
      "         Iterations 6\n",
      "Beta = -0.003977167900690706; p = 0.8652728911434507\n",
      "Fitting 6 variables...\n",
      "Optimization terminated successfully.\n",
      "         Current function value: 0.594281\n",
      "         Iterations 6\n",
      "Beta = -0.002234053224321674; p = 0.9233026004381607\n",
      "Fitting 5 variables...\n",
      "Optimization terminated successfully.\n",
      "         Current function value: 0.595908\n",
      "         Iterations 6\n",
      "Beta = -0.005597672746800507; p = 0.8090326156093606\n",
      "Fitting 4 variables...\n",
      "Optimization terminated successfully.\n",
      "         Current function value: 0.599075\n",
      "         Iterations 6\n",
      "Beta = -0.008404251501292785; p = 0.7157750083117688\n",
      "Fitting 3 variables...\n",
      "Optimization terminated successfully.\n",
      "         Current function value: 0.606587\n",
      "         Iterations 6\n",
      "Beta = -0.011574355684081642; p = 0.6134692012906828\n",
      "Fitting 2 variables...\n",
      "Optimization terminated successfully.\n",
      "         Current function value: 0.619075\n",
      "         Iterations 6\n",
      "Beta = -0.011280404860665736; p = 0.6186949255571326\n",
      "CPU times: user 6.31 s, sys: 575 ms, total: 6.89 s\n",
      "Wall time: 3.64 s\n"
     ]
    }
   ],
   "source": [
    "%time nf, beta, p = eliminate_features(X_hispanic, y_hispanic, ranked_features)"
   ]
  },
  {
   "cell_type": "code",
   "execution_count": 54,
   "metadata": {},
   "outputs": [
    {
     "data": {
      "image/png": "[encoded data removed]",
      "text/plain": [
       "<Figure size 648x504 with 1 Axes>"
      ]
     },
     "metadata": {
      "needs_background": "light"
     },
     "output_type": "display_data"
    }
   ],
   "source": [
    "plot_beta(beta, nf, \"UPM vs N Features when Umpire is Hispanic\", \"upm_vs_n_hispanic_umpire.png\")"
   ]
  },
  {
   "cell_type": "code",
   "execution_count": 55,
   "metadata": {},
   "outputs": [
    {
     "data": {
      "image/png": "[encoded data removed]",
      "text/plain": [
       "<Figure size 648x504 with 1 Axes>"
      ]
     },
     "metadata": {
      "needs_background": "light"
     },
     "output_type": "display_data"
    }
   ],
   "source": [
    "plot_pvalues(p, nf, \"p-value vs N Features when Umpire is Hispanic\", \"p_vs_n_hispanic_umpire.png\")"
   ]
  },
  {
   "cell_type": "markdown",
   "metadata": {},
   "source": [
    "## Feature elimination effects when umpire is not white"
   ]
  },
  {
   "cell_type": "code",
   "execution_count": 60,
   "metadata": {},
   "outputs": [],
   "source": [
    "def white_or_not(r):\n",
    "    if r == 'white':\n",
    "        return 'white'\n",
    "    else:\n",
    "        return 'nonwhite'"
   ]
  },
  {
   "cell_type": "code",
   "execution_count": 61,
   "metadata": {},
   "outputs": [],
   "source": [
    "w_nw_df = cp_df"
   ]
  },
  {
   "cell_type": "code",
   "execution_count": 63,
   "metadata": {},
   "outputs": [],
   "source": [
    "w_nw_df.umpire_race = w_nw_df.umpire_race.apply(white_or_not)"
   ]
  },
  {
   "cell_type": "code",
   "execution_count": 65,
   "metadata": {},
   "outputs": [],
   "source": [
    "w_nw_df.pitcher_race = w_nw_df.pitcher_race.apply(white_or_not)"
   ]
  },
  {
   "cell_type": "code",
   "execution_count": 66,
   "metadata": {},
   "outputs": [
    {
     "data": {
      "text/html": [
       "<div>\n",
       "<style scoped>\n",
       "    .dataframe tbody tr th:only-of-type {\n",
       "        vertical-align: middle;\n",
       "    }\n",
       "\n",
       "    .dataframe tbody tr th {\n",
       "        vertical-align: top;\n",
       "    }\n",
       "\n",
       "    .dataframe thead th {\n",
       "        text-align: right;\n",
       "    }\n",
       "</style>\n",
       "<table border=\"1\" class=\"dataframe\">\n",
       "  <thead>\n",
       "    <tr style=\"text-align: right;\">\n",
       "      <th></th>\n",
       "      <th>count</th>\n",
       "      <th>home_pitcher</th>\n",
       "      <th>inning</th>\n",
       "      <th>run_diff</th>\n",
       "      <th>strike_given_called</th>\n",
       "      <th>pitcher_race</th>\n",
       "      <th>umpire_race</th>\n",
       "    </tr>\n",
       "  </thead>\n",
       "  <tbody>\n",
       "    <tr>\n",
       "      <th>2642</th>\n",
       "      <td>0-0</td>\n",
       "      <td>1</td>\n",
       "      <td>1</td>\n",
       "      <td>0</td>\n",
       "      <td>False</td>\n",
       "      <td>white</td>\n",
       "      <td>nonwhite</td>\n",
       "    </tr>\n",
       "    <tr>\n",
       "      <th>2643</th>\n",
       "      <td>1-0</td>\n",
       "      <td>1</td>\n",
       "      <td>1</td>\n",
       "      <td>0</td>\n",
       "      <td>True</td>\n",
       "      <td>white</td>\n",
       "      <td>nonwhite</td>\n",
       "    </tr>\n",
       "    <tr>\n",
       "      <th>2644</th>\n",
       "      <td>1-1</td>\n",
       "      <td>1</td>\n",
       "      <td>1</td>\n",
       "      <td>0</td>\n",
       "      <td>False</td>\n",
       "      <td>white</td>\n",
       "      <td>nonwhite</td>\n",
       "    </tr>\n",
       "    <tr>\n",
       "      <th>2645</th>\n",
       "      <td>0-1</td>\n",
       "      <td>1</td>\n",
       "      <td>1</td>\n",
       "      <td>0</td>\n",
       "      <td>False</td>\n",
       "      <td>white</td>\n",
       "      <td>nonwhite</td>\n",
       "    </tr>\n",
       "    <tr>\n",
       "      <th>2646</th>\n",
       "      <td>0-0</td>\n",
       "      <td>1</td>\n",
       "      <td>1</td>\n",
       "      <td>0</td>\n",
       "      <td>False</td>\n",
       "      <td>white</td>\n",
       "      <td>nonwhite</td>\n",
       "    </tr>\n",
       "  </tbody>\n",
       "</table>\n",
       "</div>"
      ],
      "text/plain": [
       "     count  home_pitcher  inning  run_diff  strike_given_called pitcher_race  \\\n",
       "2642   0-0             1       1         0                False        white   \n",
       "2643   1-0             1       1         0                 True        white   \n",
       "2644   1-1             1       1         0                False        white   \n",
       "2645   0-1             1       1         0                False        white   \n",
       "2646   0-0             1       1         0                False        white   \n",
       "\n",
       "     umpire_race  \n",
       "2642    nonwhite  \n",
       "2643    nonwhite  \n",
       "2644    nonwhite  \n",
       "2645    nonwhite  \n",
       "2646    nonwhite  "
      ]
     },
     "execution_count": 66,
     "metadata": {},
     "output_type": "execute_result"
    }
   ],
   "source": [
    "nonwhite_umpire = w_nw_df[w_nw_df.umpire_race == 'nonwhite']\n",
    "nonwhite_umpire.head()"
   ]
  },
  {
   "cell_type": "code",
   "execution_count": 67,
   "metadata": {},
   "outputs": [
    {
     "name": "stdout",
     "output_type": "stream",
     "text": [
      "CPU times: user 4.3 s, sys: 48.6 ms, total: 4.35 s\n",
      "Wall time: 4.08 s\n"
     ]
    }
   ],
   "source": [
    "%time X_nonwhite, y_nonwhite = prepare_df(nonwhite_umpire)"
   ]
  },
  {
   "cell_type": "code",
   "execution_count": 68,
   "metadata": {},
   "outputs": [],
   "source": [
    "ranked_features = rank_features(X_nonwhite, y_nonwhite)"
   ]
  },
  {
   "cell_type": "code",
   "execution_count": 69,
   "metadata": {},
   "outputs": [
    {
     "data": {
      "text/plain": [
       "['count_0-2',\n",
       " 'count_1-2',\n",
       " 'count_2-2',\n",
       " 'count_3-0',\n",
       " 'count_3-2',\n",
       " 'count_0-1',\n",
       " 'count_1-1',\n",
       " 'count_2-1',\n",
       " 'count_3-1',\n",
       " 'count_1-0',\n",
       " 'inning_3',\n",
       " 'count_2-0',\n",
       " 'inning_6',\n",
       " 'inning_4',\n",
       " 'inning_8',\n",
       " 'inning_7',\n",
       " 'inning_5',\n",
       " 'inning_9+',\n",
       " 'home_pitcher',\n",
       " 'upm',\n",
       " 'inning_2',\n",
       " 'run_diff']"
      ]
     },
     "execution_count": 69,
     "metadata": {},
     "output_type": "execute_result"
    }
   ],
   "source": [
    "ranked_features"
   ]
  },
  {
   "cell_type": "code",
   "execution_count": 70,
   "metadata": {
    "scrolled": true
   },
   "outputs": [
    {
     "name": "stdout",
     "output_type": "stream",
     "text": [
      "Fitting 22 variables...\n",
      "Optimization terminated successfully.\n",
      "         Current function value: 0.577946\n",
      "         Iterations 6\n",
      "Beta = -0.02373526488655271; p = 0.08765412973912415\n",
      "Fitting 21 variables...\n",
      "Optimization terminated successfully.\n",
      "         Current function value: 0.578056\n",
      "         Iterations 6\n",
      "Beta = -0.02326483514238061; p = 0.09407965954696025\n",
      "Fitting 20 variables...\n",
      "Optimization terminated successfully.\n",
      "         Current function value: 0.578057\n",
      "         Iterations 6\n",
      "Beta = -0.023234616969380357; p = 0.09450340107791404\n",
      "Fitting 19 variables...\n",
      "Optimization terminated successfully.\n",
      "         Current function value: 0.578083\n",
      "         Iterations 6\n",
      "Beta = -0.023469910223820813; p = 0.09119590195145472\n",
      "Fitting 18 variables...\n",
      "Optimization terminated successfully.\n",
      "         Current function value: 0.578096\n",
      "         Iterations 6\n",
      "Beta = -0.024278045098361355; p = 0.08043126992485021\n",
      "Fitting 17 variables...\n",
      "Optimization terminated successfully.\n",
      "         Current function value: 0.578121\n",
      "         Iterations 6\n",
      "Beta = -0.023896019908758174; p = 0.08527979856251315\n",
      "Fitting 16 variables...\n",
      "Optimization terminated successfully.\n",
      "         Current function value: 0.578152\n",
      "         Iterations 6\n",
      "Beta = -0.02332423380065907; p = 0.09297753962585599\n",
      "Fitting 15 variables...\n",
      "Optimization terminated successfully.\n",
      "         Current function value: 0.578178\n",
      "         Iterations 6\n",
      "Beta = -0.02327509941838629; p = 0.09365982501404385\n",
      "Fitting 14 variables...\n",
      "Optimization terminated successfully.\n",
      "         Current function value: 0.578209\n",
      "         Iterations 6\n",
      "Beta = -0.022859614613052578; p = 0.09963309168569179\n",
      "Fitting 13 variables...\n",
      "Optimization terminated successfully.\n",
      "         Current function value: 0.578243\n",
      "         Iterations 6\n",
      "Beta = -0.02259421077763191; p = 0.10360548074031402\n",
      "Fitting 12 variables...\n",
      "Optimization terminated successfully.\n",
      "         Current function value: 0.578260\n",
      "         Iterations 6\n",
      "Beta = -0.02254775262496751; p = 0.10430888465742813\n",
      "Fitting 11 variables...\n",
      "Optimization terminated successfully.\n",
      "         Current function value: 0.578393\n",
      "         Iterations 6\n",
      "Beta = -0.02311057884987377; p = 0.09588860651922182\n",
      "Fitting 10 variables...\n",
      "Optimization terminated successfully.\n",
      "         Current function value: 0.578691\n",
      "         Iterations 6\n",
      "Beta = -0.023051326050121595; p = 0.09661870340586\n",
      "Fitting 9 variables...\n",
      "Optimization terminated successfully.\n",
      "         Current function value: 0.578839\n",
      "         Iterations 6\n",
      "Beta = -0.022995430390783667; p = 0.09736825074958923\n",
      "Fitting 8 variables...\n",
      "Optimization terminated successfully.\n",
      "         Current function value: 0.580782\n",
      "         Iterations 6\n",
      "Beta = -0.022317749208616056; p = 0.10682833961630438\n",
      "Fitting 7 variables...\n",
      "Optimization terminated successfully.\n",
      "         Current function value: 0.586641\n",
      "         Iterations 6\n",
      "Beta = -0.02187127917154396; p = 0.11162460128378561\n",
      "Fitting 6 variables...\n",
      "Optimization terminated successfully.\n",
      "         Current function value: 0.596301\n",
      "         Iterations 6\n",
      "Beta = -0.018121487389878992; p = 0.1829457266078678\n",
      "Fitting 5 variables...\n",
      "Optimization terminated successfully.\n",
      "         Current function value: 0.598022\n",
      "         Iterations 6\n",
      "Beta = -0.018647440328853102; p = 0.16980585635924572\n",
      "Fitting 4 variables...\n",
      "Optimization terminated successfully.\n",
      "         Current function value: 0.600925\n",
      "         Iterations 6\n",
      "Beta = -0.01838946912732268; p = 0.1743070696898128\n",
      "Fitting 3 variables...\n",
      "Optimization terminated successfully.\n",
      "         Current function value: 0.607976\n",
      "         Iterations 6\n",
      "Beta = -0.01921389098679961; p = 0.15301113015681195\n",
      "Fitting 2 variables...\n",
      "Optimization terminated successfully.\n",
      "         Current function value: 0.620497\n",
      "         Iterations 6\n",
      "Beta = -0.017910539313728265; p = 0.1781041540483269\n"
     ]
    }
   ],
   "source": [
    "nf, beta, p = eliminate_features(X_nonwhite, y_nonwhite, ranked_features)"
   ]
  },
  {
   "cell_type": "code",
   "execution_count": 71,
   "metadata": {},
   "outputs": [
    {
     "data": {
      "image/png": "[encoded data removed]",
      "text/plain": [
       "<Figure size 648x504 with 1 Axes>"
      ]
     },
     "metadata": {
      "needs_background": "light"
     },
     "output_type": "display_data"
    }
   ],
   "source": [
    "plot_beta(beta, nf, \"UPM vs. N Features when Umpire is not White\", \"upm_vs_n_nonwhite_umpire.png\")"
   ]
  },
  {
   "cell_type": "code",
   "execution_count": 72,
   "metadata": {},
   "outputs": [
    {
     "data": {
      "image/png": "[encoded data removed]",
      "text/plain": [
       "<Figure size 648x504 with 1 Axes>"
      ]
     },
     "metadata": {
      "needs_background": "light"
     },
     "output_type": "display_data"
    }
   ],
   "source": [
    "plot_pvalues(p, nf, \"p-values vs. N Features when Umpire is not White\", \"p_vs_n_nonwhite_umpire.png\")"
   ]
  },
  {
   "cell_type": "code",
   "execution_count": null,
   "metadata": {},
   "outputs": [],
   "source": []
  }
 ],
 "metadata": {
  "kernelspec": {
   "display_name": "Python 3",
   "language": "python",
   "name": "python3"
  },
  "language_info": {
   "codemirror_mode": {
    "name": "ipython",
    "version": 3
   },
   "file_extension": ".py",
   "mimetype": "text/x-python",
   "name": "python",
   "nbconvert_exporter": "python",
   "pygments_lexer": "ipython3",
   "version": "3.7.1"
  }
 },
 "nbformat": 4,
 "nbformat_minor": 2
}
